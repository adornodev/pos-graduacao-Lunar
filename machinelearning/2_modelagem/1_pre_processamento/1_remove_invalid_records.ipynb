{
 "cells": [
  {
   "cell_type": "markdown",
   "metadata": {},
   "source": [
    "## Imports"
   ]
  },
  {
   "cell_type": "code",
   "execution_count": 3,
   "metadata": {},
   "outputs": [],
   "source": [
    "import pandas as pd\n",
    "import sys, os, importlib\n",
    "from datetime import datetime"
   ]
  },
  {
   "cell_type": "code",
   "execution_count": 4,
   "metadata": {},
   "outputs": [],
   "source": [
    "pd.set_option('display.max_rows', 100)\n",
    "\n",
    "if os.path.join('..','0_funcoes_base') not in sys.path:\n",
    "    sys.path.append(os.path.join('..','0_funcoes_base')) \n",
    "\n",
    "df_manipulator = importlib.import_module('df_manipulator')\n",
    "date_manipulator = importlib.import_module('date_manipulator')\n",
    "file_manipulator = importlib.import_module('file_manipulator')"
   ]
  },
  {
   "cell_type": "markdown",
   "metadata": {},
   "source": [
    "## Dados de configuração"
   ]
  },
  {
   "cell_type": "code",
   "execution_count": 5,
   "metadata": {},
   "outputs": [],
   "source": [
    "input_config = {\n",
    "    'file': {\n",
    "        'ref_dir':'../../1_dados_raw/',\n",
    "        'filename':'export_lunar_20200606.csv',\n",
    "        'delimiter': ';',\n",
    "        'header': ['id', 'speedBumpId','timestamp','x','y','z','lat','lng']\n",
    "    }\n",
    "}\n",
    "\n",
    "output_config = {\n",
    "    'file': {\n",
    "        'ref_dir': './out',\n",
    "        'prefix': '1_',\n",
    "        'delimiter':';',\n",
    "        'with_header': True\n",
    "    }\n",
    "}"
   ]
  },
  {
   "cell_type": "markdown",
   "metadata": {},
   "source": [
    "## Funções"
   ]
  },
  {
   "cell_type": "code",
   "execution_count": 6,
   "metadata": {},
   "outputs": [],
   "source": [
    "def remove_invalid_timestamps(df):\n",
    "    df = df_manipulator.filter_by_dates(df, start_date='2000-01-01', end_date=datetime.utcnow(), format='%Y-%m-%d')\n",
    "    return df\n",
    "\n",
    "def update_timestamp_ticks_to_datetime(df):\n",
    "    df['new_timestamp'] = df.apply(lambda row: date_manipulator.ticks_to_datetime(row.timestamp), axis=1)\n",
    "\n",
    "    df = df_manipulator.remove_column(df, 'timestamp', False)\n",
    "    df.rename(columns={'new_timestamp':'timestamp'},inplace=True)\n",
    "\n",
    "    df_manipulator.set_index(df, 'timestamp', True)\n",
    "    df.sort_index(inplace=True)\n",
    "\n",
    "    return df\n",
    "\n",
    "def remove_invalid_accelerometer_values(df, filter_columns, invalid_value = 0):\n",
    "    _df = df.copy()\n",
    "    \n",
    "    if len(filter_columns) > 0:\n",
    "        for filter_column in filter_columns:\n",
    "            _df = _df[_df[filter_column] != invalid_value]\n",
    "    return _df\n",
    "\n",
    "def remove_duplicated_timestamp(df):\n",
    "    _df = df.copy()\n",
    "\n",
    "    # Set 'timestamp' column as index\n",
    "    if _df.index.name != 'timestamp':\n",
    "        _df.set_index('timestamp', inplace=True)\n",
    "    \n",
    "    # Put duplicated timestamp with speedBump event to last occurrence\n",
    "    _df.sort_values(by=['timestamp', 'speedBumpId'], inplace=True)\n",
    "\n",
    "    # Remove duplicated timestamp\n",
    "    _df = _df.loc[~_df.index.duplicated(keep='last')]\n",
    "\n",
    "    return _df"
   ]
  },
  {
   "cell_type": "markdown",
   "metadata": {},
   "source": [
    "## Carrega dataframe bruto"
   ]
  },
  {
   "cell_type": "code",
   "execution_count": 7,
   "metadata": {},
   "outputs": [],
   "source": [
    "df = df_manipulator.load_dataframe(input_config['file']['filename'], input_config['file']['ref_dir'], input_config['file']['delimiter'], input_config['file']['header'])"
   ]
  },
  {
   "cell_type": "markdown",
   "metadata": {},
   "source": [
    "## Dataframe bruto"
   ]
  },
  {
   "cell_type": "code",
   "execution_count": 8,
   "metadata": {},
   "outputs": [
    {
     "output_type": "execute_result",
     "data": {
      "text/plain": "0    1352\nName: speedBumpId, dtype: int64"
     },
     "metadata": {},
     "execution_count": 8
    }
   ],
   "source": [
    "df.speedBumpId.value_counts()"
   ]
  },
  {
   "cell_type": "code",
   "execution_count": 9,
   "metadata": {},
   "outputs": [
    {
     "output_type": "execute_result",
     "data": {
      "text/plain": "                                        id  speedBumpId      timestamp  \\\n0     60e2430c-3460-4710-bbd7-5c5e8f615a06            0  1591439988292   \n1     b7d0f823-e3f0-47cb-a852-f903871da96c            0  1591439988489   \n2     e715ebe0-31e5-4b55-af0f-577b0e24e657            0  1591439988590   \n3     b6b55f66-c874-4a8b-98aa-ccee60dc7cdf            0  1591439988690   \n4     3dc60d1f-6ce4-4e73-b99d-ce89cdf334ee            0  1591439988793   \n...                                    ...          ...            ...   \n1347  385c5e83-d5b8-407a-8c23-7959ee267794            0  1591440198096   \n1348  1ec0d72c-0edb-4659-a274-50e2d95b1383            0  1591440198197   \n1349  3a0fa63c-cfa3-4f4f-ba07-b58ffdea3fa9            0  1591440198298   \n1350  5b6d821c-14b3-452d-b72d-243b7b7e931c            0  1591440198499   \n1351  9ea4fbaf-3580-4d84-a6dd-1200aed768ea            0  1591440198599   \n\n             x          y         z        lat        lng  \n0    -1.850143   9.758026  0.072815 -22.926679 -42.485770  \n1    -2.331390  10.428391 -0.674179 -22.926679 -42.485770  \n2    -1.682556  10.327835 -0.714890 -22.926679 -42.485770  \n3    -1.876480   9.937592  0.518127 -22.926679 -42.485770  \n4    -1.625092   9.683792  1.226822 -22.926679 -42.485770  \n...        ...        ...       ...        ...        ...  \n1347 -2.431946   9.611969  1.243576 -22.922163 -42.474801  \n1348 -2.372086   9.506622  1.439896 -22.922163 -42.474801  \n1349 -1.617905   9.518600  1.585938 -22.922163 -42.474801  \n1350  0.261536   9.753235  1.535660 -22.922163 -42.474801  \n1351  0.481812   9.798721  1.411163 -22.922163 -42.474801  \n\n[1352 rows x 8 columns]",
      "text/html": "<div>\n<style scoped>\n    .dataframe tbody tr th:only-of-type {\n        vertical-align: middle;\n    }\n\n    .dataframe tbody tr th {\n        vertical-align: top;\n    }\n\n    .dataframe thead th {\n        text-align: right;\n    }\n</style>\n<table border=\"1\" class=\"dataframe\">\n  <thead>\n    <tr style=\"text-align: right;\">\n      <th></th>\n      <th>id</th>\n      <th>speedBumpId</th>\n      <th>timestamp</th>\n      <th>x</th>\n      <th>y</th>\n      <th>z</th>\n      <th>lat</th>\n      <th>lng</th>\n    </tr>\n  </thead>\n  <tbody>\n    <tr>\n      <th>0</th>\n      <td>60e2430c-3460-4710-bbd7-5c5e8f615a06</td>\n      <td>0</td>\n      <td>1591439988292</td>\n      <td>-1.850143</td>\n      <td>9.758026</td>\n      <td>0.072815</td>\n      <td>-22.926679</td>\n      <td>-42.485770</td>\n    </tr>\n    <tr>\n      <th>1</th>\n      <td>b7d0f823-e3f0-47cb-a852-f903871da96c</td>\n      <td>0</td>\n      <td>1591439988489</td>\n      <td>-2.331390</td>\n      <td>10.428391</td>\n      <td>-0.674179</td>\n      <td>-22.926679</td>\n      <td>-42.485770</td>\n    </tr>\n    <tr>\n      <th>2</th>\n      <td>e715ebe0-31e5-4b55-af0f-577b0e24e657</td>\n      <td>0</td>\n      <td>1591439988590</td>\n      <td>-1.682556</td>\n      <td>10.327835</td>\n      <td>-0.714890</td>\n      <td>-22.926679</td>\n      <td>-42.485770</td>\n    </tr>\n    <tr>\n      <th>3</th>\n      <td>b6b55f66-c874-4a8b-98aa-ccee60dc7cdf</td>\n      <td>0</td>\n      <td>1591439988690</td>\n      <td>-1.876480</td>\n      <td>9.937592</td>\n      <td>0.518127</td>\n      <td>-22.926679</td>\n      <td>-42.485770</td>\n    </tr>\n    <tr>\n      <th>4</th>\n      <td>3dc60d1f-6ce4-4e73-b99d-ce89cdf334ee</td>\n      <td>0</td>\n      <td>1591439988793</td>\n      <td>-1.625092</td>\n      <td>9.683792</td>\n      <td>1.226822</td>\n      <td>-22.926679</td>\n      <td>-42.485770</td>\n    </tr>\n    <tr>\n      <th>...</th>\n      <td>...</td>\n      <td>...</td>\n      <td>...</td>\n      <td>...</td>\n      <td>...</td>\n      <td>...</td>\n      <td>...</td>\n      <td>...</td>\n    </tr>\n    <tr>\n      <th>1347</th>\n      <td>385c5e83-d5b8-407a-8c23-7959ee267794</td>\n      <td>0</td>\n      <td>1591440198096</td>\n      <td>-2.431946</td>\n      <td>9.611969</td>\n      <td>1.243576</td>\n      <td>-22.922163</td>\n      <td>-42.474801</td>\n    </tr>\n    <tr>\n      <th>1348</th>\n      <td>1ec0d72c-0edb-4659-a274-50e2d95b1383</td>\n      <td>0</td>\n      <td>1591440198197</td>\n      <td>-2.372086</td>\n      <td>9.506622</td>\n      <td>1.439896</td>\n      <td>-22.922163</td>\n      <td>-42.474801</td>\n    </tr>\n    <tr>\n      <th>1349</th>\n      <td>3a0fa63c-cfa3-4f4f-ba07-b58ffdea3fa9</td>\n      <td>0</td>\n      <td>1591440198298</td>\n      <td>-1.617905</td>\n      <td>9.518600</td>\n      <td>1.585938</td>\n      <td>-22.922163</td>\n      <td>-42.474801</td>\n    </tr>\n    <tr>\n      <th>1350</th>\n      <td>5b6d821c-14b3-452d-b72d-243b7b7e931c</td>\n      <td>0</td>\n      <td>1591440198499</td>\n      <td>0.261536</td>\n      <td>9.753235</td>\n      <td>1.535660</td>\n      <td>-22.922163</td>\n      <td>-42.474801</td>\n    </tr>\n    <tr>\n      <th>1351</th>\n      <td>9ea4fbaf-3580-4d84-a6dd-1200aed768ea</td>\n      <td>0</td>\n      <td>1591440198599</td>\n      <td>0.481812</td>\n      <td>9.798721</td>\n      <td>1.411163</td>\n      <td>-22.922163</td>\n      <td>-42.474801</td>\n    </tr>\n  </tbody>\n</table>\n<p>1352 rows × 8 columns</p>\n</div>"
     },
     "metadata": {},
     "execution_count": 9
    }
   ],
   "source": [
    "df"
   ]
  },
  {
   "cell_type": "markdown",
   "metadata": {},
   "source": [
    "## Detalhes do dataframe bruto"
   ]
  },
  {
   "cell_type": "code",
   "execution_count": 10,
   "metadata": {},
   "outputs": [
    {
     "output_type": "stream",
     "name": "stdout",
     "text": "Shape:\n (1352, 8)\nTypes:\n\nfloat64 :  ['x' 'y' 'z' 'lat' 'lng']\nint64 :  ['speedBumpId' 'timestamp']\nobject :  ['id']\n\n\n\n"
    },
    {
     "output_type": "display_data",
     "data": {
      "text/plain": "             null_sum  null_pct   dtypes  count          mean        median  \\\nid                  0       0.0   object   1352           NaN           NaN   \nlat                 0       0.0  float64   1352 -2.292203e+01 -2.292213e+01   \nlng                 0       0.0  float64   1352 -4.247832e+01 -4.247792e+01   \nspeedBumpId         0       0.0    int64   1352  0.000000e+00  0.000000e+00   \ntimestamp           0       0.0    int64   1352  1.591440e+12  1.591440e+12   \nx                   0       0.0  float64   1352 -1.123985e+00 -1.232437e+00   \ny                   0       0.0  float64   1352  9.682023e+00  9.683792e+00   \nz                   0       0.0  float64   1352  1.185883e+00  1.147812e+00   \n\n                                              min  \\\nid           0054b5b8-4f58-4456-ae0d-2c1dbe41cb58   \nlat                                      -22.9267   \nlng                                      -42.4858   \nspeedBumpId                                     0   \ntimestamp                           1591439988292   \nx                                        -4.56038   \ny                                         7.30635   \nz                                        -2.48898   \n\n                                              max  \nid           fff333dc-429b-46a4-bff8-7efe787d31da  \nlat                                      -22.9172  \nlng                                       -42.474  \nspeedBumpId                                     0  \ntimestamp                           1591440198599  \nx                                         3.13937  \ny                                         12.0972  \nz                                         6.63052  ",
      "text/html": "<div>\n<style scoped>\n    .dataframe tbody tr th:only-of-type {\n        vertical-align: middle;\n    }\n\n    .dataframe tbody tr th {\n        vertical-align: top;\n    }\n\n    .dataframe thead th {\n        text-align: right;\n    }\n</style>\n<table border=\"1\" class=\"dataframe\">\n  <thead>\n    <tr style=\"text-align: right;\">\n      <th></th>\n      <th>null_sum</th>\n      <th>null_pct</th>\n      <th>dtypes</th>\n      <th>count</th>\n      <th>mean</th>\n      <th>median</th>\n      <th>min</th>\n      <th>max</th>\n    </tr>\n  </thead>\n  <tbody>\n    <tr>\n      <th>id</th>\n      <td>0</td>\n      <td>0.0</td>\n      <td>object</td>\n      <td>1352</td>\n      <td>NaN</td>\n      <td>NaN</td>\n      <td>0054b5b8-4f58-4456-ae0d-2c1dbe41cb58</td>\n      <td>fff333dc-429b-46a4-bff8-7efe787d31da</td>\n    </tr>\n    <tr>\n      <th>lat</th>\n      <td>0</td>\n      <td>0.0</td>\n      <td>float64</td>\n      <td>1352</td>\n      <td>-2.292203e+01</td>\n      <td>-2.292213e+01</td>\n      <td>-22.9267</td>\n      <td>-22.9172</td>\n    </tr>\n    <tr>\n      <th>lng</th>\n      <td>0</td>\n      <td>0.0</td>\n      <td>float64</td>\n      <td>1352</td>\n      <td>-4.247832e+01</td>\n      <td>-4.247792e+01</td>\n      <td>-42.4858</td>\n      <td>-42.474</td>\n    </tr>\n    <tr>\n      <th>speedBumpId</th>\n      <td>0</td>\n      <td>0.0</td>\n      <td>int64</td>\n      <td>1352</td>\n      <td>0.000000e+00</td>\n      <td>0.000000e+00</td>\n      <td>0</td>\n      <td>0</td>\n    </tr>\n    <tr>\n      <th>timestamp</th>\n      <td>0</td>\n      <td>0.0</td>\n      <td>int64</td>\n      <td>1352</td>\n      <td>1.591440e+12</td>\n      <td>1.591440e+12</td>\n      <td>1591439988292</td>\n      <td>1591440198599</td>\n    </tr>\n    <tr>\n      <th>x</th>\n      <td>0</td>\n      <td>0.0</td>\n      <td>float64</td>\n      <td>1352</td>\n      <td>-1.123985e+00</td>\n      <td>-1.232437e+00</td>\n      <td>-4.56038</td>\n      <td>3.13937</td>\n    </tr>\n    <tr>\n      <th>y</th>\n      <td>0</td>\n      <td>0.0</td>\n      <td>float64</td>\n      <td>1352</td>\n      <td>9.682023e+00</td>\n      <td>9.683792e+00</td>\n      <td>7.30635</td>\n      <td>12.0972</td>\n    </tr>\n    <tr>\n      <th>z</th>\n      <td>0</td>\n      <td>0.0</td>\n      <td>float64</td>\n      <td>1352</td>\n      <td>1.185883e+00</td>\n      <td>1.147812e+00</td>\n      <td>-2.48898</td>\n      <td>6.63052</td>\n    </tr>\n  </tbody>\n</table>\n</div>"
     },
     "metadata": {}
    }
   ],
   "source": [
    "df_manipulator.apply_describe(df)"
   ]
  },
  {
   "cell_type": "markdown",
   "metadata": {},
   "source": [
    "## Remove NaN"
   ]
  },
  {
   "cell_type": "code",
   "execution_count": 11,
   "metadata": {},
   "outputs": [],
   "source": [
    "df_out = df_manipulator.remove_nan(df)"
   ]
  },
  {
   "cell_type": "markdown",
   "metadata": {},
   "source": [
    "## Remove timestamp inválido e muda formato"
   ]
  },
  {
   "cell_type": "code",
   "execution_count": 12,
   "metadata": {},
   "outputs": [],
   "source": [
    "df_out = update_timestamp_ticks_to_datetime(df_out)\n",
    "df_out = remove_invalid_timestamps(df_out)"
   ]
  },
  {
   "cell_type": "markdown",
   "metadata": {},
   "source": [
    "## Remove valores de acelerômetro inválidos"
   ]
  },
  {
   "cell_type": "code",
   "execution_count": 13,
   "metadata": {},
   "outputs": [],
   "source": [
    "df_out = remove_invalid_accelerometer_values(df_out, filter_columns=['x','y','z'], invalid_value=0)"
   ]
  },
  {
   "cell_type": "markdown",
   "metadata": {},
   "source": [
    "## Remove timestamp duplicado"
   ]
  },
  {
   "cell_type": "code",
   "execution_count": 14,
   "metadata": {},
   "outputs": [],
   "source": [
    "df_out = remove_duplicated_timestamp(df_out)"
   ]
  },
  {
   "cell_type": "markdown",
   "metadata": {},
   "source": [
    "## Dataframe filtrado"
   ]
  },
  {
   "cell_type": "code",
   "execution_count": 15,
   "metadata": {},
   "outputs": [
    {
     "output_type": "execute_result",
     "data": {
      "text/plain": "                                                           id  speedBumpId  \\\ntimestamp                                                                    \n2020-06-06 07:39:48.292  60e2430c-3460-4710-bbd7-5c5e8f615a06            0   \n2020-06-06 07:39:48.489  b7d0f823-e3f0-47cb-a852-f903871da96c            0   \n2020-06-06 07:39:48.590  e715ebe0-31e5-4b55-af0f-577b0e24e657            0   \n2020-06-06 07:39:48.690  b6b55f66-c874-4a8b-98aa-ccee60dc7cdf            0   \n2020-06-06 07:39:48.793  3dc60d1f-6ce4-4e73-b99d-ce89cdf334ee            0   \n...                                                       ...          ...   \n2020-06-06 07:43:18.096  385c5e83-d5b8-407a-8c23-7959ee267794            0   \n2020-06-06 07:43:18.197  1ec0d72c-0edb-4659-a274-50e2d95b1383            0   \n2020-06-06 07:43:18.298  3a0fa63c-cfa3-4f4f-ba07-b58ffdea3fa9            0   \n2020-06-06 07:43:18.499  5b6d821c-14b3-452d-b72d-243b7b7e931c            0   \n2020-06-06 07:43:18.599  9ea4fbaf-3580-4d84-a6dd-1200aed768ea            0   \n\n                                x          y         z        lat        lng  \ntimestamp                                                                     \n2020-06-06 07:39:48.292 -1.850143   9.758026  0.072815 -22.926679 -42.485770  \n2020-06-06 07:39:48.489 -2.331390  10.428391 -0.674179 -22.926679 -42.485770  \n2020-06-06 07:39:48.590 -1.682556  10.327835 -0.714890 -22.926679 -42.485770  \n2020-06-06 07:39:48.690 -1.876480   9.937592  0.518127 -22.926679 -42.485770  \n2020-06-06 07:39:48.793 -1.625092   9.683792  1.226822 -22.926679 -42.485770  \n...                           ...        ...       ...        ...        ...  \n2020-06-06 07:43:18.096 -2.431946   9.611969  1.243576 -22.922163 -42.474801  \n2020-06-06 07:43:18.197 -2.372086   9.506622  1.439896 -22.922163 -42.474801  \n2020-06-06 07:43:18.298 -1.617905   9.518600  1.585938 -22.922163 -42.474801  \n2020-06-06 07:43:18.499  0.261536   9.753235  1.535660 -22.922163 -42.474801  \n2020-06-06 07:43:18.599  0.481812   9.798721  1.411163 -22.922163 -42.474801  \n\n[1073 rows x 7 columns]",
      "text/html": "<div>\n<style scoped>\n    .dataframe tbody tr th:only-of-type {\n        vertical-align: middle;\n    }\n\n    .dataframe tbody tr th {\n        vertical-align: top;\n    }\n\n    .dataframe thead th {\n        text-align: right;\n    }\n</style>\n<table border=\"1\" class=\"dataframe\">\n  <thead>\n    <tr style=\"text-align: right;\">\n      <th></th>\n      <th>id</th>\n      <th>speedBumpId</th>\n      <th>x</th>\n      <th>y</th>\n      <th>z</th>\n      <th>lat</th>\n      <th>lng</th>\n    </tr>\n    <tr>\n      <th>timestamp</th>\n      <th></th>\n      <th></th>\n      <th></th>\n      <th></th>\n      <th></th>\n      <th></th>\n      <th></th>\n    </tr>\n  </thead>\n  <tbody>\n    <tr>\n      <th>2020-06-06 07:39:48.292</th>\n      <td>60e2430c-3460-4710-bbd7-5c5e8f615a06</td>\n      <td>0</td>\n      <td>-1.850143</td>\n      <td>9.758026</td>\n      <td>0.072815</td>\n      <td>-22.926679</td>\n      <td>-42.485770</td>\n    </tr>\n    <tr>\n      <th>2020-06-06 07:39:48.489</th>\n      <td>b7d0f823-e3f0-47cb-a852-f903871da96c</td>\n      <td>0</td>\n      <td>-2.331390</td>\n      <td>10.428391</td>\n      <td>-0.674179</td>\n      <td>-22.926679</td>\n      <td>-42.485770</td>\n    </tr>\n    <tr>\n      <th>2020-06-06 07:39:48.590</th>\n      <td>e715ebe0-31e5-4b55-af0f-577b0e24e657</td>\n      <td>0</td>\n      <td>-1.682556</td>\n      <td>10.327835</td>\n      <td>-0.714890</td>\n      <td>-22.926679</td>\n      <td>-42.485770</td>\n    </tr>\n    <tr>\n      <th>2020-06-06 07:39:48.690</th>\n      <td>b6b55f66-c874-4a8b-98aa-ccee60dc7cdf</td>\n      <td>0</td>\n      <td>-1.876480</td>\n      <td>9.937592</td>\n      <td>0.518127</td>\n      <td>-22.926679</td>\n      <td>-42.485770</td>\n    </tr>\n    <tr>\n      <th>2020-06-06 07:39:48.793</th>\n      <td>3dc60d1f-6ce4-4e73-b99d-ce89cdf334ee</td>\n      <td>0</td>\n      <td>-1.625092</td>\n      <td>9.683792</td>\n      <td>1.226822</td>\n      <td>-22.926679</td>\n      <td>-42.485770</td>\n    </tr>\n    <tr>\n      <th>...</th>\n      <td>...</td>\n      <td>...</td>\n      <td>...</td>\n      <td>...</td>\n      <td>...</td>\n      <td>...</td>\n      <td>...</td>\n    </tr>\n    <tr>\n      <th>2020-06-06 07:43:18.096</th>\n      <td>385c5e83-d5b8-407a-8c23-7959ee267794</td>\n      <td>0</td>\n      <td>-2.431946</td>\n      <td>9.611969</td>\n      <td>1.243576</td>\n      <td>-22.922163</td>\n      <td>-42.474801</td>\n    </tr>\n    <tr>\n      <th>2020-06-06 07:43:18.197</th>\n      <td>1ec0d72c-0edb-4659-a274-50e2d95b1383</td>\n      <td>0</td>\n      <td>-2.372086</td>\n      <td>9.506622</td>\n      <td>1.439896</td>\n      <td>-22.922163</td>\n      <td>-42.474801</td>\n    </tr>\n    <tr>\n      <th>2020-06-06 07:43:18.298</th>\n      <td>3a0fa63c-cfa3-4f4f-ba07-b58ffdea3fa9</td>\n      <td>0</td>\n      <td>-1.617905</td>\n      <td>9.518600</td>\n      <td>1.585938</td>\n      <td>-22.922163</td>\n      <td>-42.474801</td>\n    </tr>\n    <tr>\n      <th>2020-06-06 07:43:18.499</th>\n      <td>5b6d821c-14b3-452d-b72d-243b7b7e931c</td>\n      <td>0</td>\n      <td>0.261536</td>\n      <td>9.753235</td>\n      <td>1.535660</td>\n      <td>-22.922163</td>\n      <td>-42.474801</td>\n    </tr>\n    <tr>\n      <th>2020-06-06 07:43:18.599</th>\n      <td>9ea4fbaf-3580-4d84-a6dd-1200aed768ea</td>\n      <td>0</td>\n      <td>0.481812</td>\n      <td>9.798721</td>\n      <td>1.411163</td>\n      <td>-22.922163</td>\n      <td>-42.474801</td>\n    </tr>\n  </tbody>\n</table>\n<p>1073 rows × 7 columns</p>\n</div>"
     },
     "metadata": {},
     "execution_count": 15
    }
   ],
   "source": [
    "df_out"
   ]
  },
  {
   "cell_type": "markdown",
   "metadata": {},
   "source": [
    "## Detalhes do dataframe filtrado"
   ]
  },
  {
   "cell_type": "code",
   "execution_count": 16,
   "metadata": {},
   "outputs": [
    {
     "output_type": "execute_result",
     "data": {
      "text/plain": "0    1073\nName: speedBumpId, dtype: int64"
     },
     "metadata": {},
     "execution_count": 16
    }
   ],
   "source": [
    "df_out.speedBumpId.value_counts()"
   ]
  },
  {
   "cell_type": "code",
   "execution_count": 17,
   "metadata": {},
   "outputs": [
    {
     "output_type": "stream",
     "name": "stdout",
     "text": "Shape:\n (1073, 7)\nTypes:\n\nfloat64 :  ['x' 'y' 'z' 'lat' 'lng']\nobject :  ['id']\nint64 :  ['speedBumpId']\n\n\n\n"
    },
    {
     "output_type": "display_data",
     "data": {
      "text/plain": "             null_sum  null_pct   dtypes  count       mean     median  \\\nid                  0       0.0   object   1073        NaN        NaN   \nlat                 0       0.0  float64   1073 -22.922010 -22.922134   \nlng                 0       0.0  float64   1073 -42.479375 -42.479985   \nspeedBumpId         0       0.0    int64   1073   0.000000   0.000000   \nx                   0       0.0  float64   1073  -1.087616  -1.222870   \ny                   0       0.0  float64   1073   9.676770   9.683792   \nz                   0       0.0  float64   1073   1.327690   1.250763   \n\n                                              min  \\\nid           0054b5b8-4f58-4456-ae0d-2c1dbe41cb58   \nlat                                      -22.9267   \nlng                                      -42.4858   \nspeedBumpId                                     0   \nx                                        -4.56038   \ny                                         7.30635   \nz                                        -2.48898   \n\n                                              max  \nid           fff333dc-429b-46a4-bff8-7efe787d31da  \nlat                                      -22.9172  \nlng                                       -42.474  \nspeedBumpId                                     0  \nx                                         3.13937  \ny                                         12.0972  \nz                                         6.63052  ",
      "text/html": "<div>\n<style scoped>\n    .dataframe tbody tr th:only-of-type {\n        vertical-align: middle;\n    }\n\n    .dataframe tbody tr th {\n        vertical-align: top;\n    }\n\n    .dataframe thead th {\n        text-align: right;\n    }\n</style>\n<table border=\"1\" class=\"dataframe\">\n  <thead>\n    <tr style=\"text-align: right;\">\n      <th></th>\n      <th>null_sum</th>\n      <th>null_pct</th>\n      <th>dtypes</th>\n      <th>count</th>\n      <th>mean</th>\n      <th>median</th>\n      <th>min</th>\n      <th>max</th>\n    </tr>\n  </thead>\n  <tbody>\n    <tr>\n      <th>id</th>\n      <td>0</td>\n      <td>0.0</td>\n      <td>object</td>\n      <td>1073</td>\n      <td>NaN</td>\n      <td>NaN</td>\n      <td>0054b5b8-4f58-4456-ae0d-2c1dbe41cb58</td>\n      <td>fff333dc-429b-46a4-bff8-7efe787d31da</td>\n    </tr>\n    <tr>\n      <th>lat</th>\n      <td>0</td>\n      <td>0.0</td>\n      <td>float64</td>\n      <td>1073</td>\n      <td>-22.922010</td>\n      <td>-22.922134</td>\n      <td>-22.9267</td>\n      <td>-22.9172</td>\n    </tr>\n    <tr>\n      <th>lng</th>\n      <td>0</td>\n      <td>0.0</td>\n      <td>float64</td>\n      <td>1073</td>\n      <td>-42.479375</td>\n      <td>-42.479985</td>\n      <td>-42.4858</td>\n      <td>-42.474</td>\n    </tr>\n    <tr>\n      <th>speedBumpId</th>\n      <td>0</td>\n      <td>0.0</td>\n      <td>int64</td>\n      <td>1073</td>\n      <td>0.000000</td>\n      <td>0.000000</td>\n      <td>0</td>\n      <td>0</td>\n    </tr>\n    <tr>\n      <th>x</th>\n      <td>0</td>\n      <td>0.0</td>\n      <td>float64</td>\n      <td>1073</td>\n      <td>-1.087616</td>\n      <td>-1.222870</td>\n      <td>-4.56038</td>\n      <td>3.13937</td>\n    </tr>\n    <tr>\n      <th>y</th>\n      <td>0</td>\n      <td>0.0</td>\n      <td>float64</td>\n      <td>1073</td>\n      <td>9.676770</td>\n      <td>9.683792</td>\n      <td>7.30635</td>\n      <td>12.0972</td>\n    </tr>\n    <tr>\n      <th>z</th>\n      <td>0</td>\n      <td>0.0</td>\n      <td>float64</td>\n      <td>1073</td>\n      <td>1.327690</td>\n      <td>1.250763</td>\n      <td>-2.48898</td>\n      <td>6.63052</td>\n    </tr>\n  </tbody>\n</table>\n</div>"
     },
     "metadata": {}
    }
   ],
   "source": [
    "df_manipulator.apply_describe(df_out)"
   ]
  },
  {
   "cell_type": "markdown",
   "metadata": {},
   "source": [
    "## Salva o dataframe de saída"
   ]
  },
  {
   "cell_type": "code",
   "execution_count": 18,
   "metadata": {},
   "outputs": [
    {
     "output_type": "stream",
     "name": "stdout",
     "text": "O arquivo ./out/1_export_lunar_20200606.csv foi gerado!\n"
    }
   ],
   "source": [
    "out_filename = file_manipulator.get_out_filename(output_config['file']['prefix'], output_config['file']['ref_dir'], input_config['file']['filename'])\n",
    "\n",
    "df_out.to_csv(out_filename, sep=output_config['file']['delimiter'], header=output_config['file']['with_header'])\n",
    "\n",
    "print(f'O arquivo {out_filename} foi gerado!')"
   ]
  }
 ],
 "metadata": {
  "language_info": {
   "codemirror_mode": {
    "name": "ipython",
    "version": 3
   },
   "file_extension": ".py",
   "mimetype": "text/x-python",
   "name": "python",
   "nbconvert_exporter": "python",
   "pygments_lexer": "ipython3",
   "version": "3.6.9-final"
  },
  "orig_nbformat": 2,
  "kernelspec": {
   "name": "python36964bitvenvvenv15842a2001b14e7c9614d80f05b24238",
   "display_name": "Python 3.6.9 64-bit ('.venv': venv)"
  }
 },
 "nbformat": 4,
 "nbformat_minor": 2
}