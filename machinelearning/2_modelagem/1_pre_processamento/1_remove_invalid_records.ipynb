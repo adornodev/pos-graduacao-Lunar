{
 "cells": [
  {
   "cell_type": "markdown",
   "metadata": {},
   "source": [
    "# Imports"
   ]
  },
  {
   "cell_type": "code",
   "execution_count": 220,
   "metadata": {},
   "outputs": [],
   "source": [
    "import pandas as pd\n",
    "import sys, os, importlib\n",
    "import numpy as np\n",
    "from datetime import datetime"
   ]
  },
  {
   "cell_type": "code",
   "execution_count": 221,
   "metadata": {},
   "outputs": [],
   "source": [
    "pd.set_option('display.max_rows', 100)\n",
    "\n",
    "if os.path.join('..','0_funcoes_base') not in sys.path:\n",
    "    sys.path.append(os.path.join('..','0_funcoes_base')) \n",
    "\n",
    "df_manipulator = importlib.import_module('df_manipulator')\n",
    "date_manipulator = importlib.import_module('date_manipulator')\n",
    "file_manipulator = importlib.import_module('file_manipulator')"
   ]
  },
  {
   "cell_type": "markdown",
   "metadata": {},
   "source": [
    "# Dados de configuração"
   ]
  },
  {
   "cell_type": "code",
   "execution_count": 222,
   "metadata": {},
   "outputs": [],
   "source": [
    "input_config = {\n",
    "    'file': {\n",
    "        'ref_dir':'../../1_dados_raw/',\n",
    "        'filenames':['export_lunar_20200517.csv', 'export_lunar_20200620.csv'],\n",
    "        'delimiter': ';',\n",
    "        'header': ['id', 'speedBumpId','timestamp','x','y','z','lat','lng']\n",
    "    }\n",
    "}\n",
    "\n",
    "output_config = {\n",
    "    'file': {\n",
    "        'ref_dir': './out',\n",
    "        'prefix': '1_',\n",
    "        'delimiter':';',\n",
    "        'with_header': True\n",
    "    },\n",
    "    'speed_bump_after_seconds': 20,\n",
    "    'speed_bump_before_seconds': 10\n",
    "}"
   ]
  },
  {
   "cell_type": "markdown",
   "metadata": {},
   "source": [
    "# Funções"
   ]
  },
  {
   "cell_type": "code",
   "execution_count": 223,
   "metadata": {},
   "outputs": [],
   "source": [
    "def remove_invalid_timestamps(df):\n",
    "    df = df_manipulator.filter_by_dates(df, start_date='2020-01-01', end_date=datetime.utcnow(), format='%Y-%m-%d')\n",
    "    return df\n",
    "\n",
    "def update_timestamp_ticks_to_datetime(df):\n",
    "    df['new_timestamp'] = df.apply(lambda row: date_manipulator.ticks_to_datetime(row.timestamp), axis=1)\n",
    "\n",
    "    df = df_manipulator.remove_column(df, 'timestamp', False)\n",
    "    df.rename(columns={'new_timestamp':'timestamp'},inplace=True)\n",
    "\n",
    "    df_manipulator.set_index(df, 'timestamp', True)\n",
    "    df.sort_index(inplace=True)\n",
    "    return df\n",
    "\n",
    "def remove_invalid_accelerometer_values(df, filtered_columns, invalid_value = 0):\n",
    "    _df = df.copy()\n",
    "    \n",
    "    if len(filtered_columns) > 0:\n",
    "        for filtered_column in filtered_columns:\n",
    "            _df = _df[_df[filtered_column] != invalid_value]\n",
    "    return _df\n",
    "\n",
    "def remove_duplicated_timestamp(df):\n",
    "    _df = df.copy()\n",
    "\n",
    "    # Set 'timestamp' column as index\n",
    "    if _df.index.name != 'timestamp':\n",
    "        _df.set_index('timestamp', inplace=True)\n",
    "    \n",
    "    # Put duplicated timestamp with speedBump event to last occurrence\n",
    "    _df.sort_values(by=['timestamp', 'speedBumpId'], inplace=True)\n",
    "\n",
    "    # Remove duplicated timestamp\n",
    "    _df = _df.loc[~_df.index.duplicated(keep='last')]\n",
    "    return _df"
   ]
  },
  {
   "cell_type": "markdown",
   "metadata": {},
   "source": [
    "# Carrega dataframe bruto"
   ]
  },
  {
   "cell_type": "code",
   "execution_count": 224,
   "metadata": {},
   "outputs": [
    {
     "output_type": "execute_result",
     "data": {
      "text/plain": "                                     id  speedBumpId      timestamp         x  \\\n0  d198e52b-bd5b-424a-8ea5-d391fbdb7b20            0  1589757048346 -3.399200   \n1  a9df8305-e4ed-4530-ab78-e1aa3ca9ffbd            0  1589757048543 -2.987396   \n2  74dedc33-8d9b-4aa6-a352-df1ee9364ed7            0  1589757048743 -4.376038   \n3  4a64f1bf-ea98-49db-baff-d7d08baf2dce            0  1589757048843 -3.698471   \n4  25a3976b-a812-4bf2-a2fe-113d7b01cd11            0  1589757048944 -5.039230   \n5  427b4485-2b4c-496e-b4f4-a8aa82809882            0  1589757049044 -4.332932   \n6  2ae693c7-78a7-409a-bbea-01fdb261fb98            0  1589757049144 -4.457428   \n7  93fa9e78-42f3-4a12-9749-399f589da9ac            0  1589757049245 -5.563553   \n8  f9704728-66b4-443a-8d87-b985409f6ba2            0  1589757049345 -4.095917   \n9  d3ef84b9-fdcd-4c40-b521-189985c69515            0  1589757049547 -4.591507   \n\n           y         z        lat        lng  \n0   9.516205  1.573975 -22.921991 -42.473372  \n1  10.203339  1.291458 -22.921991 -42.473372  \n2   9.746048  1.806213 -22.921991 -42.473372  \n3   9.317490  1.849304 -22.921991 -42.473372  \n4   9.372559  0.522919 -22.921991 -42.473372  \n5  10.064484  0.788681 -22.921991 -42.473372  \n6   8.809921  1.250763 -22.921991 -42.473372  \n7   9.022995  1.456665 -22.921991 -42.473372  \n8   9.188202  1.528488 -22.921991 -42.473372  \n9   9.365372  2.237167 -22.921991 -42.473372  ",
      "text/html": "<div>\n<style scoped>\n    .dataframe tbody tr th:only-of-type {\n        vertical-align: middle;\n    }\n\n    .dataframe tbody tr th {\n        vertical-align: top;\n    }\n\n    .dataframe thead th {\n        text-align: right;\n    }\n</style>\n<table border=\"1\" class=\"dataframe\">\n  <thead>\n    <tr style=\"text-align: right;\">\n      <th></th>\n      <th>id</th>\n      <th>speedBumpId</th>\n      <th>timestamp</th>\n      <th>x</th>\n      <th>y</th>\n      <th>z</th>\n      <th>lat</th>\n      <th>lng</th>\n    </tr>\n  </thead>\n  <tbody>\n    <tr>\n      <th>0</th>\n      <td>d198e52b-bd5b-424a-8ea5-d391fbdb7b20</td>\n      <td>0</td>\n      <td>1589757048346</td>\n      <td>-3.399200</td>\n      <td>9.516205</td>\n      <td>1.573975</td>\n      <td>-22.921991</td>\n      <td>-42.473372</td>\n    </tr>\n    <tr>\n      <th>1</th>\n      <td>a9df8305-e4ed-4530-ab78-e1aa3ca9ffbd</td>\n      <td>0</td>\n      <td>1589757048543</td>\n      <td>-2.987396</td>\n      <td>10.203339</td>\n      <td>1.291458</td>\n      <td>-22.921991</td>\n      <td>-42.473372</td>\n    </tr>\n    <tr>\n      <th>2</th>\n      <td>74dedc33-8d9b-4aa6-a352-df1ee9364ed7</td>\n      <td>0</td>\n      <td>1589757048743</td>\n      <td>-4.376038</td>\n      <td>9.746048</td>\n      <td>1.806213</td>\n      <td>-22.921991</td>\n      <td>-42.473372</td>\n    </tr>\n    <tr>\n      <th>3</th>\n      <td>4a64f1bf-ea98-49db-baff-d7d08baf2dce</td>\n      <td>0</td>\n      <td>1589757048843</td>\n      <td>-3.698471</td>\n      <td>9.317490</td>\n      <td>1.849304</td>\n      <td>-22.921991</td>\n      <td>-42.473372</td>\n    </tr>\n    <tr>\n      <th>4</th>\n      <td>25a3976b-a812-4bf2-a2fe-113d7b01cd11</td>\n      <td>0</td>\n      <td>1589757048944</td>\n      <td>-5.039230</td>\n      <td>9.372559</td>\n      <td>0.522919</td>\n      <td>-22.921991</td>\n      <td>-42.473372</td>\n    </tr>\n    <tr>\n      <th>5</th>\n      <td>427b4485-2b4c-496e-b4f4-a8aa82809882</td>\n      <td>0</td>\n      <td>1589757049044</td>\n      <td>-4.332932</td>\n      <td>10.064484</td>\n      <td>0.788681</td>\n      <td>-22.921991</td>\n      <td>-42.473372</td>\n    </tr>\n    <tr>\n      <th>6</th>\n      <td>2ae693c7-78a7-409a-bbea-01fdb261fb98</td>\n      <td>0</td>\n      <td>1589757049144</td>\n      <td>-4.457428</td>\n      <td>8.809921</td>\n      <td>1.250763</td>\n      <td>-22.921991</td>\n      <td>-42.473372</td>\n    </tr>\n    <tr>\n      <th>7</th>\n      <td>93fa9e78-42f3-4a12-9749-399f589da9ac</td>\n      <td>0</td>\n      <td>1589757049245</td>\n      <td>-5.563553</td>\n      <td>9.022995</td>\n      <td>1.456665</td>\n      <td>-22.921991</td>\n      <td>-42.473372</td>\n    </tr>\n    <tr>\n      <th>8</th>\n      <td>f9704728-66b4-443a-8d87-b985409f6ba2</td>\n      <td>0</td>\n      <td>1589757049345</td>\n      <td>-4.095917</td>\n      <td>9.188202</td>\n      <td>1.528488</td>\n      <td>-22.921991</td>\n      <td>-42.473372</td>\n    </tr>\n    <tr>\n      <th>9</th>\n      <td>d3ef84b9-fdcd-4c40-b521-189985c69515</td>\n      <td>0</td>\n      <td>1589757049547</td>\n      <td>-4.591507</td>\n      <td>9.365372</td>\n      <td>2.237167</td>\n      <td>-22.921991</td>\n      <td>-42.473372</td>\n    </tr>\n  </tbody>\n</table>\n</div>"
     },
     "metadata": {},
     "execution_count": 224
    }
   ],
   "source": [
    "df = df_manipulator.load_dataframes(input_config['file']['filenames'], input_config['file']['ref_dir'], input_config['file']['delimiter'], input_config['file']['header'])\n",
    "\n",
    "df.head(10)"
   ]
  },
  {
   "cell_type": "markdown",
   "metadata": {},
   "source": [
    "# Detalhes do dataframe bruto"
   ]
  },
  {
   "cell_type": "code",
   "execution_count": 225,
   "metadata": {},
   "outputs": [
    {
     "output_type": "execute_result",
     "data": {
      "text/plain": "0    24933\n1       91\n2       10\nName: speedBumpId, dtype: int64"
     },
     "metadata": {},
     "execution_count": 225
    }
   ],
   "source": [
    "df.speedBumpId.value_counts()"
   ]
  },
  {
   "cell_type": "code",
   "execution_count": 226,
   "metadata": {},
   "outputs": [
    {
     "output_type": "stream",
     "name": "stdout",
     "text": "Shape:\n (25034, 8)\nTypes:\n\nfloat64 :  ['x' 'y' 'z' 'lat' 'lng']\nint64 :  ['speedBumpId' 'timestamp']\nobject :  ['id']\n\n\n\n"
    },
    {
     "output_type": "display_data",
     "data": {
      "text/plain": "             null_sum  null_pct   dtypes  count          mean        median  \\\nid                  0       0.0   object  25034           NaN           NaN   \nlat                 0       0.0  float64  25034 -2.288493e+01 -2.287186e+01   \nlng                 0       0.0  float64  25034 -4.240036e+01 -4.235508e+01   \nspeedBumpId         0       0.0    int64  25034  4.433970e-03  0.000000e+00   \ntimestamp           0       0.0    int64  25034  1.591377e+12  1.592673e+12   \nx                   0       0.0  float64  25034 -3.993261e-01 -4.040527e-01   \ny                   0       0.0  float64  25034  9.315071e+00  9.367767e+00   \nz                   0       0.0  float64  25034  2.957983e+00  2.759109e+00   \n\n                                              min  \\\nid           0000103f-58f2-4b67-956e-9fc49ea2a845   \nlat                                      -22.9355   \nlng                                      -42.4957   \nspeedBumpId                                     0   \ntimestamp                           1589757048346   \nx                                        -12.7126   \ny                                         3.04707   \nz                                        -11.6588   \n\n                                              max  \nid           fffc405f-2901-45ab-9e6f-1bce809e8977  \nlat                                      -22.8342  \nlng                                      -42.3168  \nspeedBumpId                                     2  \ntimestamp                           1592674891762  \nx                                         5.52878  \ny                                          16.038  \nz                                         15.8889  ",
      "text/html": "<div>\n<style scoped>\n    .dataframe tbody tr th:only-of-type {\n        vertical-align: middle;\n    }\n\n    .dataframe tbody tr th {\n        vertical-align: top;\n    }\n\n    .dataframe thead th {\n        text-align: right;\n    }\n</style>\n<table border=\"1\" class=\"dataframe\">\n  <thead>\n    <tr style=\"text-align: right;\">\n      <th></th>\n      <th>null_sum</th>\n      <th>null_pct</th>\n      <th>dtypes</th>\n      <th>count</th>\n      <th>mean</th>\n      <th>median</th>\n      <th>min</th>\n      <th>max</th>\n    </tr>\n  </thead>\n  <tbody>\n    <tr>\n      <th>id</th>\n      <td>0</td>\n      <td>0.0</td>\n      <td>object</td>\n      <td>25034</td>\n      <td>NaN</td>\n      <td>NaN</td>\n      <td>0000103f-58f2-4b67-956e-9fc49ea2a845</td>\n      <td>fffc405f-2901-45ab-9e6f-1bce809e8977</td>\n    </tr>\n    <tr>\n      <th>lat</th>\n      <td>0</td>\n      <td>0.0</td>\n      <td>float64</td>\n      <td>25034</td>\n      <td>-2.288493e+01</td>\n      <td>-2.287186e+01</td>\n      <td>-22.9355</td>\n      <td>-22.8342</td>\n    </tr>\n    <tr>\n      <th>lng</th>\n      <td>0</td>\n      <td>0.0</td>\n      <td>float64</td>\n      <td>25034</td>\n      <td>-4.240036e+01</td>\n      <td>-4.235508e+01</td>\n      <td>-42.4957</td>\n      <td>-42.3168</td>\n    </tr>\n    <tr>\n      <th>speedBumpId</th>\n      <td>0</td>\n      <td>0.0</td>\n      <td>int64</td>\n      <td>25034</td>\n      <td>4.433970e-03</td>\n      <td>0.000000e+00</td>\n      <td>0</td>\n      <td>2</td>\n    </tr>\n    <tr>\n      <th>timestamp</th>\n      <td>0</td>\n      <td>0.0</td>\n      <td>int64</td>\n      <td>25034</td>\n      <td>1.591377e+12</td>\n      <td>1.592673e+12</td>\n      <td>1589757048346</td>\n      <td>1592674891762</td>\n    </tr>\n    <tr>\n      <th>x</th>\n      <td>0</td>\n      <td>0.0</td>\n      <td>float64</td>\n      <td>25034</td>\n      <td>-3.993261e-01</td>\n      <td>-4.040527e-01</td>\n      <td>-12.7126</td>\n      <td>5.52878</td>\n    </tr>\n    <tr>\n      <th>y</th>\n      <td>0</td>\n      <td>0.0</td>\n      <td>float64</td>\n      <td>25034</td>\n      <td>9.315071e+00</td>\n      <td>9.367767e+00</td>\n      <td>3.04707</td>\n      <td>16.038</td>\n    </tr>\n    <tr>\n      <th>z</th>\n      <td>0</td>\n      <td>0.0</td>\n      <td>float64</td>\n      <td>25034</td>\n      <td>2.957983e+00</td>\n      <td>2.759109e+00</td>\n      <td>-11.6588</td>\n      <td>15.8889</td>\n    </tr>\n  </tbody>\n</table>\n</div>"
     },
     "metadata": {}
    }
   ],
   "source": [
    "df_manipulator.apply_describe(df)"
   ]
  },
  {
   "cell_type": "markdown",
   "metadata": {},
   "source": [
    "# Remove NaN"
   ]
  },
  {
   "cell_type": "code",
   "execution_count": 227,
   "metadata": {},
   "outputs": [],
   "source": [
    "df_out = df_manipulator.remove_nan(df)"
   ]
  },
  {
   "cell_type": "markdown",
   "metadata": {},
   "source": [
    "# Remove timestamp inválido e muda formato"
   ]
  },
  {
   "cell_type": "code",
   "execution_count": 228,
   "metadata": {},
   "outputs": [],
   "source": [
    "df_out = update_timestamp_ticks_to_datetime(df_out)\n",
    "df_out = remove_invalid_timestamps(df_out)"
   ]
  },
  {
   "cell_type": "markdown",
   "metadata": {},
   "source": [
    "# Remove valores de acelerômetro inválidos"
   ]
  },
  {
   "cell_type": "code",
   "execution_count": 229,
   "metadata": {},
   "outputs": [],
   "source": [
    "df_out = remove_invalid_accelerometer_values(df_out, filtered_columns=['x','y','z'], invalid_value=0)"
   ]
  },
  {
   "cell_type": "markdown",
   "metadata": {},
   "source": [
    "# Remove timestamp duplicado"
   ]
  },
  {
   "cell_type": "code",
   "execution_count": 230,
   "metadata": {},
   "outputs": [],
   "source": [
    "df_out = remove_duplicated_timestamp(df_out)"
   ]
  },
  {
   "cell_type": "markdown",
   "metadata": {},
   "source": [
    "# Remove registros distantes"
   ]
  },
  {
   "cell_type": "code",
   "execution_count": 231,
   "metadata": {},
   "outputs": [],
   "source": [
    "speed_bump_timestamps = df_out.loc[(df_out['speedBumpId'] > 0) & (df_out['speedBumpId'] != df_out['speedBumpId'].shift(-1))].index"
   ]
  },
  {
   "cell_type": "code",
   "execution_count": 232,
   "metadata": {},
   "outputs": [],
   "source": [
    "res = np.zeros(len(df_out['speedBumpId']))\n",
    "\n",
    "i = 0\n",
    "first_speed_bump_before = None\n",
    "for idx, val in df_out['speedBumpId'].iloc[0:].iteritems():\n",
    "\n",
    "    speed_bump_after_idx = np.argmax(speed_bump_timestamps>=idx)\n",
    "    first_speed_bump_after  = speed_bump_timestamps[speed_bump_after_idx]\n",
    "    first_speed_bump_before =  None if speed_bump_after_idx == 0 else speed_bump_timestamps[speed_bump_after_idx-1]\n",
    "    \n",
    "    if (first_speed_bump_after - idx).seconds > output_config['speed_bump_after_seconds'] and (first_speed_bump_before is None or (first_speed_bump_before is not None and (idx - first_speed_bump_before).seconds >= output_config['speed_bump_before_seconds'])):\n",
    "        res[i] = True\n",
    "    else:\n",
    "        res[i] = False\n",
    "    i +=1\n",
    "\n",
    "df_out['far'] = res.astype(bool)\n",
    "df_out = df_out[df_out['far'] != True]\n",
    "df_out.drop(['far'], axis=1, inplace=True)"
   ]
  },
  {
   "cell_type": "markdown",
   "metadata": {},
   "source": [
    "# Detalhes do dataframe filtrado"
   ]
  },
  {
   "cell_type": "code",
   "execution_count": 233,
   "metadata": {},
   "outputs": [
    {
     "output_type": "execute_result",
     "data": {
      "text/plain": "                                                           id  speedBumpId  \\\ntimestamp                                                                    \n2020-05-17 20:14:32.715  b78d7d2f-3fd1-4d81-81ee-d00afc039814            0   \n2020-05-17 20:14:32.816  1c59acca-2bb8-4686-9e93-95aa791f6f70            0   \n2020-05-17 20:14:32.918  de01a2a1-dd19-4081-921f-890907e5ca4d            0   \n2020-05-17 20:14:33.020  8864e0ac-54c0-4b94-b018-cd764c6dcef0            0   \n2020-05-17 20:14:33.218  f609cd0d-603f-4732-affc-517fab1da2d4            0   \n2020-05-17 20:14:33.318  b7ad14ef-2f9b-4086-952c-bc72747d81d4            0   \n2020-05-17 20:14:33.420  6a6758d1-c0b7-4a9d-8d61-ad886cd4d4bf            0   \n2020-05-17 20:14:33.521  8355917c-1c52-4493-9b2f-5f1953eec118            0   \n2020-05-17 20:14:33.621  cc883132-4cac-4753-80a1-9bac47f1d434            0   \n2020-05-17 20:14:33.821  56c4192c-c294-4db4-87f4-cd548d91fe7c            0   \n\n                                x          y         z        lat        lng  \ntimestamp                                                                     \n2020-05-17 20:14:32.715  0.843323   8.838654  3.714386 -22.919592 -42.473961  \n2020-05-17 20:14:32.816 -2.240402  10.248825  3.108658 -22.919592 -42.473961  \n2020-05-17 20:14:32.918 -1.998596  10.842590  2.215622 -22.919592 -42.473961  \n2020-05-17 20:14:33.020 -2.326599   9.702957  2.493347 -22.919592 -42.473961  \n2020-05-17 20:14:33.218 -0.231674   8.345444  2.601089 -22.919592 -42.473961  \n2020-05-17 20:14:33.318 -0.238846   9.590424  3.173294 -22.919592 -42.473961  \n2020-05-17 20:14:33.420  0.017334   8.213760  3.173294 -22.919592 -42.473961  \n2020-05-17 20:14:33.521  0.874451   9.379730  3.443848 -22.919592 -42.473961  \n2020-05-17 20:14:33.621 -0.260391   9.386917  2.984161 -22.919592 -42.473961  \n2020-05-17 20:14:33.821 -1.919586  10.229675  3.017685 -22.919592 -42.473961  ",
      "text/html": "<div>\n<style scoped>\n    .dataframe tbody tr th:only-of-type {\n        vertical-align: middle;\n    }\n\n    .dataframe tbody tr th {\n        vertical-align: top;\n    }\n\n    .dataframe thead th {\n        text-align: right;\n    }\n</style>\n<table border=\"1\" class=\"dataframe\">\n  <thead>\n    <tr style=\"text-align: right;\">\n      <th></th>\n      <th>id</th>\n      <th>speedBumpId</th>\n      <th>x</th>\n      <th>y</th>\n      <th>z</th>\n      <th>lat</th>\n      <th>lng</th>\n    </tr>\n    <tr>\n      <th>timestamp</th>\n      <th></th>\n      <th></th>\n      <th></th>\n      <th></th>\n      <th></th>\n      <th></th>\n      <th></th>\n    </tr>\n  </thead>\n  <tbody>\n    <tr>\n      <th>2020-05-17 20:14:32.715</th>\n      <td>b78d7d2f-3fd1-4d81-81ee-d00afc039814</td>\n      <td>0</td>\n      <td>0.843323</td>\n      <td>8.838654</td>\n      <td>3.714386</td>\n      <td>-22.919592</td>\n      <td>-42.473961</td>\n    </tr>\n    <tr>\n      <th>2020-05-17 20:14:32.816</th>\n      <td>1c59acca-2bb8-4686-9e93-95aa791f6f70</td>\n      <td>0</td>\n      <td>-2.240402</td>\n      <td>10.248825</td>\n      <td>3.108658</td>\n      <td>-22.919592</td>\n      <td>-42.473961</td>\n    </tr>\n    <tr>\n      <th>2020-05-17 20:14:32.918</th>\n      <td>de01a2a1-dd19-4081-921f-890907e5ca4d</td>\n      <td>0</td>\n      <td>-1.998596</td>\n      <td>10.842590</td>\n      <td>2.215622</td>\n      <td>-22.919592</td>\n      <td>-42.473961</td>\n    </tr>\n    <tr>\n      <th>2020-05-17 20:14:33.020</th>\n      <td>8864e0ac-54c0-4b94-b018-cd764c6dcef0</td>\n      <td>0</td>\n      <td>-2.326599</td>\n      <td>9.702957</td>\n      <td>2.493347</td>\n      <td>-22.919592</td>\n      <td>-42.473961</td>\n    </tr>\n    <tr>\n      <th>2020-05-17 20:14:33.218</th>\n      <td>f609cd0d-603f-4732-affc-517fab1da2d4</td>\n      <td>0</td>\n      <td>-0.231674</td>\n      <td>8.345444</td>\n      <td>2.601089</td>\n      <td>-22.919592</td>\n      <td>-42.473961</td>\n    </tr>\n    <tr>\n      <th>2020-05-17 20:14:33.318</th>\n      <td>b7ad14ef-2f9b-4086-952c-bc72747d81d4</td>\n      <td>0</td>\n      <td>-0.238846</td>\n      <td>9.590424</td>\n      <td>3.173294</td>\n      <td>-22.919592</td>\n      <td>-42.473961</td>\n    </tr>\n    <tr>\n      <th>2020-05-17 20:14:33.420</th>\n      <td>6a6758d1-c0b7-4a9d-8d61-ad886cd4d4bf</td>\n      <td>0</td>\n      <td>0.017334</td>\n      <td>8.213760</td>\n      <td>3.173294</td>\n      <td>-22.919592</td>\n      <td>-42.473961</td>\n    </tr>\n    <tr>\n      <th>2020-05-17 20:14:33.521</th>\n      <td>8355917c-1c52-4493-9b2f-5f1953eec118</td>\n      <td>0</td>\n      <td>0.874451</td>\n      <td>9.379730</td>\n      <td>3.443848</td>\n      <td>-22.919592</td>\n      <td>-42.473961</td>\n    </tr>\n    <tr>\n      <th>2020-05-17 20:14:33.621</th>\n      <td>cc883132-4cac-4753-80a1-9bac47f1d434</td>\n      <td>0</td>\n      <td>-0.260391</td>\n      <td>9.386917</td>\n      <td>2.984161</td>\n      <td>-22.919592</td>\n      <td>-42.473961</td>\n    </tr>\n    <tr>\n      <th>2020-05-17 20:14:33.821</th>\n      <td>56c4192c-c294-4db4-87f4-cd548d91fe7c</td>\n      <td>0</td>\n      <td>-1.919586</td>\n      <td>10.229675</td>\n      <td>3.017685</td>\n      <td>-22.919592</td>\n      <td>-42.473961</td>\n    </tr>\n  </tbody>\n</table>\n</div>"
     },
     "metadata": {},
     "execution_count": 233
    }
   ],
   "source": [
    "df_out.head(10)"
   ]
  },
  {
   "cell_type": "code",
   "execution_count": 234,
   "metadata": {},
   "outputs": [
    {
     "output_type": "execute_result",
     "data": {
      "text/plain": "0    18003\n1       91\n2       10\nName: speedBumpId, dtype: int64"
     },
     "metadata": {},
     "execution_count": 234
    }
   ],
   "source": [
    "df_out.speedBumpId.value_counts()"
   ]
  },
  {
   "cell_type": "code",
   "execution_count": 235,
   "metadata": {},
   "outputs": [
    {
     "output_type": "stream",
     "name": "stdout",
     "text": "Shape:\n (18104, 7)\nTypes:\n\nfloat64 :  ['x' 'y' 'z' 'lat' 'lng']\nint64 :  ['speedBumpId']\nobject :  ['id']\n\n\n\n"
    },
    {
     "output_type": "display_data",
     "data": {
      "text/plain": "             null_sum  null_pct   dtypes  count       mean     median  \\\nid                  0       0.0   object  18104        NaN        NaN   \nlat                 0       0.0  float64  18104 -22.887996 -22.872597   \nlng                 0       0.0  float64  18104 -42.407432 -42.359461   \nspeedBumpId         0       0.0    int64  18104   0.006131   0.000000   \nx                   0       0.0  float64  18104  -0.437377  -0.466293   \ny                   0       0.0  float64  18104   9.322921   9.389313   \nz                   0       0.0  float64  18104   2.955087   2.657356   \n\n                                              min  \\\nid           0004aec3-c5a7-4282-82eb-79cb3c18d2a7   \nlat                                      -22.9352   \nlng                                      -42.4957   \nspeedBumpId                                     0   \nx                                        -8.20197   \ny                                         3.04707   \nz                                        -11.6588   \n\n                                              max  \nid           fffc405f-2901-45ab-9e6f-1bce809e8977  \nlat                                      -22.8346  \nlng                                      -42.3168  \nspeedBumpId                                     2  \nx                                         5.52878  \ny                                          16.038  \nz                                         15.6758  ",
      "text/html": "<div>\n<style scoped>\n    .dataframe tbody tr th:only-of-type {\n        vertical-align: middle;\n    }\n\n    .dataframe tbody tr th {\n        vertical-align: top;\n    }\n\n    .dataframe thead th {\n        text-align: right;\n    }\n</style>\n<table border=\"1\" class=\"dataframe\">\n  <thead>\n    <tr style=\"text-align: right;\">\n      <th></th>\n      <th>null_sum</th>\n      <th>null_pct</th>\n      <th>dtypes</th>\n      <th>count</th>\n      <th>mean</th>\n      <th>median</th>\n      <th>min</th>\n      <th>max</th>\n    </tr>\n  </thead>\n  <tbody>\n    <tr>\n      <th>id</th>\n      <td>0</td>\n      <td>0.0</td>\n      <td>object</td>\n      <td>18104</td>\n      <td>NaN</td>\n      <td>NaN</td>\n      <td>0004aec3-c5a7-4282-82eb-79cb3c18d2a7</td>\n      <td>fffc405f-2901-45ab-9e6f-1bce809e8977</td>\n    </tr>\n    <tr>\n      <th>lat</th>\n      <td>0</td>\n      <td>0.0</td>\n      <td>float64</td>\n      <td>18104</td>\n      <td>-22.887996</td>\n      <td>-22.872597</td>\n      <td>-22.9352</td>\n      <td>-22.8346</td>\n    </tr>\n    <tr>\n      <th>lng</th>\n      <td>0</td>\n      <td>0.0</td>\n      <td>float64</td>\n      <td>18104</td>\n      <td>-42.407432</td>\n      <td>-42.359461</td>\n      <td>-42.4957</td>\n      <td>-42.3168</td>\n    </tr>\n    <tr>\n      <th>speedBumpId</th>\n      <td>0</td>\n      <td>0.0</td>\n      <td>int64</td>\n      <td>18104</td>\n      <td>0.006131</td>\n      <td>0.000000</td>\n      <td>0</td>\n      <td>2</td>\n    </tr>\n    <tr>\n      <th>x</th>\n      <td>0</td>\n      <td>0.0</td>\n      <td>float64</td>\n      <td>18104</td>\n      <td>-0.437377</td>\n      <td>-0.466293</td>\n      <td>-8.20197</td>\n      <td>5.52878</td>\n    </tr>\n    <tr>\n      <th>y</th>\n      <td>0</td>\n      <td>0.0</td>\n      <td>float64</td>\n      <td>18104</td>\n      <td>9.322921</td>\n      <td>9.389313</td>\n      <td>3.04707</td>\n      <td>16.038</td>\n    </tr>\n    <tr>\n      <th>z</th>\n      <td>0</td>\n      <td>0.0</td>\n      <td>float64</td>\n      <td>18104</td>\n      <td>2.955087</td>\n      <td>2.657356</td>\n      <td>-11.6588</td>\n      <td>15.6758</td>\n    </tr>\n  </tbody>\n</table>\n</div>"
     },
     "metadata": {}
    }
   ],
   "source": [
    "df_manipulator.apply_describe(df_out)"
   ]
  },
  {
   "cell_type": "markdown",
   "metadata": {},
   "source": [
    "# Salva o dataframe de saída"
   ]
  },
  {
   "cell_type": "code",
   "execution_count": 236,
   "metadata": {},
   "outputs": [
    {
     "output_type": "stream",
     "name": "stdout",
     "text": "O arquivo ./out/1_export_lunar_20200517_20200620.csv foi gerado!\n"
    }
   ],
   "source": [
    "out_filename = file_manipulator.get_out_filename(output_config['file']['prefix'], output_config['file']['ref_dir'], input_config['file']['filenames'])\n",
    "\n",
    "df_out.to_csv(out_filename, sep=output_config['file']['delimiter'], header=output_config['file']['with_header'])\n",
    "\n",
    "print(f'O arquivo {out_filename} foi gerado!')"
   ]
  }
 ],
 "metadata": {
  "language_info": {
   "codemirror_mode": {
    "name": "ipython",
    "version": 3
   },
   "file_extension": ".py",
   "mimetype": "text/x-python",
   "name": "python",
   "nbconvert_exporter": "python",
   "pygments_lexer": "ipython3",
   "version": "3.6.9-final"
  },
  "orig_nbformat": 2,
  "kernelspec": {
   "name": "python36964bitvenvvenv15842a2001b14e7c9614d80f05b24238",
   "display_name": "Python 3.6.9 64-bit ('.venv': venv)"
  }
 },
 "nbformat": 4,
 "nbformat_minor": 2
}