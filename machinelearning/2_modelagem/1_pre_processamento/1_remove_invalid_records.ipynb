{
 "cells": [
  {
   "cell_type": "markdown",
   "metadata": {},
   "source": [
    "## Imports"
   ]
  },
  {
   "cell_type": "code",
   "execution_count": 1,
   "metadata": {},
   "outputs": [],
   "source": [
    "import pandas as pd\n",
    "import sys, os, importlib\n",
    "from datetime import datetime"
   ]
  },
  {
   "cell_type": "code",
   "execution_count": 2,
   "metadata": {},
   "outputs": [],
   "source": [
    "pd.set_option('display.max_rows', 100)\n",
    "\n",
    "if os.path.join('..','0_funcoes_base') not in sys.path:\n",
    "    sys.path.append(os.path.join('..','0_funcoes_base')) \n",
    "\n",
    "df_manipulator = importlib.import_module('df_manipulator')\n",
    "date_manipulator = importlib.import_module('date_manipulator')\n",
    "file_manipulator = importlib.import_module('file_manipulator')"
   ]
  },
  {
   "cell_type": "markdown",
   "metadata": {},
   "source": [
    "## Dados de configuração"
   ]
  },
  {
   "cell_type": "code",
   "execution_count": 3,
   "metadata": {},
   "outputs": [],
   "source": [
    "input_config = {\n",
    "    'file': {\n",
    "        'ref_dir':'../../1_dados_raw/',\n",
    "        'filename':'export_lunar_20200517.csv',\n",
    "        'delimiter': ';',\n",
    "        'header': ['id', 'speedBumpId','timestamp','x','y','z','lat','lng']\n",
    "    }\n",
    "}\n",
    "\n",
    "output_config = {\n",
    "    'file': {\n",
    "        'ref_dir': './out',\n",
    "        'prefix': '1_',\n",
    "        'delimiter':';',\n",
    "        'with_header': True\n",
    "    }\n",
    "}"
   ]
  },
  {
   "cell_type": "markdown",
   "metadata": {},
   "source": [
    "## Funções"
   ]
  },
  {
   "cell_type": "code",
   "execution_count": 21,
   "metadata": {},
   "outputs": [],
   "source": [
    "def remove_invalid_timestamps(df):\n",
    "    df = df_manipulator.filter_by_dates(df, start_date='2000-01-01', end_date=datetime.utcnow(), format='%Y-%m-%d')\n",
    "    return df\n",
    "\n",
    "def update_timestamp_ticks_to_datetime(df):\n",
    "    df['new_timestamp'] = df.apply(lambda row: date_manipulator.ticks_to_datetime(row.timestamp), axis=1)\n",
    "\n",
    "    df = df_manipulator.remove_column(df, 'timestamp', False)\n",
    "    df.rename(columns={'new_timestamp':'timestamp'},inplace=True)\n",
    "\n",
    "    df_manipulator.set_index(df, 'timestamp', True)\n",
    "    df.sort_index(inplace=True)\n",
    "\n",
    "    return df\n",
    "\n",
    "def remove_invalid_accelerometer_values(df, filter_columns, invalid_value = 0):\n",
    "    _df = df.copy()\n",
    "    \n",
    "    if len(filter_columns) > 0:\n",
    "        for filter_column in filter_columns:\n",
    "            _df = _df[_df[filter_column] != invalid_value]\n",
    "    return _df\n",
    "\n",
    "def remove_duplicated_timestamp(df):\n",
    "    _df = df.copy()\n",
    "\n",
    "    # Set 'timestamp' column as index\n",
    "    if _df.index.name != 'timestamp':\n",
    "        _df.set_index('timestamp', inplace=True)\n",
    "    \n",
    "    # Put duplicated timestamp with speedBump event to last occurrence\n",
    "    _df.sort_values(by=['timestamp', 'speedBumpId'], inplace=True)\n",
    "\n",
    "    # Remove duplicated timestamp\n",
    "    _df = _df.loc[~_df.index.duplicated(keep='last')]\n",
    "\n",
    "    return _df"
   ]
  },
  {
   "cell_type": "markdown",
   "metadata": {},
   "source": [
    "## Carrega dataframe bruto"
   ]
  },
  {
   "cell_type": "code",
   "execution_count": 5,
   "metadata": {},
   "outputs": [],
   "source": [
    "df = df_manipulator.load_dataframe(input_config['file']['filename'], input_config['file']['ref_dir'], input_config['file']['delimiter'], input_config['file']['header'])"
   ]
  },
  {
   "cell_type": "markdown",
   "metadata": {},
   "source": [
    "## Dataframe bruto"
   ]
  },
  {
   "cell_type": "code",
   "execution_count": 6,
   "metadata": {},
   "outputs": [
    {
     "output_type": "execute_result",
     "data": {
      "text/plain": "0    11084\n1       42\n2       10\nName: speedBumpId, dtype: int64"
     },
     "metadata": {},
     "execution_count": 6
    }
   ],
   "source": [
    "df.speedBumpId.value_counts()"
   ]
  },
  {
   "cell_type": "code",
   "execution_count": 7,
   "metadata": {},
   "outputs": [
    {
     "output_type": "execute_result",
     "data": {
      "text/plain": "                                         id  speedBumpId      timestamp  \\\n0      d198e52b-bd5b-424a-8ea5-d391fbdb7b20            0  1589757048346   \n1      a9df8305-e4ed-4530-ab78-e1aa3ca9ffbd            0  1589757048543   \n2      74dedc33-8d9b-4aa6-a352-df1ee9364ed7            0  1589757048743   \n3      4a64f1bf-ea98-49db-baff-d7d08baf2dce            0  1589757048843   \n4      25a3976b-a812-4bf2-a2fe-113d7b01cd11            0  1589757048944   \n...                                     ...          ...            ...   \n11131  0f15d4aa-c4c3-40ba-9d1f-1746e938a5eb            0  1589758551161   \n11132  c044a484-bb8b-421b-8cc8-a6ad4713e28f            0  1589758551261   \n11133  c9d94f9a-6211-4198-b39b-70db0ef2e890            0  1589758551361   \n11134  2fa87037-71b8-42e0-bd89-64bff33cfead            0  1589758551461   \n11135  1c157063-30f5-428a-9690-022951e7315b            0  1589758551561   \n\n              x          y         z        lat        lng  \n0     -3.399200   9.516205  1.573975 -22.921991 -42.473372  \n1     -2.987396  10.203339  1.291458 -22.921991 -42.473372  \n2     -4.376038   9.746048  1.806213 -22.921991 -42.473372  \n3     -3.698471   9.317490  1.849304 -22.921991 -42.473372  \n4     -5.039230   9.372559  0.522919 -22.921991 -42.473372  \n...         ...        ...       ...        ...        ...  \n11131  0.386032  10.105179  1.660172 -22.925816 -42.484631  \n11132 -1.378494   9.920822  2.608276 -22.925816 -42.484631  \n11133 -1.215683   9.523392  2.505325 -22.925816 -42.484631  \n11134 -0.435181   8.999054  2.871628 -22.925816 -42.484631  \n11135 -0.969086   9.212143  0.702484 -22.925816 -42.484631  \n\n[11136 rows x 8 columns]",
      "text/html": "<div>\n<style scoped>\n    .dataframe tbody tr th:only-of-type {\n        vertical-align: middle;\n    }\n\n    .dataframe tbody tr th {\n        vertical-align: top;\n    }\n\n    .dataframe thead th {\n        text-align: right;\n    }\n</style>\n<table border=\"1\" class=\"dataframe\">\n  <thead>\n    <tr style=\"text-align: right;\">\n      <th></th>\n      <th>id</th>\n      <th>speedBumpId</th>\n      <th>timestamp</th>\n      <th>x</th>\n      <th>y</th>\n      <th>z</th>\n      <th>lat</th>\n      <th>lng</th>\n    </tr>\n  </thead>\n  <tbody>\n    <tr>\n      <th>0</th>\n      <td>d198e52b-bd5b-424a-8ea5-d391fbdb7b20</td>\n      <td>0</td>\n      <td>1589757048346</td>\n      <td>-3.399200</td>\n      <td>9.516205</td>\n      <td>1.573975</td>\n      <td>-22.921991</td>\n      <td>-42.473372</td>\n    </tr>\n    <tr>\n      <th>1</th>\n      <td>a9df8305-e4ed-4530-ab78-e1aa3ca9ffbd</td>\n      <td>0</td>\n      <td>1589757048543</td>\n      <td>-2.987396</td>\n      <td>10.203339</td>\n      <td>1.291458</td>\n      <td>-22.921991</td>\n      <td>-42.473372</td>\n    </tr>\n    <tr>\n      <th>2</th>\n      <td>74dedc33-8d9b-4aa6-a352-df1ee9364ed7</td>\n      <td>0</td>\n      <td>1589757048743</td>\n      <td>-4.376038</td>\n      <td>9.746048</td>\n      <td>1.806213</td>\n      <td>-22.921991</td>\n      <td>-42.473372</td>\n    </tr>\n    <tr>\n      <th>3</th>\n      <td>4a64f1bf-ea98-49db-baff-d7d08baf2dce</td>\n      <td>0</td>\n      <td>1589757048843</td>\n      <td>-3.698471</td>\n      <td>9.317490</td>\n      <td>1.849304</td>\n      <td>-22.921991</td>\n      <td>-42.473372</td>\n    </tr>\n    <tr>\n      <th>4</th>\n      <td>25a3976b-a812-4bf2-a2fe-113d7b01cd11</td>\n      <td>0</td>\n      <td>1589757048944</td>\n      <td>-5.039230</td>\n      <td>9.372559</td>\n      <td>0.522919</td>\n      <td>-22.921991</td>\n      <td>-42.473372</td>\n    </tr>\n    <tr>\n      <th>...</th>\n      <td>...</td>\n      <td>...</td>\n      <td>...</td>\n      <td>...</td>\n      <td>...</td>\n      <td>...</td>\n      <td>...</td>\n      <td>...</td>\n    </tr>\n    <tr>\n      <th>11131</th>\n      <td>0f15d4aa-c4c3-40ba-9d1f-1746e938a5eb</td>\n      <td>0</td>\n      <td>1589758551161</td>\n      <td>0.386032</td>\n      <td>10.105179</td>\n      <td>1.660172</td>\n      <td>-22.925816</td>\n      <td>-42.484631</td>\n    </tr>\n    <tr>\n      <th>11132</th>\n      <td>c044a484-bb8b-421b-8cc8-a6ad4713e28f</td>\n      <td>0</td>\n      <td>1589758551261</td>\n      <td>-1.378494</td>\n      <td>9.920822</td>\n      <td>2.608276</td>\n      <td>-22.925816</td>\n      <td>-42.484631</td>\n    </tr>\n    <tr>\n      <th>11133</th>\n      <td>c9d94f9a-6211-4198-b39b-70db0ef2e890</td>\n      <td>0</td>\n      <td>1589758551361</td>\n      <td>-1.215683</td>\n      <td>9.523392</td>\n      <td>2.505325</td>\n      <td>-22.925816</td>\n      <td>-42.484631</td>\n    </tr>\n    <tr>\n      <th>11134</th>\n      <td>2fa87037-71b8-42e0-bd89-64bff33cfead</td>\n      <td>0</td>\n      <td>1589758551461</td>\n      <td>-0.435181</td>\n      <td>8.999054</td>\n      <td>2.871628</td>\n      <td>-22.925816</td>\n      <td>-42.484631</td>\n    </tr>\n    <tr>\n      <th>11135</th>\n      <td>1c157063-30f5-428a-9690-022951e7315b</td>\n      <td>0</td>\n      <td>1589758551561</td>\n      <td>-0.969086</td>\n      <td>9.212143</td>\n      <td>0.702484</td>\n      <td>-22.925816</td>\n      <td>-42.484631</td>\n    </tr>\n  </tbody>\n</table>\n<p>11136 rows × 8 columns</p>\n</div>"
     },
     "metadata": {},
     "execution_count": 7
    }
   ],
   "source": [
    "df"
   ]
  },
  {
   "cell_type": "markdown",
   "metadata": {},
   "source": [
    "## Detalhes do dataframe bruto"
   ]
  },
  {
   "cell_type": "code",
   "execution_count": 8,
   "metadata": {},
   "outputs": [
    {
     "output_type": "stream",
     "name": "stdout",
     "text": "Shape:\n (11136, 8)\nTypes:\n\nfloat64 :  ['x' 'y' 'z' 'lat' 'lng']\nint64 :  ['speedBumpId' 'timestamp']\nobject :  ['id']\n\n\n\n"
    },
    {
     "output_type": "display_data",
     "data": {
      "text/plain": "             null_sum  null_pct   dtypes  count          mean        median  \\\nid                  0       0.0   object  11136           NaN           NaN   \nlat                 0       0.0  float64  11136 -2.291595e+01 -2.291711e+01   \nlng                 0       0.0  float64  11136 -4.247970e+01 -4.247697e+01   \nspeedBumpId         0       0.0    int64  11136  5.567529e-03  0.000000e+00   \ntimestamp           0       0.0    int64  11136  1.589758e+12  1.589758e+12   \nx                   0       0.0  float64  11136 -6.641728e-01 -6.338959e-01   \ny                   0       0.0  float64  11136  9.331052e+00  9.379730e+00   \nz                   0       0.0  float64  11136  2.894415e+00  2.696854e+00   \n\n                                              min  \\\nid           0000103f-58f2-4b67-956e-9fc49ea2a845   \nlat                                      -22.9355   \nlng                                      -42.4957   \nspeedBumpId                                     0   \ntimestamp                           1589757048346   \nx                                        -12.7126   \ny                                         3.04707   \nz                                        -8.12733   \n\n                                              max  \nid           ffe9ed07-2030-4a2d-ad61-18af6217f012  \nlat                                      -22.8901  \nlng                                      -42.4683  \nspeedBumpId                                     2  \ntimestamp                           1589758551561  \nx                                         5.52878  \ny                                         15.6933  \nz                                         15.8889  ",
      "text/html": "<div>\n<style scoped>\n    .dataframe tbody tr th:only-of-type {\n        vertical-align: middle;\n    }\n\n    .dataframe tbody tr th {\n        vertical-align: top;\n    }\n\n    .dataframe thead th {\n        text-align: right;\n    }\n</style>\n<table border=\"1\" class=\"dataframe\">\n  <thead>\n    <tr style=\"text-align: right;\">\n      <th></th>\n      <th>null_sum</th>\n      <th>null_pct</th>\n      <th>dtypes</th>\n      <th>count</th>\n      <th>mean</th>\n      <th>median</th>\n      <th>min</th>\n      <th>max</th>\n    </tr>\n  </thead>\n  <tbody>\n    <tr>\n      <th>id</th>\n      <td>0</td>\n      <td>0.0</td>\n      <td>object</td>\n      <td>11136</td>\n      <td>NaN</td>\n      <td>NaN</td>\n      <td>0000103f-58f2-4b67-956e-9fc49ea2a845</td>\n      <td>ffe9ed07-2030-4a2d-ad61-18af6217f012</td>\n    </tr>\n    <tr>\n      <th>lat</th>\n      <td>0</td>\n      <td>0.0</td>\n      <td>float64</td>\n      <td>11136</td>\n      <td>-2.291595e+01</td>\n      <td>-2.291711e+01</td>\n      <td>-22.9355</td>\n      <td>-22.8901</td>\n    </tr>\n    <tr>\n      <th>lng</th>\n      <td>0</td>\n      <td>0.0</td>\n      <td>float64</td>\n      <td>11136</td>\n      <td>-4.247970e+01</td>\n      <td>-4.247697e+01</td>\n      <td>-42.4957</td>\n      <td>-42.4683</td>\n    </tr>\n    <tr>\n      <th>speedBumpId</th>\n      <td>0</td>\n      <td>0.0</td>\n      <td>int64</td>\n      <td>11136</td>\n      <td>5.567529e-03</td>\n      <td>0.000000e+00</td>\n      <td>0</td>\n      <td>2</td>\n    </tr>\n    <tr>\n      <th>timestamp</th>\n      <td>0</td>\n      <td>0.0</td>\n      <td>int64</td>\n      <td>11136</td>\n      <td>1.589758e+12</td>\n      <td>1.589758e+12</td>\n      <td>1589757048346</td>\n      <td>1589758551561</td>\n    </tr>\n    <tr>\n      <th>x</th>\n      <td>0</td>\n      <td>0.0</td>\n      <td>float64</td>\n      <td>11136</td>\n      <td>-6.641728e-01</td>\n      <td>-6.338959e-01</td>\n      <td>-12.7126</td>\n      <td>5.52878</td>\n    </tr>\n    <tr>\n      <th>y</th>\n      <td>0</td>\n      <td>0.0</td>\n      <td>float64</td>\n      <td>11136</td>\n      <td>9.331052e+00</td>\n      <td>9.379730e+00</td>\n      <td>3.04707</td>\n      <td>15.6933</td>\n    </tr>\n    <tr>\n      <th>z</th>\n      <td>0</td>\n      <td>0.0</td>\n      <td>float64</td>\n      <td>11136</td>\n      <td>2.894415e+00</td>\n      <td>2.696854e+00</td>\n      <td>-8.12733</td>\n      <td>15.8889</td>\n    </tr>\n  </tbody>\n</table>\n</div>"
     },
     "metadata": {}
    }
   ],
   "source": [
    "df_manipulator.apply_describe(df)"
   ]
  },
  {
   "cell_type": "markdown",
   "metadata": {},
   "source": [
    "## Remove NaN"
   ]
  },
  {
   "cell_type": "code",
   "execution_count": 9,
   "metadata": {},
   "outputs": [],
   "source": [
    "df_out = df_manipulator.remove_nan(df)"
   ]
  },
  {
   "cell_type": "markdown",
   "metadata": {},
   "source": [
    "## Remove timestamp inválido e muda formato"
   ]
  },
  {
   "cell_type": "code",
   "execution_count": 10,
   "metadata": {},
   "outputs": [],
   "source": [
    "df_out = update_timestamp_ticks_to_datetime(df_out)\n",
    "df_out = remove_invalid_timestamps(df_out)"
   ]
  },
  {
   "cell_type": "markdown",
   "metadata": {},
   "source": [
    "## Remove valores de acelerômetro inválidos"
   ]
  },
  {
   "cell_type": "code",
   "execution_count": 11,
   "metadata": {},
   "outputs": [],
   "source": [
    "df_out = remove_invalid_accelerometer_values(df_out, filter_columns=['x','y','z'], invalid_value=0)"
   ]
  },
  {
   "cell_type": "markdown",
   "metadata": {},
   "source": [
    "## Remove timestamp duplicado"
   ]
  },
  {
   "cell_type": "code",
   "execution_count": 12,
   "metadata": {},
   "outputs": [],
   "source": [
    "df_out = remove_duplicated_timestamp(df_out)"
   ]
  },
  {
   "cell_type": "markdown",
   "metadata": {},
   "source": [
    "## Dataframe filtrado"
   ]
  },
  {
   "cell_type": "code",
   "execution_count": 13,
   "metadata": {},
   "outputs": [
    {
     "output_type": "execute_result",
     "data": {
      "text/plain": "                                                           id  speedBumpId  \\\ntimestamp                                                                    \n2020-05-17 20:10:48.346  d198e52b-bd5b-424a-8ea5-d391fbdb7b20            0   \n2020-05-17 20:10:48.543  a9df8305-e4ed-4530-ab78-e1aa3ca9ffbd            0   \n2020-05-17 20:10:48.743  74dedc33-8d9b-4aa6-a352-df1ee9364ed7            0   \n2020-05-17 20:10:48.843  4a64f1bf-ea98-49db-baff-d7d08baf2dce            0   \n2020-05-17 20:10:48.944  25a3976b-a812-4bf2-a2fe-113d7b01cd11            0   \n...                                                       ...          ...   \n2020-05-17 20:35:51.161  0f15d4aa-c4c3-40ba-9d1f-1746e938a5eb            0   \n2020-05-17 20:35:51.261  c044a484-bb8b-421b-8cc8-a6ad4713e28f            0   \n2020-05-17 20:35:51.361  c9d94f9a-6211-4198-b39b-70db0ef2e890            0   \n2020-05-17 20:35:51.461  2fa87037-71b8-42e0-bd89-64bff33cfead            0   \n2020-05-17 20:35:51.561  1c157063-30f5-428a-9690-022951e7315b            0   \n\n                                x          y         z        lat        lng  \ntimestamp                                                                     \n2020-05-17 20:10:48.346 -3.399200   9.516205  1.573975 -22.921991 -42.473372  \n2020-05-17 20:10:48.543 -2.987396  10.203339  1.291458 -22.921991 -42.473372  \n2020-05-17 20:10:48.743 -4.376038   9.746048  1.806213 -22.921991 -42.473372  \n2020-05-17 20:10:48.843 -3.698471   9.317490  1.849304 -22.921991 -42.473372  \n2020-05-17 20:10:48.944 -5.039230   9.372559  0.522919 -22.921991 -42.473372  \n...                           ...        ...       ...        ...        ...  \n2020-05-17 20:35:51.161  0.386032  10.105179  1.660172 -22.925816 -42.484631  \n2020-05-17 20:35:51.261 -1.378494   9.920822  2.608276 -22.925816 -42.484631  \n2020-05-17 20:35:51.361 -1.215683   9.523392  2.505325 -22.925816 -42.484631  \n2020-05-17 20:35:51.461 -0.435181   8.999054  2.871628 -22.925816 -42.484631  \n2020-05-17 20:35:51.561 -0.969086   9.212143  0.702484 -22.925816 -42.484631  \n\n[11084 rows x 7 columns]",
      "text/html": "<div>\n<style scoped>\n    .dataframe tbody tr th:only-of-type {\n        vertical-align: middle;\n    }\n\n    .dataframe tbody tr th {\n        vertical-align: top;\n    }\n\n    .dataframe thead th {\n        text-align: right;\n    }\n</style>\n<table border=\"1\" class=\"dataframe\">\n  <thead>\n    <tr style=\"text-align: right;\">\n      <th></th>\n      <th>id</th>\n      <th>speedBumpId</th>\n      <th>x</th>\n      <th>y</th>\n      <th>z</th>\n      <th>lat</th>\n      <th>lng</th>\n    </tr>\n    <tr>\n      <th>timestamp</th>\n      <th></th>\n      <th></th>\n      <th></th>\n      <th></th>\n      <th></th>\n      <th></th>\n      <th></th>\n    </tr>\n  </thead>\n  <tbody>\n    <tr>\n      <th>2020-05-17 20:10:48.346</th>\n      <td>d198e52b-bd5b-424a-8ea5-d391fbdb7b20</td>\n      <td>0</td>\n      <td>-3.399200</td>\n      <td>9.516205</td>\n      <td>1.573975</td>\n      <td>-22.921991</td>\n      <td>-42.473372</td>\n    </tr>\n    <tr>\n      <th>2020-05-17 20:10:48.543</th>\n      <td>a9df8305-e4ed-4530-ab78-e1aa3ca9ffbd</td>\n      <td>0</td>\n      <td>-2.987396</td>\n      <td>10.203339</td>\n      <td>1.291458</td>\n      <td>-22.921991</td>\n      <td>-42.473372</td>\n    </tr>\n    <tr>\n      <th>2020-05-17 20:10:48.743</th>\n      <td>74dedc33-8d9b-4aa6-a352-df1ee9364ed7</td>\n      <td>0</td>\n      <td>-4.376038</td>\n      <td>9.746048</td>\n      <td>1.806213</td>\n      <td>-22.921991</td>\n      <td>-42.473372</td>\n    </tr>\n    <tr>\n      <th>2020-05-17 20:10:48.843</th>\n      <td>4a64f1bf-ea98-49db-baff-d7d08baf2dce</td>\n      <td>0</td>\n      <td>-3.698471</td>\n      <td>9.317490</td>\n      <td>1.849304</td>\n      <td>-22.921991</td>\n      <td>-42.473372</td>\n    </tr>\n    <tr>\n      <th>2020-05-17 20:10:48.944</th>\n      <td>25a3976b-a812-4bf2-a2fe-113d7b01cd11</td>\n      <td>0</td>\n      <td>-5.039230</td>\n      <td>9.372559</td>\n      <td>0.522919</td>\n      <td>-22.921991</td>\n      <td>-42.473372</td>\n    </tr>\n    <tr>\n      <th>...</th>\n      <td>...</td>\n      <td>...</td>\n      <td>...</td>\n      <td>...</td>\n      <td>...</td>\n      <td>...</td>\n      <td>...</td>\n    </tr>\n    <tr>\n      <th>2020-05-17 20:35:51.161</th>\n      <td>0f15d4aa-c4c3-40ba-9d1f-1746e938a5eb</td>\n      <td>0</td>\n      <td>0.386032</td>\n      <td>10.105179</td>\n      <td>1.660172</td>\n      <td>-22.925816</td>\n      <td>-42.484631</td>\n    </tr>\n    <tr>\n      <th>2020-05-17 20:35:51.261</th>\n      <td>c044a484-bb8b-421b-8cc8-a6ad4713e28f</td>\n      <td>0</td>\n      <td>-1.378494</td>\n      <td>9.920822</td>\n      <td>2.608276</td>\n      <td>-22.925816</td>\n      <td>-42.484631</td>\n    </tr>\n    <tr>\n      <th>2020-05-17 20:35:51.361</th>\n      <td>c9d94f9a-6211-4198-b39b-70db0ef2e890</td>\n      <td>0</td>\n      <td>-1.215683</td>\n      <td>9.523392</td>\n      <td>2.505325</td>\n      <td>-22.925816</td>\n      <td>-42.484631</td>\n    </tr>\n    <tr>\n      <th>2020-05-17 20:35:51.461</th>\n      <td>2fa87037-71b8-42e0-bd89-64bff33cfead</td>\n      <td>0</td>\n      <td>-0.435181</td>\n      <td>8.999054</td>\n      <td>2.871628</td>\n      <td>-22.925816</td>\n      <td>-42.484631</td>\n    </tr>\n    <tr>\n      <th>2020-05-17 20:35:51.561</th>\n      <td>1c157063-30f5-428a-9690-022951e7315b</td>\n      <td>0</td>\n      <td>-0.969086</td>\n      <td>9.212143</td>\n      <td>0.702484</td>\n      <td>-22.925816</td>\n      <td>-42.484631</td>\n    </tr>\n  </tbody>\n</table>\n<p>11084 rows × 7 columns</p>\n</div>"
     },
     "metadata": {},
     "execution_count": 13
    }
   ],
   "source": [
    "df_out"
   ]
  },
  {
   "cell_type": "markdown",
   "metadata": {},
   "source": [
    "## Detalhes do dataframe filtrado"
   ]
  },
  {
   "cell_type": "code",
   "execution_count": 14,
   "metadata": {},
   "outputs": [
    {
     "output_type": "execute_result",
     "data": {
      "text/plain": "0    11032\n1       42\n2       10\nName: speedBumpId, dtype: int64"
     },
     "metadata": {},
     "execution_count": 14
    }
   ],
   "source": [
    "df_out.speedBumpId.value_counts()"
   ]
  },
  {
   "cell_type": "code",
   "execution_count": 17,
   "metadata": {},
   "outputs": [
    {
     "output_type": "stream",
     "name": "stdout",
     "text": "Shape:\n (11084, 7)\nTypes:\n\nfloat64 :  ['x' 'y' 'z' 'lat' 'lng']\nint64 :  ['speedBumpId']\nobject :  ['id']\n\n\n\n"
    },
    {
     "output_type": "display_data",
     "data": {
      "text/plain": "             null_sum  null_pct   dtypes  count       mean     median  \\\nid                  0       0.0   object  11084        NaN        NaN   \nlat                 0       0.0  float64  11084 -22.915948 -22.917111   \nlng                 0       0.0  float64  11084 -42.479699 -42.476972   \nspeedBumpId         0       0.0    int64  11084   0.005594   0.000000   \nx                   0       0.0  float64  11084  -0.664460  -0.635094   \ny                   0       0.0  float64  11084   9.333137   9.382126   \nz                   0       0.0  float64  11084   2.891374   2.695656   \n\n                                              min  \\\nid           0000103f-58f2-4b67-956e-9fc49ea2a845   \nlat                                      -22.9355   \nlng                                      -42.4957   \nspeedBumpId                                     0   \nx                                        -12.7126   \ny                                         3.04707   \nz                                        -8.12733   \n\n                                              max  \nid           ffe9ed07-2030-4a2d-ad61-18af6217f012  \nlat                                      -22.8901  \nlng                                      -42.4683  \nspeedBumpId                                     2  \nx                                         5.52878  \ny                                         15.6933  \nz                                         15.8889  ",
      "text/html": "<div>\n<style scoped>\n    .dataframe tbody tr th:only-of-type {\n        vertical-align: middle;\n    }\n\n    .dataframe tbody tr th {\n        vertical-align: top;\n    }\n\n    .dataframe thead th {\n        text-align: right;\n    }\n</style>\n<table border=\"1\" class=\"dataframe\">\n  <thead>\n    <tr style=\"text-align: right;\">\n      <th></th>\n      <th>null_sum</th>\n      <th>null_pct</th>\n      <th>dtypes</th>\n      <th>count</th>\n      <th>mean</th>\n      <th>median</th>\n      <th>min</th>\n      <th>max</th>\n    </tr>\n  </thead>\n  <tbody>\n    <tr>\n      <th>id</th>\n      <td>0</td>\n      <td>0.0</td>\n      <td>object</td>\n      <td>11084</td>\n      <td>NaN</td>\n      <td>NaN</td>\n      <td>0000103f-58f2-4b67-956e-9fc49ea2a845</td>\n      <td>ffe9ed07-2030-4a2d-ad61-18af6217f012</td>\n    </tr>\n    <tr>\n      <th>lat</th>\n      <td>0</td>\n      <td>0.0</td>\n      <td>float64</td>\n      <td>11084</td>\n      <td>-22.915948</td>\n      <td>-22.917111</td>\n      <td>-22.9355</td>\n      <td>-22.8901</td>\n    </tr>\n    <tr>\n      <th>lng</th>\n      <td>0</td>\n      <td>0.0</td>\n      <td>float64</td>\n      <td>11084</td>\n      <td>-42.479699</td>\n      <td>-42.476972</td>\n      <td>-42.4957</td>\n      <td>-42.4683</td>\n    </tr>\n    <tr>\n      <th>speedBumpId</th>\n      <td>0</td>\n      <td>0.0</td>\n      <td>int64</td>\n      <td>11084</td>\n      <td>0.005594</td>\n      <td>0.000000</td>\n      <td>0</td>\n      <td>2</td>\n    </tr>\n    <tr>\n      <th>x</th>\n      <td>0</td>\n      <td>0.0</td>\n      <td>float64</td>\n      <td>11084</td>\n      <td>-0.664460</td>\n      <td>-0.635094</td>\n      <td>-12.7126</td>\n      <td>5.52878</td>\n    </tr>\n    <tr>\n      <th>y</th>\n      <td>0</td>\n      <td>0.0</td>\n      <td>float64</td>\n      <td>11084</td>\n      <td>9.333137</td>\n      <td>9.382126</td>\n      <td>3.04707</td>\n      <td>15.6933</td>\n    </tr>\n    <tr>\n      <th>z</th>\n      <td>0</td>\n      <td>0.0</td>\n      <td>float64</td>\n      <td>11084</td>\n      <td>2.891374</td>\n      <td>2.695656</td>\n      <td>-8.12733</td>\n      <td>15.8889</td>\n    </tr>\n  </tbody>\n</table>\n</div>"
     },
     "metadata": {}
    }
   ],
   "source": [
    "df_manipulator.apply_describe(df_out)"
   ]
  },
  {
   "cell_type": "markdown",
   "metadata": {},
   "source": [
    "## Salva o dataframe de saída"
   ]
  },
  {
   "cell_type": "code",
   "execution_count": 20,
   "metadata": {},
   "outputs": [
    {
     "output_type": "stream",
     "name": "stdout",
     "text": "O arquivo ./out/1_export_lunar_20200517.csv foi gerado!\n"
    }
   ],
   "source": [
    "out_filename = file_manipulator.get_out_filename(output_config['file']['prefix'], output_config['file']['ref_dir'], input_config['file']['filename'])\n",
    "\n",
    "df_out.to_csv(out_filename, sep=output_config['file']['delimiter'], header=output_config['file']['with_header'])\n",
    "\n",
    "print(f'O arquivo {out_filename} foi gerado!')"
   ]
  }
 ],
 "metadata": {
  "language_info": {
   "codemirror_mode": {
    "name": "ipython",
    "version": 3
   },
   "file_extension": ".py",
   "mimetype": "text/x-python",
   "name": "python",
   "nbconvert_exporter": "python",
   "pygments_lexer": "ipython3",
   "version": "3.6.9-final"
  },
  "orig_nbformat": 2,
  "kernelspec": {
   "name": "python36964bitvenvvenv15842a2001b14e7c9614d80f05b24238",
   "display_name": "Python 3.6.9 64-bit ('.venv': venv)"
  }
 },
 "nbformat": 4,
 "nbformat_minor": 2
}