{
 "cells": [
  {
   "cell_type": "markdown",
   "metadata": {},
   "source": [
    "# Imports"
   ]
  },
  {
   "cell_type": "code",
   "execution_count": 16,
   "metadata": {},
   "outputs": [],
   "source": [
    "import pandas as pd\n",
    "import sys, os, importlib\n",
    "import numpy as np\n",
    "\n",
    "from datetime import datetime\n",
    "from pandas import DataFrame\n",
    "from pandas import concat\n",
    "\n",
    "pd.set_option('display.max_rows', 100)\n",
    "\n",
    "if os.path.join('..','0_funcoes_base') not in sys.path:\n",
    "    sys.path.append(os.path.join('..','0_funcoes_base')) \n",
    "\n",
    "df_manipulator = importlib.import_module('df_manipulator')\n",
    "dt_manipulator = importlib.import_module('date_manipulator')\n",
    "plot_manipulator = importlib.import_module('plot_manipulator')\n",
    "file_manipulator = importlib.import_module('file_manipulator')"
   ]
  },
  {
   "cell_type": "markdown",
   "metadata": {},
   "source": [
    "# Dados de configuração"
   ]
  },
  {
   "cell_type": "code",
   "execution_count": 17,
   "metadata": {},
   "outputs": [],
   "source": [
    "input_config = {\n",
    "    'file': {\n",
    "        'ref_dir':'./out/',\n",
    "        'filename':'3_export_lunar_20200517_20200620.csv',\n",
    "        'delimiter': ';'\n",
    "    }\n",
    "}\n",
    "\n",
    "output_config = {\n",
    "    'file': {\n",
    "        'ref_dir': './out',\n",
    "        'delimiter':';',\n",
    "        'with_header': True,\n",
    "        'prefix':'4_'\n",
    "    },\n",
    "    'delimited_intervals': [5, 10, 20, 30, 40, 50],\n",
    "    'start_region': 3,\n",
    "    'end_region': 2,\n",
    "    'cusum_K': 0.5\n",
    "}"
   ]
  },
  {
   "cell_type": "markdown",
   "metadata": {},
   "source": [
    "# Funções"
   ]
  },
  {
   "cell_type": "code",
   "execution_count": 18,
   "metadata": {},
   "outputs": [],
   "source": [
    "def map_region_into_df(df, speed_bump_id, region_id, relative_start_region, relative_end_region, verbose=False):\n",
    "    _df = df.copy()\n",
    "\n",
    "    # Get indexes with speedbump\n",
    "    sb_indexes_by_id  = df_manipulator.get_speed_bumps_idx(_df, speed_bump_id=speed_bump_id)\n",
    "    speed_bumps       = sum(list(sb_indexes_by_id.values()), [])\n",
    "    speed_bumps       = [sb.to_pydatetime() for sb in speed_bumps]\n",
    "\n",
    "    available_min_idx = min(_df.index)\n",
    "    available_max_idx = max(_df.index)\n",
    "\n",
    "    region_by_speed_bump_timestamp = []\n",
    "\n",
    "    for sb_id in sb_indexes_by_id:\n",
    "        for sb_idx in sb_indexes_by_id[sb_id]:\n",
    "            if verbose:\n",
    "                print(f'Region {region_id}: [{sb_id}] {sb_idx} -> from {sb_idx-relative_start_region} to {sb_idx+relative_end_region}')\n",
    "\n",
    "            region_by_speed_bump_timestamp.extend([dt_manipulator.get_date_window(start_date=sb_idx-relative_start_region, end_date=sb_idx+relative_end_region, bound=(available_min_idx, available_max_idx))])\n",
    "\n",
    "    if len(region_by_speed_bump_timestamp) < 1:\n",
    "        return _df\n",
    "\n",
    "    final_region_timestamps = []\n",
    "    for region_timestamp in region_by_speed_bump_timestamp:\n",
    "        final_region_timestamps.extend(region_timestamp)\n",
    "\n",
    "    final_region_timestamps = list(set(final_region_timestamps))\n",
    "\n",
    "    _df['region_id'][_df.index.isin(final_region_timestamps)] = region_id\n",
    "\n",
    "    return _df\n",
    "\n",
    "def cusum(x,mean=0,K=0):\n",
    "    \"\"\"\n",
    "    Tabular CUSUM per Montgomery,D. 1996 \"Introduction to Statistical Process Control\" p318\n",
    "    x    : series to analyze\n",
    "    mean : expected process mean\n",
    "    K    : reference value, allowance, slack value-- suggest K=1/2 of the shift to be detected.\n",
    "    Returns:\n",
    "    x  Original series\n",
    "    Cp positive CUSUM\n",
    "    Cm negative CUSUM\n",
    "    \"\"\"\n",
    "    Cp=(x*0).copy()\n",
    "    Cm=Cp.copy()\n",
    "    for ii in np.arange(len(x)):\n",
    "        if ii == 0:\n",
    "            Cp[ii]=x[ii]\n",
    "            Cm[ii]=x[ii]\n",
    "        else:\n",
    "            Cp[ii]=np.max([0,(x[ii]-mean-K)+Cp[ii-1]])\n",
    "            Cm[ii]=np.max([0,(mean-K)-x[ii]+Cm[ii-1]])\n",
    "    return({'x':x, 'Cp': Cp, 'Cm': Cm})"
   ]
  },
  {
   "cell_type": "markdown",
   "metadata": {},
   "source": [
    "# Carrega dataframe"
   ]
  },
  {
   "cell_type": "code",
   "execution_count": 19,
   "metadata": {},
   "outputs": [
    {
     "output_type": "execute_result",
     "data": {
      "text/plain": "                         speed_bump_id          y         z        lat  \\\ntimestamp                                                                \n2020-05-17 20:14:32.800              0   8.838654  3.714386 -22.919592   \n2020-05-17 20:14:32.900              0  10.248825  3.108658 -22.919592   \n2020-05-17 20:14:33.000              0  10.842590  2.215622 -22.919592   \n2020-05-17 20:14:33.100              0   9.702957  2.493347 -22.919592   \n2020-05-17 20:14:33.200              0   9.702957  2.493347 -22.919592   \n...                                ...        ...       ...        ...   \n2020-06-20 14:41:23.800              0   8.189819  6.620956 -22.871247   \n2020-06-20 14:41:23.900              0   8.189819  6.620956 -22.871247   \n2020-06-20 14:41:24.000              0   8.970322  5.715942 -22.871481   \n2020-06-20 14:41:24.100              0  11.125107  4.638550 -22.871481   \n2020-06-20 14:41:24.200              0   9.930405  3.197250 -22.871481   \n\n                               lng  \ntimestamp                           \n2020-05-17 20:14:32.800 -42.473961  \n2020-05-17 20:14:32.900 -42.473961  \n2020-05-17 20:14:33.000 -42.473961  \n2020-05-17 20:14:33.100 -42.473961  \n2020-05-17 20:14:33.200 -42.473961  \n...                            ...  \n2020-06-20 14:41:23.800 -42.340474  \n2020-06-20 14:41:23.900 -42.340474  \n2020-06-20 14:41:24.000 -42.340609  \n2020-06-20 14:41:24.100 -42.340609  \n2020-06-20 14:41:24.200 -42.340609  \n\n[20616 rows x 5 columns]",
      "text/html": "<div>\n<style scoped>\n    .dataframe tbody tr th:only-of-type {\n        vertical-align: middle;\n    }\n\n    .dataframe tbody tr th {\n        vertical-align: top;\n    }\n\n    .dataframe thead th {\n        text-align: right;\n    }\n</style>\n<table border=\"1\" class=\"dataframe\">\n  <thead>\n    <tr style=\"text-align: right;\">\n      <th></th>\n      <th>speed_bump_id</th>\n      <th>y</th>\n      <th>z</th>\n      <th>lat</th>\n      <th>lng</th>\n    </tr>\n    <tr>\n      <th>timestamp</th>\n      <th></th>\n      <th></th>\n      <th></th>\n      <th></th>\n      <th></th>\n    </tr>\n  </thead>\n  <tbody>\n    <tr>\n      <th>2020-05-17 20:14:32.800</th>\n      <td>0</td>\n      <td>8.838654</td>\n      <td>3.714386</td>\n      <td>-22.919592</td>\n      <td>-42.473961</td>\n    </tr>\n    <tr>\n      <th>2020-05-17 20:14:32.900</th>\n      <td>0</td>\n      <td>10.248825</td>\n      <td>3.108658</td>\n      <td>-22.919592</td>\n      <td>-42.473961</td>\n    </tr>\n    <tr>\n      <th>2020-05-17 20:14:33.000</th>\n      <td>0</td>\n      <td>10.842590</td>\n      <td>2.215622</td>\n      <td>-22.919592</td>\n      <td>-42.473961</td>\n    </tr>\n    <tr>\n      <th>2020-05-17 20:14:33.100</th>\n      <td>0</td>\n      <td>9.702957</td>\n      <td>2.493347</td>\n      <td>-22.919592</td>\n      <td>-42.473961</td>\n    </tr>\n    <tr>\n      <th>2020-05-17 20:14:33.200</th>\n      <td>0</td>\n      <td>9.702957</td>\n      <td>2.493347</td>\n      <td>-22.919592</td>\n      <td>-42.473961</td>\n    </tr>\n    <tr>\n      <th>...</th>\n      <td>...</td>\n      <td>...</td>\n      <td>...</td>\n      <td>...</td>\n      <td>...</td>\n    </tr>\n    <tr>\n      <th>2020-06-20 14:41:23.800</th>\n      <td>0</td>\n      <td>8.189819</td>\n      <td>6.620956</td>\n      <td>-22.871247</td>\n      <td>-42.340474</td>\n    </tr>\n    <tr>\n      <th>2020-06-20 14:41:23.900</th>\n      <td>0</td>\n      <td>8.189819</td>\n      <td>6.620956</td>\n      <td>-22.871247</td>\n      <td>-42.340474</td>\n    </tr>\n    <tr>\n      <th>2020-06-20 14:41:24.000</th>\n      <td>0</td>\n      <td>8.970322</td>\n      <td>5.715942</td>\n      <td>-22.871481</td>\n      <td>-42.340609</td>\n    </tr>\n    <tr>\n      <th>2020-06-20 14:41:24.100</th>\n      <td>0</td>\n      <td>11.125107</td>\n      <td>4.638550</td>\n      <td>-22.871481</td>\n      <td>-42.340609</td>\n    </tr>\n    <tr>\n      <th>2020-06-20 14:41:24.200</th>\n      <td>0</td>\n      <td>9.930405</td>\n      <td>3.197250</td>\n      <td>-22.871481</td>\n      <td>-42.340609</td>\n    </tr>\n  </tbody>\n</table>\n<p>20616 rows × 5 columns</p>\n</div>"
     },
     "metadata": {},
     "execution_count": 19
    }
   ],
   "source": [
    "df = df_manipulator.load_dataframes(input_config['file']['filename'], input_config['file']['ref_dir'], input_config['file']['delimiter'])\n",
    "df.timestamp = pd.to_datetime(df.timestamp)\n",
    "df_manipulator.set_index(df, 'timestamp', True)\n",
    "\n",
    "df"
   ]
  },
  {
   "cell_type": "markdown",
   "metadata": {},
   "source": [
    "# Adiciona regiões nos registros\n",
    "\n",
    "Seja *sb(t)* o instante que o veículo passou pelo quebra-mola.\n",
    "\n",
    "Serão classificadas **dois tipos** de regiões:\n",
    "\n",
    "- Região 0\n",
    "    - Momentos da direção aonde não consta quebra-molas próximos;\n",
    "    - Intervalo:  \\[sb(t-inf), sb(t-3)\\] V \\[sb(t+2), sb(t+inf)\\]\n",
    "- Região 1\n",
    "    - Momento que precedem quebra-mola;\n",
    "    - Inclui a ação do motorista frear para quebra-mola, passar pelo mesmo e acelerar;\n",
    "    - Intervalo:  \\[sb(t-3), sb(t+2)\\]\n",
    "\n",
    "\n",
    "**Obs:** sb(t-x), aonde x possui unidade em segundo."
   ]
  },
  {
   "cell_type": "code",
   "execution_count": 20,
   "metadata": {},
   "outputs": [
    {
     "output_type": "execute_result",
     "data": {
      "text/plain": "0    20532\n1       84\nName: speed_bump_id, dtype: int64"
     },
     "metadata": {},
     "execution_count": 20
    }
   ],
   "source": [
    "df.speed_bump_id.value_counts()"
   ]
  },
  {
   "cell_type": "code",
   "execution_count": 21,
   "metadata": {
    "tags": [
     "outputPrepend"
    ]
   },
   "outputs": [],
   "source": [
    "df_out = df.copy()\n",
    "df_out['region_id'] = 0\n",
    "\n",
    "df_out = map_region_into_df(df_out, speed_bump_id=1, region_id=1, relative_start_region=pd.Timedelta(output_config['start_region'], 's'), relative_end_region=pd.Timedelta(output_config['end_region'], 's'), verbose=False)"
   ]
  },
  {
   "cell_type": "code",
   "execution_count": 22,
   "metadata": {},
   "outputs": [
    {
     "output_type": "execute_result",
     "data": {
      "text/plain": "0    16412\n1     4204\nName: region_id, dtype: int64"
     },
     "metadata": {},
     "execution_count": 22
    }
   ],
   "source": [
    "df_out.region_id.value_counts()"
   ]
  },
  {
   "cell_type": "markdown",
   "metadata": {},
   "source": [
    "# Adiciona normalização, média móvel, variância e diff do eixo Z e Y"
   ]
  },
  {
   "cell_type": "code",
   "execution_count": 23,
   "metadata": {},
   "outputs": [],
   "source": [
    "df_out['z-norm'] = (df_out['z'] - df_out['z'].mean())/df_out['z'].std()\n",
    "df_out['y-norm'] = (df_out['y'] - df_out['y'].mean())/df_out['y'].std()\n",
    "\n",
    "for i in output_config['delimited_intervals']:    \n",
    "    df_out[f'z-diff_{str(i)}'] = df_out['z-norm'].diff(periods=i)\n",
    "    df_out[f'z-mean_{str(i)}'] = df_out['z-norm'].rolling(i).mean()\n",
    "    df_out[f'z-std_{str(i)}']  = df_out['z-norm'].rolling(i).std()\n",
    "    \n",
    "    if i == 5 or i == 10:\n",
    "        df_out[f'z-corr-std_{str(i)}'] = df_out['z-norm'].rolling(i).corr(df_out[f'z-std_{str(i)}'])\n",
    "        df_out[f'y-corr-z-mean_{str(i)}'] = df_out['y-norm'].rolling(i).corr(df_out[f'z-mean_{str(i)}'])"
   ]
  },
  {
   "cell_type": "markdown",
   "metadata": {},
   "source": [
    "# Adiciona CuSum features"
   ]
  },
  {
   "cell_type": "code",
   "execution_count": 24,
   "metadata": {},
   "outputs": [],
   "source": [
    "result = cusum(df_out['z-norm'].values, mean=df_out['z-norm'].values.mean(), K = output_config['cusum_K'])\n",
    "\n",
    "df_out['cp'] = result['Cp']\n",
    "df_out['cm'] = result['Cm']\n",
    "\n",
    "df_out['cp-norm'] = (df_out['cp'] - df_out['cp'].mean())/df_out['cp'].std()\n",
    "df_out['cm-norm'] = (df_out['cm'] - df_out['cm'].mean())/df_out['cm'].std()"
   ]
  },
  {
   "cell_type": "markdown",
   "metadata": {},
   "source": [
    "# Adiciona feature de distância dos pontos até a próxima região 1"
   ]
  },
  {
   "cell_type": "code",
   "execution_count": 25,
   "metadata": {},
   "outputs": [],
   "source": [
    "res = np.zeros(len(df_out['region_id']))\n",
    "\n",
    "res[0] = df_out['region_id'].iloc[0]\n",
    "\n",
    "count = 1\n",
    "for idx, val in df_out['region_id'].iloc[1:].iteritems():\n",
    "    if val == 0:\n",
    "        res[count] = res[count-1] + 1\n",
    "    elif val == 1:\n",
    "        res[count] = 0\n",
    "    count +=1\n",
    "\n",
    "df_out['region_1_distance'] = res.astype(int)"
   ]
  },
  {
   "cell_type": "markdown",
   "metadata": {},
   "source": [
    "# Adiciona feature que informa a contagem dos eventos da região 1"
   ]
  },
  {
   "cell_type": "code",
   "execution_count": 26,
   "metadata": {},
   "outputs": [],
   "source": [
    "res = np.zeros(len(df_out['region_id']))\n",
    "\n",
    "res[0] = df_out['region_id'].iloc[0]\n",
    "\n",
    "count = 0 if res[0] == 0 else 1\n",
    "i = 1\n",
    "for idx, val in df_out['region_id'].iloc[1:].iteritems():\n",
    "    if val == 0:\n",
    "        res[i] = 0\n",
    "    elif val == 1:\n",
    "        if res[i-1] == 0:\n",
    "            count += 1\n",
    "        res[i] = count\n",
    "    i +=1\n",
    "\n",
    "df_out['region_1_counter'] = res.astype(int)\n"
   ]
  },
  {
   "cell_type": "code",
   "execution_count": 31,
   "metadata": {},
   "outputs": [
    {
     "output_type": "stream",
     "name": "stdout",
     "text": "Shape:\n (20562, 36)\nTypes:\n\nfloat64 :  ['y' 'z' 'lat' 'lng' 'z-norm' 'y-norm' 'z-diff_5' 'z-mean_5' 'z-std_5'\n 'z-corr-std_5' 'y-corr-z-mean_5' 'z-diff_10' 'z-mean_10' 'z-std_10'\n 'z-corr-std_10' 'y-corr-z-mean_10' 'z-diff_20' 'z-mean_20' 'z-std_20'\n 'z-diff_30' 'z-mean_30' 'z-std_30' 'z-diff_40' 'z-mean_40' 'z-std_40'\n 'z-diff_50' 'z-mean_50' 'z-std_50' 'cp' 'cm' 'cp-norm' 'cm-norm']\nint64 :  ['speed_bump_id' 'region_id' 'region_1_distance' 'region_1_counter']\n\n\n\n"
    },
    {
     "output_type": "display_data",
     "data": {
      "text/plain": "                   null_sum  null_pct   dtypes  count        mean     median  \\\nspeed_bump_id             0       0.0    int64  20562    0.004085   0.000000   \ny                         0       0.0  float64  20562    9.326276   9.389313   \nz                         0       0.0  float64  20562    2.944013   2.645378   \nlat                       0       0.0  float64  20562  -22.887817 -22.871247   \nlng                       0       0.0  float64  20562  -42.405635 -42.358059   \nregion_id                 0       0.0    int64  20562    0.204455   0.000000   \nz-norm                    0       0.0  float64  20562   -0.000141  -0.179973   \ny-norm                    0       0.0  float64  20562    0.000037   0.080532   \nz-diff_5                  0       0.0  float64  20562    0.000326   0.021630   \nz-mean_5                  0       0.0  float64  20562   -0.000221  -0.190785   \nz-std_5                   0       0.0  float64  20562    0.458228   0.357839   \nz-corr-std_5              0       0.0  float64  20562         NaN   0.023338   \ny-corr-z-mean_5           0       0.0  float64  20562         NaN  -0.260050   \nz-diff_10                 0       0.0  float64  20562    0.000752   0.044693   \nz-mean_10                 0       0.0  float64  20562   -0.000451  -0.177233   \nz-std_10                  0       0.0  float64  20562    0.523237   0.423256   \nz-corr-std_10             0       0.0  float64  20562         NaN   0.016947   \ny-corr-z-mean_10          0       0.0  float64  20562         NaN  -0.160508   \nz-diff_20                 0       0.0  float64  20562    0.001120   0.069208   \nz-mean_20                 0       0.0  float64  20562   -0.000809  -0.178243   \nz-std_20                  0       0.0  float64  20562    0.595363   0.494280   \nz-diff_30                 0       0.0  float64  20562    0.001147   0.090829   \nz-mean_30                 0       0.0  float64  20562   -0.000995  -0.174710   \nz-std_30                  0       0.0  float64  20562    0.651329   0.552068   \nz-diff_40                 0       0.0  float64  20562    0.000821   0.119662   \nz-mean_40                 0       0.0  float64  20562   -0.001024  -0.151949   \nz-std_40                  0       0.0  float64  20562    0.699055   0.590689   \nz-diff_50                 0       0.0  float64  20562    0.000490   0.118224   \nz-mean_50                 0       0.0  float64  20562   -0.000982  -0.132914   \nz-std_50                  0       0.0  float64  20562    0.740001   0.630540   \ncp                        0       0.0  float64  20562    7.225446   0.000000   \ncm                        0       0.0  float64  20562    5.689971   0.467886   \ncp-norm                   0       0.0  float64  20562    0.001417  -0.541349   \ncm-norm                   0       0.0  float64  20562    0.001544  -0.540861   \nregion_1_distance         0       0.0    int64  20562  133.429919  84.000000   \nregion_1_counter          0       0.0    int64  20562    8.492997   0.000000   \n\n                         min          max  \nspeed_bump_id       0.000000     1.000000  \ny                   3.047073    16.038010  \nz                 -11.658783    15.675827  \nlat               -22.935175   -22.834573  \nlng               -42.495690   -42.316786  \nregion_id           0.000000     1.000000  \nz-norm             -8.793659     7.666708  \ny-norm             -8.018070     8.570459  \nz-diff_5           -8.921498    10.301250  \nz-mean_5           -3.755347     3.560625  \nz-std_5             0.000000     6.349683  \nz-corr-std_5            -inf          inf  \ny-corr-z-mean_5         -inf          inf  \nz-diff_10          -9.097394     9.375642  \nz-mean_10          -2.545870     3.410252  \nz-std_10            0.000000     4.806769  \nz-corr-std_10           -inf          inf  \ny-corr-z-mean_10        -inf          inf  \nz-diff_20          -9.780774     8.431307  \nz-mean_20          -1.803590     3.289507  \nz-std_20            0.044083     3.678106  \nz-diff_30          -8.819137     8.879690  \nz-mean_30          -1.375080     2.694859  \nz-std_30            0.045388     3.212152  \nz-diff_40         -10.148417     8.843643  \nz-mean_40          -1.320931     2.225933  \nz-std_40            0.050116     2.845990  \nz-diff_50          -9.237244    11.894369  \nz-mean_50          -1.246141     1.901008  \nz-std_50            0.059045     2.555830  \ncp                  0.000000    71.046343  \ncm                  0.000000    48.584355  \ncp-norm            -0.541349     4.795560  \ncm-norm            -0.589459     4.456873  \nregion_1_distance   0.000000  1301.000000  \nregion_1_counter    0.000000    82.000000  ",
      "text/html": "<div>\n<style scoped>\n    .dataframe tbody tr th:only-of-type {\n        vertical-align: middle;\n    }\n\n    .dataframe tbody tr th {\n        vertical-align: top;\n    }\n\n    .dataframe thead th {\n        text-align: right;\n    }\n</style>\n<table border=\"1\" class=\"dataframe\">\n  <thead>\n    <tr style=\"text-align: right;\">\n      <th></th>\n      <th>null_sum</th>\n      <th>null_pct</th>\n      <th>dtypes</th>\n      <th>count</th>\n      <th>mean</th>\n      <th>median</th>\n      <th>min</th>\n      <th>max</th>\n    </tr>\n  </thead>\n  <tbody>\n    <tr>\n      <th>speed_bump_id</th>\n      <td>0</td>\n      <td>0.0</td>\n      <td>int64</td>\n      <td>20562</td>\n      <td>0.004085</td>\n      <td>0.000000</td>\n      <td>0.000000</td>\n      <td>1.000000</td>\n    </tr>\n    <tr>\n      <th>y</th>\n      <td>0</td>\n      <td>0.0</td>\n      <td>float64</td>\n      <td>20562</td>\n      <td>9.326276</td>\n      <td>9.389313</td>\n      <td>3.047073</td>\n      <td>16.038010</td>\n    </tr>\n    <tr>\n      <th>z</th>\n      <td>0</td>\n      <td>0.0</td>\n      <td>float64</td>\n      <td>20562</td>\n      <td>2.944013</td>\n      <td>2.645378</td>\n      <td>-11.658783</td>\n      <td>15.675827</td>\n    </tr>\n    <tr>\n      <th>lat</th>\n      <td>0</td>\n      <td>0.0</td>\n      <td>float64</td>\n      <td>20562</td>\n      <td>-22.887817</td>\n      <td>-22.871247</td>\n      <td>-22.935175</td>\n      <td>-22.834573</td>\n    </tr>\n    <tr>\n      <th>lng</th>\n      <td>0</td>\n      <td>0.0</td>\n      <td>float64</td>\n      <td>20562</td>\n      <td>-42.405635</td>\n      <td>-42.358059</td>\n      <td>-42.495690</td>\n      <td>-42.316786</td>\n    </tr>\n    <tr>\n      <th>region_id</th>\n      <td>0</td>\n      <td>0.0</td>\n      <td>int64</td>\n      <td>20562</td>\n      <td>0.204455</td>\n      <td>0.000000</td>\n      <td>0.000000</td>\n      <td>1.000000</td>\n    </tr>\n    <tr>\n      <th>z-norm</th>\n      <td>0</td>\n      <td>0.0</td>\n      <td>float64</td>\n      <td>20562</td>\n      <td>-0.000141</td>\n      <td>-0.179973</td>\n      <td>-8.793659</td>\n      <td>7.666708</td>\n    </tr>\n    <tr>\n      <th>y-norm</th>\n      <td>0</td>\n      <td>0.0</td>\n      <td>float64</td>\n      <td>20562</td>\n      <td>0.000037</td>\n      <td>0.080532</td>\n      <td>-8.018070</td>\n      <td>8.570459</td>\n    </tr>\n    <tr>\n      <th>z-diff_5</th>\n      <td>0</td>\n      <td>0.0</td>\n      <td>float64</td>\n      <td>20562</td>\n      <td>0.000326</td>\n      <td>0.021630</td>\n      <td>-8.921498</td>\n      <td>10.301250</td>\n    </tr>\n    <tr>\n      <th>z-mean_5</th>\n      <td>0</td>\n      <td>0.0</td>\n      <td>float64</td>\n      <td>20562</td>\n      <td>-0.000221</td>\n      <td>-0.190785</td>\n      <td>-3.755347</td>\n      <td>3.560625</td>\n    </tr>\n    <tr>\n      <th>z-std_5</th>\n      <td>0</td>\n      <td>0.0</td>\n      <td>float64</td>\n      <td>20562</td>\n      <td>0.458228</td>\n      <td>0.357839</td>\n      <td>0.000000</td>\n      <td>6.349683</td>\n    </tr>\n    <tr>\n      <th>z-corr-std_5</th>\n      <td>0</td>\n      <td>0.0</td>\n      <td>float64</td>\n      <td>20562</td>\n      <td>NaN</td>\n      <td>0.023338</td>\n      <td>-inf</td>\n      <td>inf</td>\n    </tr>\n    <tr>\n      <th>y-corr-z-mean_5</th>\n      <td>0</td>\n      <td>0.0</td>\n      <td>float64</td>\n      <td>20562</td>\n      <td>NaN</td>\n      <td>-0.260050</td>\n      <td>-inf</td>\n      <td>inf</td>\n    </tr>\n    <tr>\n      <th>z-diff_10</th>\n      <td>0</td>\n      <td>0.0</td>\n      <td>float64</td>\n      <td>20562</td>\n      <td>0.000752</td>\n      <td>0.044693</td>\n      <td>-9.097394</td>\n      <td>9.375642</td>\n    </tr>\n    <tr>\n      <th>z-mean_10</th>\n      <td>0</td>\n      <td>0.0</td>\n      <td>float64</td>\n      <td>20562</td>\n      <td>-0.000451</td>\n      <td>-0.177233</td>\n      <td>-2.545870</td>\n      <td>3.410252</td>\n    </tr>\n    <tr>\n      <th>z-std_10</th>\n      <td>0</td>\n      <td>0.0</td>\n      <td>float64</td>\n      <td>20562</td>\n      <td>0.523237</td>\n      <td>0.423256</td>\n      <td>0.000000</td>\n      <td>4.806769</td>\n    </tr>\n    <tr>\n      <th>z-corr-std_10</th>\n      <td>0</td>\n      <td>0.0</td>\n      <td>float64</td>\n      <td>20562</td>\n      <td>NaN</td>\n      <td>0.016947</td>\n      <td>-inf</td>\n      <td>inf</td>\n    </tr>\n    <tr>\n      <th>y-corr-z-mean_10</th>\n      <td>0</td>\n      <td>0.0</td>\n      <td>float64</td>\n      <td>20562</td>\n      <td>NaN</td>\n      <td>-0.160508</td>\n      <td>-inf</td>\n      <td>inf</td>\n    </tr>\n    <tr>\n      <th>z-diff_20</th>\n      <td>0</td>\n      <td>0.0</td>\n      <td>float64</td>\n      <td>20562</td>\n      <td>0.001120</td>\n      <td>0.069208</td>\n      <td>-9.780774</td>\n      <td>8.431307</td>\n    </tr>\n    <tr>\n      <th>z-mean_20</th>\n      <td>0</td>\n      <td>0.0</td>\n      <td>float64</td>\n      <td>20562</td>\n      <td>-0.000809</td>\n      <td>-0.178243</td>\n      <td>-1.803590</td>\n      <td>3.289507</td>\n    </tr>\n    <tr>\n      <th>z-std_20</th>\n      <td>0</td>\n      <td>0.0</td>\n      <td>float64</td>\n      <td>20562</td>\n      <td>0.595363</td>\n      <td>0.494280</td>\n      <td>0.044083</td>\n      <td>3.678106</td>\n    </tr>\n    <tr>\n      <th>z-diff_30</th>\n      <td>0</td>\n      <td>0.0</td>\n      <td>float64</td>\n      <td>20562</td>\n      <td>0.001147</td>\n      <td>0.090829</td>\n      <td>-8.819137</td>\n      <td>8.879690</td>\n    </tr>\n    <tr>\n      <th>z-mean_30</th>\n      <td>0</td>\n      <td>0.0</td>\n      <td>float64</td>\n      <td>20562</td>\n      <td>-0.000995</td>\n      <td>-0.174710</td>\n      <td>-1.375080</td>\n      <td>2.694859</td>\n    </tr>\n    <tr>\n      <th>z-std_30</th>\n      <td>0</td>\n      <td>0.0</td>\n      <td>float64</td>\n      <td>20562</td>\n      <td>0.651329</td>\n      <td>0.552068</td>\n      <td>0.045388</td>\n      <td>3.212152</td>\n    </tr>\n    <tr>\n      <th>z-diff_40</th>\n      <td>0</td>\n      <td>0.0</td>\n      <td>float64</td>\n      <td>20562</td>\n      <td>0.000821</td>\n      <td>0.119662</td>\n      <td>-10.148417</td>\n      <td>8.843643</td>\n    </tr>\n    <tr>\n      <th>z-mean_40</th>\n      <td>0</td>\n      <td>0.0</td>\n      <td>float64</td>\n      <td>20562</td>\n      <td>-0.001024</td>\n      <td>-0.151949</td>\n      <td>-1.320931</td>\n      <td>2.225933</td>\n    </tr>\n    <tr>\n      <th>z-std_40</th>\n      <td>0</td>\n      <td>0.0</td>\n      <td>float64</td>\n      <td>20562</td>\n      <td>0.699055</td>\n      <td>0.590689</td>\n      <td>0.050116</td>\n      <td>2.845990</td>\n    </tr>\n    <tr>\n      <th>z-diff_50</th>\n      <td>0</td>\n      <td>0.0</td>\n      <td>float64</td>\n      <td>20562</td>\n      <td>0.000490</td>\n      <td>0.118224</td>\n      <td>-9.237244</td>\n      <td>11.894369</td>\n    </tr>\n    <tr>\n      <th>z-mean_50</th>\n      <td>0</td>\n      <td>0.0</td>\n      <td>float64</td>\n      <td>20562</td>\n      <td>-0.000982</td>\n      <td>-0.132914</td>\n      <td>-1.246141</td>\n      <td>1.901008</td>\n    </tr>\n    <tr>\n      <th>z-std_50</th>\n      <td>0</td>\n      <td>0.0</td>\n      <td>float64</td>\n      <td>20562</td>\n      <td>0.740001</td>\n      <td>0.630540</td>\n      <td>0.059045</td>\n      <td>2.555830</td>\n    </tr>\n    <tr>\n      <th>cp</th>\n      <td>0</td>\n      <td>0.0</td>\n      <td>float64</td>\n      <td>20562</td>\n      <td>7.225446</td>\n      <td>0.000000</td>\n      <td>0.000000</td>\n      <td>71.046343</td>\n    </tr>\n    <tr>\n      <th>cm</th>\n      <td>0</td>\n      <td>0.0</td>\n      <td>float64</td>\n      <td>20562</td>\n      <td>5.689971</td>\n      <td>0.467886</td>\n      <td>0.000000</td>\n      <td>48.584355</td>\n    </tr>\n    <tr>\n      <th>cp-norm</th>\n      <td>0</td>\n      <td>0.0</td>\n      <td>float64</td>\n      <td>20562</td>\n      <td>0.001417</td>\n      <td>-0.541349</td>\n      <td>-0.541349</td>\n      <td>4.795560</td>\n    </tr>\n    <tr>\n      <th>cm-norm</th>\n      <td>0</td>\n      <td>0.0</td>\n      <td>float64</td>\n      <td>20562</td>\n      <td>0.001544</td>\n      <td>-0.540861</td>\n      <td>-0.589459</td>\n      <td>4.456873</td>\n    </tr>\n    <tr>\n      <th>region_1_distance</th>\n      <td>0</td>\n      <td>0.0</td>\n      <td>int64</td>\n      <td>20562</td>\n      <td>133.429919</td>\n      <td>84.000000</td>\n      <td>0.000000</td>\n      <td>1301.000000</td>\n    </tr>\n    <tr>\n      <th>region_1_counter</th>\n      <td>0</td>\n      <td>0.0</td>\n      <td>int64</td>\n      <td>20562</td>\n      <td>8.492997</td>\n      <td>0.000000</td>\n      <td>0.000000</td>\n      <td>82.000000</td>\n    </tr>\n  </tbody>\n</table>\n</div>"
     },
     "metadata": {}
    }
   ],
   "source": [
    "df_out.dropna(how='any', inplace=True)\n",
    "\n",
    "df_manipulator.apply_describe(df_out)"
   ]
  },
  {
   "cell_type": "code",
   "execution_count": 28,
   "metadata": {},
   "outputs": [
    {
     "output_type": "execute_result",
     "data": {
      "text/plain": "0    16358\n1     4204\nName: region_id, dtype: int64"
     },
     "metadata": {},
     "execution_count": 28
    }
   ],
   "source": [
    "df_out['region_id'].value_counts()"
   ]
  },
  {
   "cell_type": "code",
   "execution_count": 29,
   "metadata": {},
   "outputs": [
    {
     "output_type": "execute_result",
     "data": {
      "text/plain": "0    20478\n1       84\nName: speed_bump_id, dtype: int64"
     },
     "metadata": {},
     "execution_count": 29
    }
   ],
   "source": [
    "df_out['speed_bump_id'].value_counts()"
   ]
  },
  {
   "cell_type": "markdown",
   "metadata": {},
   "source": [
    "# Salva o dataframe de saída"
   ]
  },
  {
   "cell_type": "code",
   "execution_count": 30,
   "metadata": {},
   "outputs": [
    {
     "output_type": "stream",
     "name": "stdout",
     "text": "O arquivo ./out/4_export_lunar_20200517_20200620.csv foi gerado!\n"
    }
   ],
   "source": [
    "out_filename = file_manipulator.get_out_filename(output_config['file']['prefix'], output_config['file']['ref_dir'], input_config['file']['filename'])\n",
    "\n",
    "df_out.to_csv(out_filename, sep=output_config['file']['delimiter'], header=output_config['file']['with_header'])\n",
    "\n",
    "print(f'O arquivo {out_filename} foi gerado!')"
   ]
  },
  {
   "cell_type": "code",
   "execution_count": null,
   "metadata": {},
   "outputs": [],
   "source": []
  }
 ],
 "metadata": {
  "language_info": {
   "codemirror_mode": {
    "name": "ipython",
    "version": 3
   },
   "file_extension": ".py",
   "mimetype": "text/x-python",
   "name": "python",
   "nbconvert_exporter": "python",
   "pygments_lexer": "ipython3",
   "version": "3.6.9-final"
  },
  "orig_nbformat": 2,
  "kernelspec": {
   "name": "python36964bitvenvvenv15842a2001b14e7c9614d80f05b24238",
   "display_name": "Python 3.6.9 64-bit ('.venv': venv)"
  }
 },
 "nbformat": 4,
 "nbformat_minor": 2
}