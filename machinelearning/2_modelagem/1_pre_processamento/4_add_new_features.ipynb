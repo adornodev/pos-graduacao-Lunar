{
 "cells": [
  {
   "cell_type": "markdown",
   "metadata": {},
   "source": [
    "## Imports"
   ]
  },
  {
   "cell_type": "code",
   "execution_count": 47,
   "metadata": {},
   "outputs": [],
   "source": [
    "import pandas as pd\n",
    "import sys, os, importlib\n",
    "from datetime import datetime\n",
    "import numpy as np"
   ]
  },
  {
   "cell_type": "code",
   "execution_count": 48,
   "metadata": {},
   "outputs": [],
   "source": [
    "pd.set_option('display.max_rows', 100)\n",
    "\n",
    "if os.path.join('..','0_funcoes_base') not in sys.path:\n",
    "    sys.path.append(os.path.join('..','0_funcoes_base')) \n",
    "\n",
    "df_manipulator = importlib.import_module('df_manipulator')\n",
    "dt_manipulator = importlib.import_module('date_manipulator')\n",
    "plot_manipulator = importlib.import_module('plot_manipulator')\n",
    "file_manipulator = importlib.import_module('file_manipulator')\n",
    "\n"
   ]
  },
  {
   "cell_type": "markdown",
   "metadata": {},
   "source": [
    "## Dados de configuração"
   ]
  },
  {
   "cell_type": "code",
   "execution_count": 49,
   "metadata": {},
   "outputs": [],
   "source": [
    "input_config = {\n",
    "    'file': {\n",
    "        'ref_dir':'./out/',\n",
    "        'filename':'3_export_lunar_20200517.csv',\n",
    "        'delimiter': ';'\n",
    "    }\n",
    "}\n",
    "\n",
    "output_config = {\n",
    "    'file': {\n",
    "        'ref_dir': './out',\n",
    "        'delimiter':';',\n",
    "        'with_header': True,\n",
    "        'prefix':'4_'\n",
    "    }\n",
    "}"
   ]
  },
  {
   "cell_type": "markdown",
   "metadata": {},
   "source": [
    "## Funções"
   ]
  },
  {
   "cell_type": "code",
   "execution_count": 50,
   "metadata": {},
   "outputs": [],
   "source": [
    "def map_region_into_df(df, speed_bump_id, region_id, relative_start_region, relative_end_region, verbose=False):\n",
    "    _df = df.copy()\n",
    "\n",
    "    # Get indexes with speedbump\n",
    "    sb_indexes_by_id  = df_manipulator.get_speed_bumps_idx(_df, speed_bump_id=speed_bump_id)\n",
    "    speed_bumps       = sum(list(sb_indexes_by_id.values()), [])\n",
    "    speed_bumps       = [sb.to_pydatetime() for sb in speed_bumps]\n",
    "\n",
    "    available_min_idx = min(_df.index)\n",
    "    available_max_idx = max(_df.index)\n",
    "\n",
    "    region_by_speed_bump_timestamp = []\n",
    "\n",
    "    for sb_id in sb_indexes_by_id:\n",
    "        for sb_idx in sb_indexes_by_id[sb_id]:\n",
    "            if verbose:\n",
    "                print(f'Region {region_id}: [{sb_id}] {sb_idx} -> from {sb_idx-relative_start_region} to {sb_idx+relative_end_region}')\n",
    "\n",
    "            region_by_speed_bump_timestamp.extend([dt_manipulator.get_date_window(start_date=sb_idx-relative_start_region, end_date=sb_idx+relative_end_region, bound=(available_min_idx, available_max_idx))])\n",
    "\n",
    "    if len(region_by_speed_bump_timestamp) < 1:\n",
    "        return _df\n",
    "\n",
    "    #print(region_by_speed_bump_timestamp)\n",
    "    #return\n",
    "    # Rules\n",
    "    ## Region 0: without speedbump\n",
    "    ## Region 1: just one speedbump\n",
    "\n",
    "    final_region_timestamps = []\n",
    "    for region_timestamp in region_by_speed_bump_timestamp:\n",
    "        \n",
    "        # Apply region rules\n",
    "        if region_id == 0:\n",
    "            if len((set(speed_bumps) & set(region_timestamp))) > 0:\n",
    "                #print(f'Failed 1: {len((set(speed_bumps) & set(region_timestamp)))}')\n",
    "                continue\n",
    "        # elif region_id == 2:\n",
    "        #     if len((set(speed_bumps) & set(region_timestamp))) > 1:\n",
    "        #         #print(f'set(speed_bumps): {set(speed_bumps)}')\n",
    "        #         #print(f'\\n\\nset(region_timestamp): {set(region_timestamp)}')\n",
    "        #         print(f'\\n\\n/\\: {set(speed_bumps) & set(region_timestamp)}')\n",
    "        #         print(f'\\n\\nFailed 2: {len((set(speed_bumps) & set(region_timestamp)))}')\n",
    "        #         continue\n",
    "\n",
    "        final_region_timestamps.extend(region_timestamp)\n",
    "\n",
    "    final_region_timestamps = list(set(final_region_timestamps))\n",
    "\n",
    "    _df['region_id'][_df.index.isin(final_region_timestamps)] = region_id\n",
    "\n",
    "    return _df"
   ]
  },
  {
   "cell_type": "markdown",
   "metadata": {},
   "source": [
    "## Carrega dataframe"
   ]
  },
  {
   "cell_type": "code",
   "execution_count": 51,
   "metadata": {},
   "outputs": [],
   "source": [
    "df = df_manipulator.load_dataframe(input_config['file']['filename'], input_config['file']['ref_dir'], input_config['file']['delimiter'])\n",
    "df.timestamp = pd.to_datetime(df.timestamp)\n",
    "df_manipulator.set_index(df, 'timestamp', True)"
   ]
  },
  {
   "cell_type": "code",
   "execution_count": 52,
   "metadata": {},
   "outputs": [
    {
     "output_type": "execute_result",
     "data": {
      "text/plain": "                         speed_bump_id          y         z        lat  \\\ntimestamp                                                                \n2020-05-17 20:10:48.400              0   9.516205  1.573975 -22.921991   \n2020-05-17 20:10:48.500              0   9.516205  1.573975 -22.921991   \n2020-05-17 20:10:48.600              0  10.203339  1.291458 -22.921991   \n2020-05-17 20:10:48.700              0  10.203339  1.291458 -22.921991   \n2020-05-17 20:10:48.800              0   9.746048  1.806213 -22.921991   \n...                                ...        ...       ...        ...   \n2020-05-17 20:35:51.100              0   9.250443  1.770294 -22.925816   \n2020-05-17 20:35:51.200              0  10.105179  1.660172 -22.925816   \n2020-05-17 20:35:51.300              0   9.920822  2.608276 -22.925816   \n2020-05-17 20:35:51.400              0   9.523392  2.505325 -22.925816   \n2020-05-17 20:35:51.500              0   8.999054  2.871628 -22.925816   \n\n                               lng  \ntimestamp                           \n2020-05-17 20:10:48.400 -42.473372  \n2020-05-17 20:10:48.500 -42.473372  \n2020-05-17 20:10:48.600 -42.473372  \n2020-05-17 20:10:48.700 -42.473372  \n2020-05-17 20:10:48.800 -42.473372  \n...                            ...  \n2020-05-17 20:35:51.100 -42.484631  \n2020-05-17 20:35:51.200 -42.484631  \n2020-05-17 20:35:51.300 -42.484631  \n2020-05-17 20:35:51.400 -42.484631  \n2020-05-17 20:35:51.500 -42.484631  \n\n[14123 rows x 5 columns]",
      "text/html": "<div>\n<style scoped>\n    .dataframe tbody tr th:only-of-type {\n        vertical-align: middle;\n    }\n\n    .dataframe tbody tr th {\n        vertical-align: top;\n    }\n\n    .dataframe thead th {\n        text-align: right;\n    }\n</style>\n<table border=\"1\" class=\"dataframe\">\n  <thead>\n    <tr style=\"text-align: right;\">\n      <th></th>\n      <th>speed_bump_id</th>\n      <th>y</th>\n      <th>z</th>\n      <th>lat</th>\n      <th>lng</th>\n    </tr>\n    <tr>\n      <th>timestamp</th>\n      <th></th>\n      <th></th>\n      <th></th>\n      <th></th>\n      <th></th>\n    </tr>\n  </thead>\n  <tbody>\n    <tr>\n      <th>2020-05-17 20:10:48.400</th>\n      <td>0</td>\n      <td>9.516205</td>\n      <td>1.573975</td>\n      <td>-22.921991</td>\n      <td>-42.473372</td>\n    </tr>\n    <tr>\n      <th>2020-05-17 20:10:48.500</th>\n      <td>0</td>\n      <td>9.516205</td>\n      <td>1.573975</td>\n      <td>-22.921991</td>\n      <td>-42.473372</td>\n    </tr>\n    <tr>\n      <th>2020-05-17 20:10:48.600</th>\n      <td>0</td>\n      <td>10.203339</td>\n      <td>1.291458</td>\n      <td>-22.921991</td>\n      <td>-42.473372</td>\n    </tr>\n    <tr>\n      <th>2020-05-17 20:10:48.700</th>\n      <td>0</td>\n      <td>10.203339</td>\n      <td>1.291458</td>\n      <td>-22.921991</td>\n      <td>-42.473372</td>\n    </tr>\n    <tr>\n      <th>2020-05-17 20:10:48.800</th>\n      <td>0</td>\n      <td>9.746048</td>\n      <td>1.806213</td>\n      <td>-22.921991</td>\n      <td>-42.473372</td>\n    </tr>\n    <tr>\n      <th>...</th>\n      <td>...</td>\n      <td>...</td>\n      <td>...</td>\n      <td>...</td>\n      <td>...</td>\n    </tr>\n    <tr>\n      <th>2020-05-17 20:35:51.100</th>\n      <td>0</td>\n      <td>9.250443</td>\n      <td>1.770294</td>\n      <td>-22.925816</td>\n      <td>-42.484631</td>\n    </tr>\n    <tr>\n      <th>2020-05-17 20:35:51.200</th>\n      <td>0</td>\n      <td>10.105179</td>\n      <td>1.660172</td>\n      <td>-22.925816</td>\n      <td>-42.484631</td>\n    </tr>\n    <tr>\n      <th>2020-05-17 20:35:51.300</th>\n      <td>0</td>\n      <td>9.920822</td>\n      <td>2.608276</td>\n      <td>-22.925816</td>\n      <td>-42.484631</td>\n    </tr>\n    <tr>\n      <th>2020-05-17 20:35:51.400</th>\n      <td>0</td>\n      <td>9.523392</td>\n      <td>2.505325</td>\n      <td>-22.925816</td>\n      <td>-42.484631</td>\n    </tr>\n    <tr>\n      <th>2020-05-17 20:35:51.500</th>\n      <td>0</td>\n      <td>8.999054</td>\n      <td>2.871628</td>\n      <td>-22.925816</td>\n      <td>-42.484631</td>\n    </tr>\n  </tbody>\n</table>\n<p>14123 rows × 5 columns</p>\n</div>"
     },
     "metadata": {},
     "execution_count": 52
    }
   ],
   "source": [
    "df"
   ]
  },
  {
   "cell_type": "markdown",
   "metadata": {},
   "source": [
    "## Adiciona regiões nos registros\n",
    "\n",
    "Seja *sb(t)* o instante que o veículo passou pelo quebra-mola.\n",
    "\n",
    "Serão classificadas **dois tipos** de regiões:\n",
    "\n",
    "- Região 1\n",
    "    - Momentos da direção aonde não consta quebra-molas próximos;\n",
    "    - Intervalo:  \\[sb(t-inf), sb(t-5)\\] V \\[sb(t+3), sb(t+inf)\\]\n",
    "- Região 2\n",
    "    - Momento que precedem quebra-mola;\n",
    "    - Inclui a ação do motorista frear para quebra-mola, passar pelo mesmo e acelerar;\n",
    "    - Intervalo:  \\[sb(t-5), sb(t+3)\\]\n",
    "\n",
    "\n",
    "**Obs:** sb(t-x), aonde x possui unidade em segundo."
   ]
  },
  {
   "cell_type": "code",
   "execution_count": 53,
   "metadata": {
    "tags": [
     "outputPrepend"
    ]
   },
   "outputs": [],
   "source": [
    "df_out = df.copy()\n",
    "df_out['region_id'] = 0\n",
    "\n",
    "df_out = map_region_into_df(df_out, speed_bump_id=1, region_id=1, relative_start_region=pd.Timedelta(5, 's'), relative_end_region=pd.Timedelta(2, 's'), verbose=False)"
   ]
  },
  {
   "cell_type": "code",
   "execution_count": 54,
   "metadata": {},
   "outputs": [
    {
     "output_type": "execute_result",
     "data": {
      "text/plain": "0    11443\n1     2680\nName: region_id, dtype: int64"
     },
     "metadata": {},
     "execution_count": 54
    }
   ],
   "source": [
    "df_out.region_id.value_counts()"
   ]
  },
  {
   "cell_type": "markdown",
   "metadata": {},
   "source": [
    "## Adiciona normalização, média móvel, variância e diff do eixo Z"
   ]
  },
  {
   "cell_type": "markdown",
   "metadata": {},
   "source": [
    "## Salva o dataframe de saída"
   ]
  },
  {
   "cell_type": "code",
   "execution_count": 55,
   "metadata": {},
   "outputs": [],
   "source": [
    "df_out['z-norm'] = (df_out['z'] - df_out['z'].mean())/df_out['z'].std()\n",
    "df_out['z-diff_10'] = df_out['z-norm'].diff(periods=10)\n",
    "df_out['z-mean_10'] = df_out['z-norm'].rolling(10).mean()\n",
    "df_out['z-std_10'] = df_out['z-norm'].rolling(10).std()\n",
    "df_out['z-diff_20'] = df_out['z-norm'].diff(periods=20)\n",
    "df_out['z-mean_20'] = df_out['z-norm'].rolling(20).mean()\n",
    "df_out['z-std_20'] = df_out['z-norm'].rolling(20).std()\n",
    "\n",
    "\n",
    "df_out.dropna(how='any', inplace=True)"
   ]
  },
  {
   "cell_type": "code",
   "execution_count": 56,
   "metadata": {},
   "outputs": [
    {
     "output_type": "execute_result",
     "data": {
      "text/plain": "                         speed_bump_id          y          z        lat  \\\ntimestamp                                                                 \n2020-05-17 20:10:50.400              0   3.212265  15.888901 -22.921991   \n2020-05-17 20:10:50.500              0   7.222565  -8.127335 -22.921991   \n2020-05-17 20:10:50.600              0   6.200241  -0.556870 -22.921991   \n2020-05-17 20:10:50.700              0   6.887375  -2.287872 -22.921991   \n2020-05-17 20:10:50.800              0   6.887375  -2.287872 -22.921991   \n...                                ...        ...        ...        ...   \n2020-05-17 20:35:51.100              0   9.250443   1.770294 -22.925816   \n2020-05-17 20:35:51.200              0  10.105179   1.660172 -22.925816   \n2020-05-17 20:35:51.300              0   9.920822   2.608276 -22.925816   \n2020-05-17 20:35:51.400              0   9.523392   2.505325 -22.925816   \n2020-05-17 20:35:51.500              0   8.999054   2.871628 -22.925816   \n\n                               lng  region_id    z-norm  z-diff_10  z-mean_10  \\\ntimestamp                                                                       \n2020-05-17 20:10:50.400 -42.473372          0  6.462035   6.814763   0.006528   \n2020-05-17 20:10:50.500 -42.473372          0 -4.934918  -4.582190  -0.451691   \n2020-05-17 20:10:50.600 -42.473372          0 -1.342339  -1.325916  -0.584283   \n2020-05-17 20:10:50.700 -42.473372          0 -2.163790  -2.147367  -0.799020   \n2020-05-17 20:10:50.800 -42.473372          0 -2.163790  -1.694031  -0.968423   \n...                            ...        ...       ...        ...        ...   \n2020-05-17 20:35:51.100 -42.484631          0 -0.237979  -0.313583   0.111056   \n2020-05-17 20:35:51.200 -42.484631          0 -0.290238  -0.428332   0.068222   \n2020-05-17 20:35:51.300 -42.484631          0  0.159688   0.021593   0.070382   \n2020-05-17 20:35:51.400 -42.484631          0  0.110832  -0.212461   0.049136   \n2020-05-17 20:35:51.500 -42.484631          0  0.284661   1.056641   0.154800   \n\n                         z-std_10  z-diff_20  z-mean_20  z-std_20  \ntimestamp                                                          \n2020-05-17 20:10:50.400  2.595076   6.793177  -0.218775  1.806092  \n2020-05-17 20:10:50.500  3.033131  -4.603776  -0.448964  2.091927  \n2020-05-17 20:10:50.600  3.040960  -0.877128  -0.492820  2.101458  \n2020-05-17 20:10:50.700  3.072064  -1.698579  -0.577749  2.134350  \n2020-05-17 20:10:50.800  3.098484  -1.942857  -0.674892  2.161298  \n...                           ...        ...        ...       ...  \n2020-05-17 20:35:51.100  0.930938  -0.160202   0.145595  0.644656  \n2020-05-17 20:35:51.200  0.939371  -0.553313   0.117929  0.651188  \n2020-05-17 20:35:51.300  0.939574  -0.068168   0.114521  0.650761  \n2020-05-17 20:35:51.400  0.935614  -0.193149   0.104863  0.649233  \n2020-05-17 20:35:51.500  0.891188   0.037494   0.106738  0.649719  \n\n[14103 rows x 13 columns]",
      "text/html": "<div>\n<style scoped>\n    .dataframe tbody tr th:only-of-type {\n        vertical-align: middle;\n    }\n\n    .dataframe tbody tr th {\n        vertical-align: top;\n    }\n\n    .dataframe thead th {\n        text-align: right;\n    }\n</style>\n<table border=\"1\" class=\"dataframe\">\n  <thead>\n    <tr style=\"text-align: right;\">\n      <th></th>\n      <th>speed_bump_id</th>\n      <th>y</th>\n      <th>z</th>\n      <th>lat</th>\n      <th>lng</th>\n      <th>region_id</th>\n      <th>z-norm</th>\n      <th>z-diff_10</th>\n      <th>z-mean_10</th>\n      <th>z-std_10</th>\n      <th>z-diff_20</th>\n      <th>z-mean_20</th>\n      <th>z-std_20</th>\n    </tr>\n    <tr>\n      <th>timestamp</th>\n      <th></th>\n      <th></th>\n      <th></th>\n      <th></th>\n      <th></th>\n      <th></th>\n      <th></th>\n      <th></th>\n      <th></th>\n      <th></th>\n      <th></th>\n      <th></th>\n      <th></th>\n    </tr>\n  </thead>\n  <tbody>\n    <tr>\n      <th>2020-05-17 20:10:50.400</th>\n      <td>0</td>\n      <td>3.212265</td>\n      <td>15.888901</td>\n      <td>-22.921991</td>\n      <td>-42.473372</td>\n      <td>0</td>\n      <td>6.462035</td>\n      <td>6.814763</td>\n      <td>0.006528</td>\n      <td>2.595076</td>\n      <td>6.793177</td>\n      <td>-0.218775</td>\n      <td>1.806092</td>\n    </tr>\n    <tr>\n      <th>2020-05-17 20:10:50.500</th>\n      <td>0</td>\n      <td>7.222565</td>\n      <td>-8.127335</td>\n      <td>-22.921991</td>\n      <td>-42.473372</td>\n      <td>0</td>\n      <td>-4.934918</td>\n      <td>-4.582190</td>\n      <td>-0.451691</td>\n      <td>3.033131</td>\n      <td>-4.603776</td>\n      <td>-0.448964</td>\n      <td>2.091927</td>\n    </tr>\n    <tr>\n      <th>2020-05-17 20:10:50.600</th>\n      <td>0</td>\n      <td>6.200241</td>\n      <td>-0.556870</td>\n      <td>-22.921991</td>\n      <td>-42.473372</td>\n      <td>0</td>\n      <td>-1.342339</td>\n      <td>-1.325916</td>\n      <td>-0.584283</td>\n      <td>3.040960</td>\n      <td>-0.877128</td>\n      <td>-0.492820</td>\n      <td>2.101458</td>\n    </tr>\n    <tr>\n      <th>2020-05-17 20:10:50.700</th>\n      <td>0</td>\n      <td>6.887375</td>\n      <td>-2.287872</td>\n      <td>-22.921991</td>\n      <td>-42.473372</td>\n      <td>0</td>\n      <td>-2.163790</td>\n      <td>-2.147367</td>\n      <td>-0.799020</td>\n      <td>3.072064</td>\n      <td>-1.698579</td>\n      <td>-0.577749</td>\n      <td>2.134350</td>\n    </tr>\n    <tr>\n      <th>2020-05-17 20:10:50.800</th>\n      <td>0</td>\n      <td>6.887375</td>\n      <td>-2.287872</td>\n      <td>-22.921991</td>\n      <td>-42.473372</td>\n      <td>0</td>\n      <td>-2.163790</td>\n      <td>-1.694031</td>\n      <td>-0.968423</td>\n      <td>3.098484</td>\n      <td>-1.942857</td>\n      <td>-0.674892</td>\n      <td>2.161298</td>\n    </tr>\n    <tr>\n      <th>...</th>\n      <td>...</td>\n      <td>...</td>\n      <td>...</td>\n      <td>...</td>\n      <td>...</td>\n      <td>...</td>\n      <td>...</td>\n      <td>...</td>\n      <td>...</td>\n      <td>...</td>\n      <td>...</td>\n      <td>...</td>\n      <td>...</td>\n    </tr>\n    <tr>\n      <th>2020-05-17 20:35:51.100</th>\n      <td>0</td>\n      <td>9.250443</td>\n      <td>1.770294</td>\n      <td>-22.925816</td>\n      <td>-42.484631</td>\n      <td>0</td>\n      <td>-0.237979</td>\n      <td>-0.313583</td>\n      <td>0.111056</td>\n      <td>0.930938</td>\n      <td>-0.160202</td>\n      <td>0.145595</td>\n      <td>0.644656</td>\n    </tr>\n    <tr>\n      <th>2020-05-17 20:35:51.200</th>\n      <td>0</td>\n      <td>10.105179</td>\n      <td>1.660172</td>\n      <td>-22.925816</td>\n      <td>-42.484631</td>\n      <td>0</td>\n      <td>-0.290238</td>\n      <td>-0.428332</td>\n      <td>0.068222</td>\n      <td>0.939371</td>\n      <td>-0.553313</td>\n      <td>0.117929</td>\n      <td>0.651188</td>\n    </tr>\n    <tr>\n      <th>2020-05-17 20:35:51.300</th>\n      <td>0</td>\n      <td>9.920822</td>\n      <td>2.608276</td>\n      <td>-22.925816</td>\n      <td>-42.484631</td>\n      <td>0</td>\n      <td>0.159688</td>\n      <td>0.021593</td>\n      <td>0.070382</td>\n      <td>0.939574</td>\n      <td>-0.068168</td>\n      <td>0.114521</td>\n      <td>0.650761</td>\n    </tr>\n    <tr>\n      <th>2020-05-17 20:35:51.400</th>\n      <td>0</td>\n      <td>9.523392</td>\n      <td>2.505325</td>\n      <td>-22.925816</td>\n      <td>-42.484631</td>\n      <td>0</td>\n      <td>0.110832</td>\n      <td>-0.212461</td>\n      <td>0.049136</td>\n      <td>0.935614</td>\n      <td>-0.193149</td>\n      <td>0.104863</td>\n      <td>0.649233</td>\n    </tr>\n    <tr>\n      <th>2020-05-17 20:35:51.500</th>\n      <td>0</td>\n      <td>8.999054</td>\n      <td>2.871628</td>\n      <td>-22.925816</td>\n      <td>-42.484631</td>\n      <td>0</td>\n      <td>0.284661</td>\n      <td>1.056641</td>\n      <td>0.154800</td>\n      <td>0.891188</td>\n      <td>0.037494</td>\n      <td>0.106738</td>\n      <td>0.649719</td>\n    </tr>\n  </tbody>\n</table>\n<p>14103 rows × 13 columns</p>\n</div>"
     },
     "metadata": {},
     "execution_count": 56
    }
   ],
   "source": [
    "df_out"
   ]
  },
  {
   "cell_type": "code",
   "execution_count": 57,
   "metadata": {},
   "outputs": [
    {
     "output_type": "stream",
     "name": "stdout",
     "text": "O arquivo ./out/4_export_lunar_20200517.csv foi gerado!\n"
    }
   ],
   "source": [
    "out_filename = file_manipulator.get_out_filename(output_config['file']['prefix'], output_config['file']['ref_dir'], input_config['file']['filename'])\n",
    "\n",
    "df_out.to_csv(out_filename, sep=output_config['file']['delimiter'], header=output_config['file']['with_header'])\n",
    "\n",
    "print(f'O arquivo {out_filename} foi gerado!')"
   ]
  }
 ],
 "metadata": {
  "language_info": {
   "codemirror_mode": {
    "name": "ipython",
    "version": 3
   },
   "file_extension": ".py",
   "mimetype": "text/x-python",
   "name": "python",
   "nbconvert_exporter": "python",
   "pygments_lexer": "ipython3",
   "version": "3.6.9-final"
  },
  "orig_nbformat": 2,
  "kernelspec": {
   "name": "python36964bitvenvvenv15842a2001b14e7c9614d80f05b24238",
   "display_name": "Python 3.6.9 64-bit ('.venv': venv)"
  }
 },
 "nbformat": 4,
 "nbformat_minor": 2
}