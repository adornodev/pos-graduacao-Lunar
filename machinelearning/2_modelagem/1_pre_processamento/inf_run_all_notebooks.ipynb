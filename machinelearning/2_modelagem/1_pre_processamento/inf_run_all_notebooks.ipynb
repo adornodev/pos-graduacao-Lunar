{
 "cells": [
  {
   "cell_type": "code",
   "execution_count": 12,
   "metadata": {},
   "outputs": [],
   "source": [
    "%%capture\n",
    "\n",
    "%run './1_remove_invalid_records.ipynb'\n",
    "%run './2_mapping_values.ipynb'\n",
    "%run './3_remove_unnecessary_columns.ipynb'"
   ]
  }
 ],
 "metadata": {
  "language_info": {
   "codemirror_mode": {
    "name": "ipython",
    "version": 3
   },
   "file_extension": ".py",
   "mimetype": "text/x-python",
   "name": "python",
   "nbconvert_exporter": "python",
   "pygments_lexer": "ipython3",
   "version": "3.6.9-final"
  },
  "orig_nbformat": 2,
  "kernelspec": {
   "name": "python36964bitvenvvenv15842a2001b14e7c9614d80f05b24238",
   "display_name": "Python 3.6.9 64-bit ('.venv': venv)"
  }
 },
 "nbformat": 4,
 "nbformat_minor": 2
}