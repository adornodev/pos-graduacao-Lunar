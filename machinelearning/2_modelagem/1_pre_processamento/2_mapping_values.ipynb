{
 "cells": [
  {
   "cell_type": "markdown",
   "metadata": {},
   "source": [
    "## Imports"
   ]
  },
  {
   "cell_type": "code",
   "execution_count": 1,
   "metadata": {},
   "outputs": [],
   "source": [
    "import pandas as pd\n",
    "import sys, os, importlib\n",
    "from datetime import datetime"
   ]
  },
  {
   "cell_type": "code",
   "execution_count": 2,
   "metadata": {},
   "outputs": [],
   "source": [
    "pd.set_option('display.max_rows', 100)\n",
    "\n",
    "if os.path.join('..','0_funcoes_base') not in sys.path:\n",
    "    sys.path.append(os.path.join('..','0_funcoes_base')) \n",
    "\n",
    "df_manipulator = importlib.import_module('df_manipulator')\n",
    "file_manipulator = importlib.import_module('file_manipulator')\n"
   ]
  },
  {
   "cell_type": "markdown",
   "metadata": {},
   "source": [
    "## Dados de configuração"
   ]
  },
  {
   "cell_type": "code",
   "execution_count": 3,
   "metadata": {},
   "outputs": [],
   "source": [
    "input_config = {\n",
    "    'file': {\n",
    "        'ref_dir':'./out/',\n",
    "        'filename':'1_export_lunar_20200517_20200620.csv',\n",
    "        'delimiter': ';'\n",
    "    },\n",
    "    'max_consecutive_nan': 10,\n",
    "    'df_resample': 100,\n",
    "    'df_resample_freq': 'ms'\n",
    "}\n",
    "\n",
    "output_config = {\n",
    "    'file': {\n",
    "        'ref_dir': './out',\n",
    "        'delimiter':';',\n",
    "        'with_header': True,\n",
    "        'prefix': '2_'\n",
    "    },\n",
    "    'mapping_window_width': (1500,500),\n",
    "    'mapping_window_freq': 'milliseconds'\n",
    "}"
   ]
  },
  {
   "cell_type": "markdown",
   "metadata": {},
   "source": [
    "## Funções"
   ]
  },
  {
   "cell_type": "code",
   "execution_count": 4,
   "metadata": {},
   "outputs": [],
   "source": [
    "def find_speed_bump_timestamps_relationship(df, indexes, mapping_window_width, mapping_window_freq, verbose=False):\n",
    "    result = {}\n",
    "\n",
    "    min_idx = min(df.index)\n",
    "    max_idx = max(df.index)\n",
    "\n",
    "    for sb_id in indexes:\n",
    "        result[sb_id] = {}\n",
    "        for sb_idx in indexes[sb_id]:\n",
    "            result[sb_id][sb_idx] = {}\n",
    "\n",
    "            min_range = sb_idx - pd.Timedelta(mapping_window_width[0], mapping_window_freq)\n",
    "            max_range = sb_idx + pd.Timedelta(mapping_window_width[1], mapping_window_freq)\n",
    "            \n",
    "            min_range = min_range if min_range >= min_idx else min_idx\n",
    "            max_range = max_range if max_range <= max_idx else max_idx\n",
    "            \n",
    "            search_values = pd.date_range(start=min_range, end=max_range, freq=str(input_config['df_resample']) + ' ' + input_config['df_resample_freq'])\n",
    "\n",
    "            if verbose:\n",
    "                print(f'\\nsb_idx {sb_idx} -> [{min_range},{max_range}]')\n",
    "\n",
    "            # Get min value from axis Z between min_range and max_range\n",
    "            # The new timestamp found is the real\n",
    "\n",
    "            try:\n",
    "                real_timestamp = search_values[df.loc[search_values].z.argmin()]\n",
    "            except:\n",
    "                #print(search_values)\n",
    "                print('\\n\\n\\n', df.loc[search_values].z.argmin())\n",
    "                print('##########################')\n",
    "            result[sb_id][sb_idx] = real_timestamp\n",
    "    return result\n",
    "\n",
    "def fix_manual_event_timestamp(df, mapping_window_width, mapping_window_freq, speed_bump_id=None, verbose=False):\n",
    "    _df = df.copy()\n",
    "\n",
    "    sb_indexes = df_manipulator.get_speed_bumps_idx(_df, speed_bump_id)\n",
    "\n",
    "    mapping_speed_bump_timestamps = find_speed_bump_timestamps_relationship(_df, sb_indexes, mapping_window_width=mapping_window_width, mapping_window_freq=mapping_window_freq, verbose=verbose)\n",
    "\n",
    "    for sb_id in mapping_speed_bump_timestamps:\n",
    "        if len(mapping_speed_bump_timestamps[sb_id].keys()) < 1:\n",
    "            continue\n",
    "        _df['speed_bump_id'][_df.index.isin(list(mapping_speed_bump_timestamps[sb_id].values()))] = sb_id\n",
    "        _df['speed_bump_id'][_df.index.isin(list(mapping_speed_bump_timestamps[sb_id].keys()))]   = 0\n",
    "\n",
    "    return _df"
   ]
  },
  {
   "cell_type": "markdown",
   "metadata": {},
   "source": [
    "## Carrega dataframe"
   ]
  },
  {
   "cell_type": "code",
   "execution_count": 5,
   "metadata": {},
   "outputs": [
    {
     "output_type": "execute_result",
     "data": {
      "text/plain": "                                                           id  speedBumpId  \\\ntimestamp                                                                    \n2020-05-17 20:14:32.715  b78d7d2f-3fd1-4d81-81ee-d00afc039814            0   \n2020-05-17 20:14:32.816  1c59acca-2bb8-4686-9e93-95aa791f6f70            0   \n2020-05-17 20:14:32.918  de01a2a1-dd19-4081-921f-890907e5ca4d            0   \n2020-05-17 20:14:33.020  8864e0ac-54c0-4b94-b018-cd764c6dcef0            0   \n2020-05-17 20:14:33.218  f609cd0d-603f-4732-affc-517fab1da2d4            0   \n2020-05-17 20:14:33.318  b7ad14ef-2f9b-4086-952c-bc72747d81d4            0   \n2020-05-17 20:14:33.420  6a6758d1-c0b7-4a9d-8d61-ad886cd4d4bf            0   \n2020-05-17 20:14:33.521  8355917c-1c52-4493-9b2f-5f1953eec118            0   \n2020-05-17 20:14:33.621  cc883132-4cac-4753-80a1-9bac47f1d434            0   \n2020-05-17 20:14:33.821  56c4192c-c294-4db4-87f4-cd548d91fe7c            0   \n\n                                x          y         z        lat        lng  \ntimestamp                                                                     \n2020-05-17 20:14:32.715  0.843323   8.838654  3.714386 -22.919592 -42.473961  \n2020-05-17 20:14:32.816 -2.240402  10.248825  3.108658 -22.919592 -42.473961  \n2020-05-17 20:14:32.918 -1.998596  10.842590  2.215622 -22.919592 -42.473961  \n2020-05-17 20:14:33.020 -2.326599   9.702957  2.493347 -22.919592 -42.473961  \n2020-05-17 20:14:33.218 -0.231674   8.345444  2.601089 -22.919592 -42.473961  \n2020-05-17 20:14:33.318 -0.238846   9.590424  3.173294 -22.919592 -42.473961  \n2020-05-17 20:14:33.420  0.017334   8.213760  3.173294 -22.919592 -42.473961  \n2020-05-17 20:14:33.521  0.874451   9.379730  3.443848 -22.919592 -42.473961  \n2020-05-17 20:14:33.621 -0.260391   9.386917  2.984161 -22.919592 -42.473961  \n2020-05-17 20:14:33.821 -1.919586  10.229675  3.017685 -22.919592 -42.473961  ",
      "text/html": "<div>\n<style scoped>\n    .dataframe tbody tr th:only-of-type {\n        vertical-align: middle;\n    }\n\n    .dataframe tbody tr th {\n        vertical-align: top;\n    }\n\n    .dataframe thead th {\n        text-align: right;\n    }\n</style>\n<table border=\"1\" class=\"dataframe\">\n  <thead>\n    <tr style=\"text-align: right;\">\n      <th></th>\n      <th>id</th>\n      <th>speedBumpId</th>\n      <th>x</th>\n      <th>y</th>\n      <th>z</th>\n      <th>lat</th>\n      <th>lng</th>\n    </tr>\n    <tr>\n      <th>timestamp</th>\n      <th></th>\n      <th></th>\n      <th></th>\n      <th></th>\n      <th></th>\n      <th></th>\n      <th></th>\n    </tr>\n  </thead>\n  <tbody>\n    <tr>\n      <th>2020-05-17 20:14:32.715</th>\n      <td>b78d7d2f-3fd1-4d81-81ee-d00afc039814</td>\n      <td>0</td>\n      <td>0.843323</td>\n      <td>8.838654</td>\n      <td>3.714386</td>\n      <td>-22.919592</td>\n      <td>-42.473961</td>\n    </tr>\n    <tr>\n      <th>2020-05-17 20:14:32.816</th>\n      <td>1c59acca-2bb8-4686-9e93-95aa791f6f70</td>\n      <td>0</td>\n      <td>-2.240402</td>\n      <td>10.248825</td>\n      <td>3.108658</td>\n      <td>-22.919592</td>\n      <td>-42.473961</td>\n    </tr>\n    <tr>\n      <th>2020-05-17 20:14:32.918</th>\n      <td>de01a2a1-dd19-4081-921f-890907e5ca4d</td>\n      <td>0</td>\n      <td>-1.998596</td>\n      <td>10.842590</td>\n      <td>2.215622</td>\n      <td>-22.919592</td>\n      <td>-42.473961</td>\n    </tr>\n    <tr>\n      <th>2020-05-17 20:14:33.020</th>\n      <td>8864e0ac-54c0-4b94-b018-cd764c6dcef0</td>\n      <td>0</td>\n      <td>-2.326599</td>\n      <td>9.702957</td>\n      <td>2.493347</td>\n      <td>-22.919592</td>\n      <td>-42.473961</td>\n    </tr>\n    <tr>\n      <th>2020-05-17 20:14:33.218</th>\n      <td>f609cd0d-603f-4732-affc-517fab1da2d4</td>\n      <td>0</td>\n      <td>-0.231674</td>\n      <td>8.345444</td>\n      <td>2.601089</td>\n      <td>-22.919592</td>\n      <td>-42.473961</td>\n    </tr>\n    <tr>\n      <th>2020-05-17 20:14:33.318</th>\n      <td>b7ad14ef-2f9b-4086-952c-bc72747d81d4</td>\n      <td>0</td>\n      <td>-0.238846</td>\n      <td>9.590424</td>\n      <td>3.173294</td>\n      <td>-22.919592</td>\n      <td>-42.473961</td>\n    </tr>\n    <tr>\n      <th>2020-05-17 20:14:33.420</th>\n      <td>6a6758d1-c0b7-4a9d-8d61-ad886cd4d4bf</td>\n      <td>0</td>\n      <td>0.017334</td>\n      <td>8.213760</td>\n      <td>3.173294</td>\n      <td>-22.919592</td>\n      <td>-42.473961</td>\n    </tr>\n    <tr>\n      <th>2020-05-17 20:14:33.521</th>\n      <td>8355917c-1c52-4493-9b2f-5f1953eec118</td>\n      <td>0</td>\n      <td>0.874451</td>\n      <td>9.379730</td>\n      <td>3.443848</td>\n      <td>-22.919592</td>\n      <td>-42.473961</td>\n    </tr>\n    <tr>\n      <th>2020-05-17 20:14:33.621</th>\n      <td>cc883132-4cac-4753-80a1-9bac47f1d434</td>\n      <td>0</td>\n      <td>-0.260391</td>\n      <td>9.386917</td>\n      <td>2.984161</td>\n      <td>-22.919592</td>\n      <td>-42.473961</td>\n    </tr>\n    <tr>\n      <th>2020-05-17 20:14:33.821</th>\n      <td>56c4192c-c294-4db4-87f4-cd548d91fe7c</td>\n      <td>0</td>\n      <td>-1.919586</td>\n      <td>10.229675</td>\n      <td>3.017685</td>\n      <td>-22.919592</td>\n      <td>-42.473961</td>\n    </tr>\n  </tbody>\n</table>\n</div>"
     },
     "metadata": {},
     "execution_count": 5
    }
   ],
   "source": [
    "df = df_manipulator.load_dataframes(input_config['file']['filename'], input_config['file']['ref_dir'], input_config['file']['delimiter'])\n",
    "df.timestamp = pd.to_datetime(df.timestamp)\n",
    "df_manipulator.set_index(df, 'timestamp', True)\n",
    "\n",
    "df.head(10)"
   ]
  },
  {
   "cell_type": "code",
   "execution_count": 6,
   "metadata": {},
   "outputs": [
    {
     "output_type": "stream",
     "name": "stdout",
     "text": "Shape:\n (18104, 7)\nTypes:\n\nfloat64 :  ['x' 'y' 'z' 'lat' 'lng']\nobject :  ['id']\nint64 :  ['speedBumpId']\n\n\n\n"
    },
    {
     "output_type": "display_data",
     "data": {
      "text/plain": "             null_sum  null_pct   dtypes  count       mean     median  \\\nid                  0       0.0   object  18104        NaN        NaN   \nlat                 0       0.0  float64  18104 -22.887996 -22.872597   \nlng                 0       0.0  float64  18104 -42.407432 -42.359461   \nspeedBumpId         0       0.0    int64  18104   0.006131   0.000000   \nx                   0       0.0  float64  18104  -0.437377  -0.466293   \ny                   0       0.0  float64  18104   9.322921   9.389313   \nz                   0       0.0  float64  18104   2.955087   2.657356   \n\n                                              min  \\\nid           0004aec3-c5a7-4282-82eb-79cb3c18d2a7   \nlat                                      -22.9352   \nlng                                      -42.4957   \nspeedBumpId                                     0   \nx                                        -8.20197   \ny                                         3.04707   \nz                                        -11.6588   \n\n                                              max  \nid           fffc405f-2901-45ab-9e6f-1bce809e8977  \nlat                                      -22.8346  \nlng                                      -42.3168  \nspeedBumpId                                     2  \nx                                         5.52878  \ny                                          16.038  \nz                                         15.6758  ",
      "text/html": "<div>\n<style scoped>\n    .dataframe tbody tr th:only-of-type {\n        vertical-align: middle;\n    }\n\n    .dataframe tbody tr th {\n        vertical-align: top;\n    }\n\n    .dataframe thead th {\n        text-align: right;\n    }\n</style>\n<table border=\"1\" class=\"dataframe\">\n  <thead>\n    <tr style=\"text-align: right;\">\n      <th></th>\n      <th>null_sum</th>\n      <th>null_pct</th>\n      <th>dtypes</th>\n      <th>count</th>\n      <th>mean</th>\n      <th>median</th>\n      <th>min</th>\n      <th>max</th>\n    </tr>\n  </thead>\n  <tbody>\n    <tr>\n      <th>id</th>\n      <td>0</td>\n      <td>0.0</td>\n      <td>object</td>\n      <td>18104</td>\n      <td>NaN</td>\n      <td>NaN</td>\n      <td>0004aec3-c5a7-4282-82eb-79cb3c18d2a7</td>\n      <td>fffc405f-2901-45ab-9e6f-1bce809e8977</td>\n    </tr>\n    <tr>\n      <th>lat</th>\n      <td>0</td>\n      <td>0.0</td>\n      <td>float64</td>\n      <td>18104</td>\n      <td>-22.887996</td>\n      <td>-22.872597</td>\n      <td>-22.9352</td>\n      <td>-22.8346</td>\n    </tr>\n    <tr>\n      <th>lng</th>\n      <td>0</td>\n      <td>0.0</td>\n      <td>float64</td>\n      <td>18104</td>\n      <td>-42.407432</td>\n      <td>-42.359461</td>\n      <td>-42.4957</td>\n      <td>-42.3168</td>\n    </tr>\n    <tr>\n      <th>speedBumpId</th>\n      <td>0</td>\n      <td>0.0</td>\n      <td>int64</td>\n      <td>18104</td>\n      <td>0.006131</td>\n      <td>0.000000</td>\n      <td>0</td>\n      <td>2</td>\n    </tr>\n    <tr>\n      <th>x</th>\n      <td>0</td>\n      <td>0.0</td>\n      <td>float64</td>\n      <td>18104</td>\n      <td>-0.437377</td>\n      <td>-0.466293</td>\n      <td>-8.20197</td>\n      <td>5.52878</td>\n    </tr>\n    <tr>\n      <th>y</th>\n      <td>0</td>\n      <td>0.0</td>\n      <td>float64</td>\n      <td>18104</td>\n      <td>9.322921</td>\n      <td>9.389313</td>\n      <td>3.04707</td>\n      <td>16.038</td>\n    </tr>\n    <tr>\n      <th>z</th>\n      <td>0</td>\n      <td>0.0</td>\n      <td>float64</td>\n      <td>18104</td>\n      <td>2.955087</td>\n      <td>2.657356</td>\n      <td>-11.6588</td>\n      <td>15.6758</td>\n    </tr>\n  </tbody>\n</table>\n</div>"
     },
     "metadata": {}
    }
   ],
   "source": [
    "df_manipulator.apply_describe(df)"
   ]
  },
  {
   "cell_type": "code",
   "execution_count": 7,
   "metadata": {},
   "outputs": [
    {
     "output_type": "execute_result",
     "data": {
      "text/plain": "0    18003\n1       91\n2       10\nName: speedBumpId, dtype: int64"
     },
     "metadata": {},
     "execution_count": 7
    }
   ],
   "source": [
    "df.speedBumpId.value_counts()"
   ]
  },
  {
   "cell_type": "markdown",
   "metadata": {},
   "source": [
    "## Mapeia nome das colunas para snake_case"
   ]
  },
  {
   "cell_type": "code",
   "execution_count": 8,
   "metadata": {},
   "outputs": [],
   "source": [
    "df = df_manipulator.rename_columns(df)"
   ]
  },
  {
   "cell_type": "markdown",
   "metadata": {},
   "source": [
    "## Regulariza intervalos do index (timestamp)"
   ]
  },
  {
   "cell_type": "code",
   "execution_count": 9,
   "metadata": {},
   "outputs": [],
   "source": [
    "df_out = df.resample(str(input_config['df_resample']) + input_config['df_resample_freq']).ffill(limit=10)\n",
    "df_out.dropna(inplace=True, how='all', subset=['x','y','z','lat','lng'])\n",
    "\n",
    "df_out.speed_bump_id = df_out.speed_bump_id.astype('int64', copy=False, errors='ignore')"
   ]
  },
  {
   "cell_type": "code",
   "execution_count": 10,
   "metadata": {},
   "outputs": [
    {
     "output_type": "execute_result",
     "data": {
      "text/plain": "                                                           id  speed_bump_id  \\\ntimestamp                                                                      \n2020-05-17 20:14:32.800  b78d7d2f-3fd1-4d81-81ee-d00afc039814              0   \n2020-05-17 20:14:32.900  1c59acca-2bb8-4686-9e93-95aa791f6f70              0   \n2020-05-17 20:14:33.000  de01a2a1-dd19-4081-921f-890907e5ca4d              0   \n2020-05-17 20:14:33.100  8864e0ac-54c0-4b94-b018-cd764c6dcef0              0   \n2020-05-17 20:14:33.200  8864e0ac-54c0-4b94-b018-cd764c6dcef0              0   \n...                                                       ...            ...   \n2020-06-20 14:41:23.800  9045a063-725e-4d4f-abf7-d73d8bba8a89              0   \n2020-06-20 14:41:23.900  9045a063-725e-4d4f-abf7-d73d8bba8a89              0   \n2020-06-20 14:41:24.000  145b6c26-33d5-4c20-b585-3e620dd871ec              0   \n2020-06-20 14:41:24.100  22d48c68-3114-4d47-9e98-7aae0bb74ecb              0   \n2020-06-20 14:41:24.200  9901fb0e-0d57-482f-bb1c-6e3614603a1c              0   \n\n                                x          y         z        lat        lng  \ntimestamp                                                                     \n2020-05-17 20:14:32.800  0.843323   8.838654  3.714386 -22.919592 -42.473961  \n2020-05-17 20:14:32.900 -2.240402  10.248825  3.108658 -22.919592 -42.473961  \n2020-05-17 20:14:33.000 -1.998596  10.842590  2.215622 -22.919592 -42.473961  \n2020-05-17 20:14:33.100 -2.326599   9.702957  2.493347 -22.919592 -42.473961  \n2020-05-17 20:14:33.200 -2.326599   9.702957  2.493347 -22.919592 -42.473961  \n...                           ...        ...       ...        ...        ...  \n2020-06-20 14:41:23.800  0.548843   8.189819  6.620956 -22.871247 -42.340474  \n2020-06-20 14:41:23.900  0.548843   8.189819  6.620956 -22.871247 -42.340474  \n2020-06-20 14:41:24.000  0.146622   8.970322  5.715942 -22.871481 -42.340609  \n2020-06-20 14:41:24.100  0.589539  11.125107  4.638550 -22.871481 -42.340609  \n2020-06-20 14:41:24.200  0.745163   9.930405  3.197250 -22.871481 -42.340609  \n\n[21345 rows x 7 columns]",
      "text/html": "<div>\n<style scoped>\n    .dataframe tbody tr th:only-of-type {\n        vertical-align: middle;\n    }\n\n    .dataframe tbody tr th {\n        vertical-align: top;\n    }\n\n    .dataframe thead th {\n        text-align: right;\n    }\n</style>\n<table border=\"1\" class=\"dataframe\">\n  <thead>\n    <tr style=\"text-align: right;\">\n      <th></th>\n      <th>id</th>\n      <th>speed_bump_id</th>\n      <th>x</th>\n      <th>y</th>\n      <th>z</th>\n      <th>lat</th>\n      <th>lng</th>\n    </tr>\n    <tr>\n      <th>timestamp</th>\n      <th></th>\n      <th></th>\n      <th></th>\n      <th></th>\n      <th></th>\n      <th></th>\n      <th></th>\n    </tr>\n  </thead>\n  <tbody>\n    <tr>\n      <th>2020-05-17 20:14:32.800</th>\n      <td>b78d7d2f-3fd1-4d81-81ee-d00afc039814</td>\n      <td>0</td>\n      <td>0.843323</td>\n      <td>8.838654</td>\n      <td>3.714386</td>\n      <td>-22.919592</td>\n      <td>-42.473961</td>\n    </tr>\n    <tr>\n      <th>2020-05-17 20:14:32.900</th>\n      <td>1c59acca-2bb8-4686-9e93-95aa791f6f70</td>\n      <td>0</td>\n      <td>-2.240402</td>\n      <td>10.248825</td>\n      <td>3.108658</td>\n      <td>-22.919592</td>\n      <td>-42.473961</td>\n    </tr>\n    <tr>\n      <th>2020-05-17 20:14:33.000</th>\n      <td>de01a2a1-dd19-4081-921f-890907e5ca4d</td>\n      <td>0</td>\n      <td>-1.998596</td>\n      <td>10.842590</td>\n      <td>2.215622</td>\n      <td>-22.919592</td>\n      <td>-42.473961</td>\n    </tr>\n    <tr>\n      <th>2020-05-17 20:14:33.100</th>\n      <td>8864e0ac-54c0-4b94-b018-cd764c6dcef0</td>\n      <td>0</td>\n      <td>-2.326599</td>\n      <td>9.702957</td>\n      <td>2.493347</td>\n      <td>-22.919592</td>\n      <td>-42.473961</td>\n    </tr>\n    <tr>\n      <th>2020-05-17 20:14:33.200</th>\n      <td>8864e0ac-54c0-4b94-b018-cd764c6dcef0</td>\n      <td>0</td>\n      <td>-2.326599</td>\n      <td>9.702957</td>\n      <td>2.493347</td>\n      <td>-22.919592</td>\n      <td>-42.473961</td>\n    </tr>\n    <tr>\n      <th>...</th>\n      <td>...</td>\n      <td>...</td>\n      <td>...</td>\n      <td>...</td>\n      <td>...</td>\n      <td>...</td>\n      <td>...</td>\n    </tr>\n    <tr>\n      <th>2020-06-20 14:41:23.800</th>\n      <td>9045a063-725e-4d4f-abf7-d73d8bba8a89</td>\n      <td>0</td>\n      <td>0.548843</td>\n      <td>8.189819</td>\n      <td>6.620956</td>\n      <td>-22.871247</td>\n      <td>-42.340474</td>\n    </tr>\n    <tr>\n      <th>2020-06-20 14:41:23.900</th>\n      <td>9045a063-725e-4d4f-abf7-d73d8bba8a89</td>\n      <td>0</td>\n      <td>0.548843</td>\n      <td>8.189819</td>\n      <td>6.620956</td>\n      <td>-22.871247</td>\n      <td>-42.340474</td>\n    </tr>\n    <tr>\n      <th>2020-06-20 14:41:24.000</th>\n      <td>145b6c26-33d5-4c20-b585-3e620dd871ec</td>\n      <td>0</td>\n      <td>0.146622</td>\n      <td>8.970322</td>\n      <td>5.715942</td>\n      <td>-22.871481</td>\n      <td>-42.340609</td>\n    </tr>\n    <tr>\n      <th>2020-06-20 14:41:24.100</th>\n      <td>22d48c68-3114-4d47-9e98-7aae0bb74ecb</td>\n      <td>0</td>\n      <td>0.589539</td>\n      <td>11.125107</td>\n      <td>4.638550</td>\n      <td>-22.871481</td>\n      <td>-42.340609</td>\n    </tr>\n    <tr>\n      <th>2020-06-20 14:41:24.200</th>\n      <td>9901fb0e-0d57-482f-bb1c-6e3614603a1c</td>\n      <td>0</td>\n      <td>0.745163</td>\n      <td>9.930405</td>\n      <td>3.197250</td>\n      <td>-22.871481</td>\n      <td>-42.340609</td>\n    </tr>\n  </tbody>\n</table>\n<p>21345 rows × 7 columns</p>\n</div>"
     },
     "metadata": {},
     "execution_count": 10
    }
   ],
   "source": [
    "df_out"
   ]
  },
  {
   "cell_type": "markdown",
   "metadata": {},
   "source": [
    "## Ajusta momento da marcação de quebra-mola"
   ]
  },
  {
   "cell_type": "code",
   "execution_count": 11,
   "metadata": {},
   "outputs": [],
   "source": [
    "teste = pd.DatetimeIndex(['2020-05-17 20:15:01.300000', '2020-05-17 20:15:01.400000',\n",
    "               '2020-05-17 20:15:01.500000', '2020-05-17 20:15:01.600000',\n",
    "               '2020-05-17 20:15:01.700000', '2020-05-17 20:15:01.800000',\n",
    "               '2020-05-17 20:15:01.900000',        '2020-05-17 20:15:02',\n",
    "               '2020-05-17 20:15:02.100000', '2020-05-17 20:15:02.200000',\n",
    "               '2020-05-17 20:15:02.300000', '2020-05-17 20:15:02.400000',\n",
    "               '2020-05-17 20:15:02.500000', '2020-05-17 20:15:02.600000',\n",
    "               '2020-05-17 20:15:02.700000', '2020-05-17 20:15:02.800000',\n",
    "               '2020-05-17 20:15:02.900000',        '2020-05-17 20:15:03',\n",
    "               '2020-05-17 20:15:03.100000', '2020-05-17 20:15:03.200000',\n",
    "               '2020-05-17 20:15:03.300000', '2020-05-17 20:15:03.400000',\n",
    "               '2020-05-17 20:15:03.500000', '2020-05-17 20:15:03.600000',\n",
    "               '2020-05-17 20:15:03.700000', '2020-05-17 20:15:03.800000'])"
   ]
  },
  {
   "cell_type": "code",
   "execution_count": 12,
   "metadata": {},
   "outputs": [],
   "source": [
    "teste2 = pd.DatetimeIndex(['2020-05-17 20:15:01.300000', '2020-05-17 20:15:01.400000',\n",
    "               '2020-05-17 20:15:01.500000', '2020-05-17 20:15:01.600000',\n",
    "               '2020-05-17 20:15:01.700000', '2020-05-17 20:15:01.800000',\n",
    "               '2020-05-17 20:15:01.900000',\n",
    "               '2020-05-17 20:15:02.100000', '2020-05-17 20:15:02.200000',\n",
    "               '2020-05-17 20:15:02.300000', '2020-05-17 20:15:02.400000',\n",
    "               '2020-05-17 20:15:02.500000', '2020-05-17 20:15:02.600000',\n",
    "               '2020-05-17 20:15:02.700000', '2020-05-17 20:15:02.800000',\n",
    "               '2020-05-17 20:15:02.900000',\n",
    "               '2020-05-17 20:15:03.100000', '2020-05-17 20:15:03.200000',\n",
    "               '2020-05-17 20:15:03.300000', '2020-05-17 20:15:03.400000',\n",
    "               '2020-05-17 20:15:03.500000', '2020-05-17 20:15:03.600000',\n",
    "               '2020-05-17 20:15:03.700000', '2020-05-17 20:15:03.800000'])"
   ]
  },
  {
   "cell_type": "code",
   "execution_count": 16,
   "metadata": {
    "tags": [
     "outputPrepend",
     "outputPrepend"
    ]
   },
   "outputs": [],
   "source": [
    "df_out = fix_manual_event_timestamp(df_out, speed_bump_id=None, mapping_window_width=output_config['mapping_window_width'], mapping_window_freq=output_config['mapping_window_freq'], verbose=False)"
   ]
  },
  {
   "cell_type": "code",
   "execution_count": 17,
   "metadata": {},
   "outputs": [
    {
     "output_type": "execute_result",
     "data": {
      "text/plain": "0    21248\n1       88\n2        9\nName: speed_bump_id, dtype: int64"
     },
     "metadata": {},
     "execution_count": 17
    }
   ],
   "source": [
    "df_out.speed_bump_id.value_counts()"
   ]
  },
  {
   "cell_type": "markdown",
   "metadata": {},
   "source": [
    "## Salva o dataframe de saída"
   ]
  },
  {
   "cell_type": "code",
   "execution_count": 18,
   "metadata": {},
   "outputs": [
    {
     "output_type": "stream",
     "name": "stdout",
     "text": "O arquivo ./out/2_export_lunar_20200517_20200620.csv foi gerado!\n"
    }
   ],
   "source": [
    "out_filename = file_manipulator.get_out_filename(output_config['file']['prefix'], output_config['file']['ref_dir'], input_config['file']['filename'])\n",
    "\n",
    "df_out.to_csv(out_filename, sep=output_config['file']['delimiter'], header=output_config['file']['with_header'])\n",
    "\n",
    "print(f'O arquivo {out_filename} foi gerado!')"
   ]
  },
  {
   "cell_type": "code",
   "execution_count": null,
   "metadata": {},
   "outputs": [],
   "source": []
  }
 ],
 "metadata": {
  "language_info": {
   "codemirror_mode": {
    "name": "ipython",
    "version": 3
   },
   "file_extension": ".py",
   "mimetype": "text/x-python",
   "name": "python",
   "nbconvert_exporter": "python",
   "pygments_lexer": "ipython3",
   "version": "3.6.9-final"
  },
  "orig_nbformat": 2,
  "kernelspec": {
   "name": "python36964bitvenvvenv15842a2001b14e7c9614d80f05b24238",
   "display_name": "Python 3.6.9 64-bit ('.venv': venv)"
  }
 },
 "nbformat": 4,
 "nbformat_minor": 2
}