{
 "cells": [
  {
   "cell_type": "markdown",
   "metadata": {},
   "source": [
    "## Imports"
   ]
  },
  {
   "cell_type": "code",
   "execution_count": 259,
   "metadata": {},
   "outputs": [],
   "source": [
    "import pandas as pd\n",
    "import sys, os, importlib\n",
    "from datetime import datetime"
   ]
  },
  {
   "cell_type": "code",
   "execution_count": 260,
   "metadata": {},
   "outputs": [],
   "source": [
    "pd.set_option('display.max_rows', 100)\n",
    "\n",
    "if os.path.join('..','0_funcoes_base') not in sys.path:\n",
    "    sys.path.append(os.path.join('..','0_funcoes_base')) \n",
    "\n",
    "df_manipulator = importlib.import_module('df_manipulator')\n",
    "date_manipulator = importlib.import_module('date_manipulator')\n"
   ]
  },
  {
   "cell_type": "markdown",
   "metadata": {},
   "source": [
    "## Dados de configuração"
   ]
  },
  {
   "cell_type": "code",
   "execution_count": 261,
   "metadata": {},
   "outputs": [],
   "source": [
    "input_config = {\n",
    "    'ref_dir':'./out/',\n",
    "    'filename':'1_export_lunar_20200517.csv',\n",
    "    'delimiter': ';'\n",
    "}\n",
    "\n",
    "out_config = {\n",
    "    'ref_dir': './out',\n",
    "    'delimiter':';',\n",
    "    'with_header': True\n",
    "}"
   ]
  },
  {
   "cell_type": "markdown",
   "metadata": {},
   "source": [
    "## Funções"
   ]
  },
  {
   "cell_type": "code",
   "execution_count": 262,
   "metadata": {},
   "outputs": [],
   "source": [
    "def round_timestamp(df, col, expression):\n",
    "    df_out = df.copy()\n",
    "    df_out[col] = df_out[col].dt.round(expression)\n",
    "    return df_out\n",
    "\n",
    "def remove_duplicated_timestamp(df):\n",
    "    df_out = df.copy()\n",
    "\n",
    "    duplicated_timestamp_indexes      = [idx for idx,value in df_out.timestamp.duplicated(keep='first').items() if value == True]\n",
    "    speedbump_on_duplicated_timestamp = [idx for idx in duplicated_timestamp_indexes if df_out.loc[idx].speedBumpId != 0]\n",
    "\n",
    "    rows_to_remove = list(set(duplicated_timestamp_indexes) - set(speedbump_on_duplicated_timestamp))\n",
    "\n",
    "    if len(rows_to_remove) > 0:\n",
    "        df_out.drop(df_out.index[rows_to_remove], inplace=True)\n",
    "    return df_out\n",
    "\n",
    "def get_out_filename(prefix):\n",
    "    return os.path.join(out_config['ref_dir'], prefix + input_config['filename'].replace('1_', ''))"
   ]
  },
  {
   "cell_type": "markdown",
   "metadata": {},
   "source": [
    "## Carrega dataframe"
   ]
  },
  {
   "cell_type": "code",
   "execution_count": 263,
   "metadata": {},
   "outputs": [],
   "source": [
    "df = df_manipulator.load_dataframe(input_config['filename'], input_config['ref_dir'], input_config['delimiter'])\n",
    "\n",
    "df.timestamp = pd.to_datetime(df.timestamp)"
   ]
  },
  {
   "cell_type": "code",
   "execution_count": 264,
   "metadata": {},
   "outputs": [
    {
     "output_type": "execute_result",
     "data": {
      "text/plain": "                    timestamp                                    id  \\\n0     2020-05-17 20:10:48.346  d198e52b-bd5b-424a-8ea5-d391fbdb7b20   \n1     2020-05-17 20:10:48.543  a9df8305-e4ed-4530-ab78-e1aa3ca9ffbd   \n2     2020-05-17 20:10:48.743  74dedc33-8d9b-4aa6-a352-df1ee9364ed7   \n3     2020-05-17 20:10:48.843  4a64f1bf-ea98-49db-baff-d7d08baf2dce   \n4     2020-05-17 20:10:48.944  25a3976b-a812-4bf2-a2fe-113d7b01cd11   \n...                       ...                                   ...   \n11131 2020-05-17 20:35:51.161  0f15d4aa-c4c3-40ba-9d1f-1746e938a5eb   \n11132 2020-05-17 20:35:51.261  c044a484-bb8b-421b-8cc8-a6ad4713e28f   \n11133 2020-05-17 20:35:51.361  c9d94f9a-6211-4198-b39b-70db0ef2e890   \n11134 2020-05-17 20:35:51.461  2fa87037-71b8-42e0-bd89-64bff33cfead   \n11135 2020-05-17 20:35:51.561  1c157063-30f5-428a-9690-022951e7315b   \n\n       speedBumpId         x          y         z        lat        lng  \n0                0 -3.399200   9.516205  1.573975 -22.921991 -42.473372  \n1                0 -2.987396  10.203339  1.291458 -22.921991 -42.473372  \n2                0 -4.376038   9.746048  1.806213 -22.921991 -42.473372  \n3                0 -3.698471   9.317490  1.849304 -22.921991 -42.473372  \n4                0 -5.039230   9.372559  0.522919 -22.921991 -42.473372  \n...            ...       ...        ...       ...        ...        ...  \n11131            0  0.386032  10.105179  1.660172 -22.925816 -42.484631  \n11132            0 -1.378494   9.920822  2.608276 -22.925816 -42.484631  \n11133            0 -1.215683   9.523392  2.505325 -22.925816 -42.484631  \n11134            0 -0.435181   8.999054  2.871628 -22.925816 -42.484631  \n11135            0 -0.969086   9.212143  0.702484 -22.925816 -42.484631  \n\n[11136 rows x 8 columns]",
      "text/html": "<div>\n<style scoped>\n    .dataframe tbody tr th:only-of-type {\n        vertical-align: middle;\n    }\n\n    .dataframe tbody tr th {\n        vertical-align: top;\n    }\n\n    .dataframe thead th {\n        text-align: right;\n    }\n</style>\n<table border=\"1\" class=\"dataframe\">\n  <thead>\n    <tr style=\"text-align: right;\">\n      <th></th>\n      <th>timestamp</th>\n      <th>id</th>\n      <th>speedBumpId</th>\n      <th>x</th>\n      <th>y</th>\n      <th>z</th>\n      <th>lat</th>\n      <th>lng</th>\n    </tr>\n  </thead>\n  <tbody>\n    <tr>\n      <th>0</th>\n      <td>2020-05-17 20:10:48.346</td>\n      <td>d198e52b-bd5b-424a-8ea5-d391fbdb7b20</td>\n      <td>0</td>\n      <td>-3.399200</td>\n      <td>9.516205</td>\n      <td>1.573975</td>\n      <td>-22.921991</td>\n      <td>-42.473372</td>\n    </tr>\n    <tr>\n      <th>1</th>\n      <td>2020-05-17 20:10:48.543</td>\n      <td>a9df8305-e4ed-4530-ab78-e1aa3ca9ffbd</td>\n      <td>0</td>\n      <td>-2.987396</td>\n      <td>10.203339</td>\n      <td>1.291458</td>\n      <td>-22.921991</td>\n      <td>-42.473372</td>\n    </tr>\n    <tr>\n      <th>2</th>\n      <td>2020-05-17 20:10:48.743</td>\n      <td>74dedc33-8d9b-4aa6-a352-df1ee9364ed7</td>\n      <td>0</td>\n      <td>-4.376038</td>\n      <td>9.746048</td>\n      <td>1.806213</td>\n      <td>-22.921991</td>\n      <td>-42.473372</td>\n    </tr>\n    <tr>\n      <th>3</th>\n      <td>2020-05-17 20:10:48.843</td>\n      <td>4a64f1bf-ea98-49db-baff-d7d08baf2dce</td>\n      <td>0</td>\n      <td>-3.698471</td>\n      <td>9.317490</td>\n      <td>1.849304</td>\n      <td>-22.921991</td>\n      <td>-42.473372</td>\n    </tr>\n    <tr>\n      <th>4</th>\n      <td>2020-05-17 20:10:48.944</td>\n      <td>25a3976b-a812-4bf2-a2fe-113d7b01cd11</td>\n      <td>0</td>\n      <td>-5.039230</td>\n      <td>9.372559</td>\n      <td>0.522919</td>\n      <td>-22.921991</td>\n      <td>-42.473372</td>\n    </tr>\n    <tr>\n      <th>...</th>\n      <td>...</td>\n      <td>...</td>\n      <td>...</td>\n      <td>...</td>\n      <td>...</td>\n      <td>...</td>\n      <td>...</td>\n      <td>...</td>\n    </tr>\n    <tr>\n      <th>11131</th>\n      <td>2020-05-17 20:35:51.161</td>\n      <td>0f15d4aa-c4c3-40ba-9d1f-1746e938a5eb</td>\n      <td>0</td>\n      <td>0.386032</td>\n      <td>10.105179</td>\n      <td>1.660172</td>\n      <td>-22.925816</td>\n      <td>-42.484631</td>\n    </tr>\n    <tr>\n      <th>11132</th>\n      <td>2020-05-17 20:35:51.261</td>\n      <td>c044a484-bb8b-421b-8cc8-a6ad4713e28f</td>\n      <td>0</td>\n      <td>-1.378494</td>\n      <td>9.920822</td>\n      <td>2.608276</td>\n      <td>-22.925816</td>\n      <td>-42.484631</td>\n    </tr>\n    <tr>\n      <th>11133</th>\n      <td>2020-05-17 20:35:51.361</td>\n      <td>c9d94f9a-6211-4198-b39b-70db0ef2e890</td>\n      <td>0</td>\n      <td>-1.215683</td>\n      <td>9.523392</td>\n      <td>2.505325</td>\n      <td>-22.925816</td>\n      <td>-42.484631</td>\n    </tr>\n    <tr>\n      <th>11134</th>\n      <td>2020-05-17 20:35:51.461</td>\n      <td>2fa87037-71b8-42e0-bd89-64bff33cfead</td>\n      <td>0</td>\n      <td>-0.435181</td>\n      <td>8.999054</td>\n      <td>2.871628</td>\n      <td>-22.925816</td>\n      <td>-42.484631</td>\n    </tr>\n    <tr>\n      <th>11135</th>\n      <td>2020-05-17 20:35:51.561</td>\n      <td>1c157063-30f5-428a-9690-022951e7315b</td>\n      <td>0</td>\n      <td>-0.969086</td>\n      <td>9.212143</td>\n      <td>0.702484</td>\n      <td>-22.925816</td>\n      <td>-42.484631</td>\n    </tr>\n  </tbody>\n</table>\n<p>11136 rows × 8 columns</p>\n</div>"
     },
     "metadata": {},
     "execution_count": 264
    }
   ],
   "source": [
    "df"
   ]
  },
  {
   "cell_type": "markdown",
   "metadata": {},
   "source": [
    "## Arredonda timestamp do dataframe e remove duplicatas"
   ]
  },
  {
   "cell_type": "code",
   "execution_count": 265,
   "metadata": {
    "tags": [
     "outputPrepend",
     "outputPrepend",
     "outputPrepend",
     "outputPrepend",
     "outputPrepend",
     "outputPrepend",
     "outputPrepend"
    ]
   },
   "outputs": [],
   "source": [
    "df_filtered = round_timestamp(df, 'timestamp', '50ms')\n",
    "df_filtered = remove_duplicated_timestamp(df_filtered)\n"
   ]
  },
  {
   "cell_type": "code",
   "execution_count": 266,
   "metadata": {},
   "outputs": [
    {
     "output_type": "stream",
     "name": "stdout",
     "text": "Antes  do filtro: (11136, 8)\nDepois do filtro: (11136, 8)\n"
    }
   ],
   "source": [
    "print(f'Antes  do filtro: {df.shape}')\n",
    "print(f'Depois do filtro: {df_filtered.shape}')"
   ]
  },
  {
   "cell_type": "code",
   "execution_count": 267,
   "metadata": {},
   "outputs": [
    {
     "output_type": "execute_result",
     "data": {
      "text/plain": "                    timestamp                                    id  \\\n0     2020-05-17 20:10:48.350  d198e52b-bd5b-424a-8ea5-d391fbdb7b20   \n1     2020-05-17 20:10:48.550  a9df8305-e4ed-4530-ab78-e1aa3ca9ffbd   \n2     2020-05-17 20:10:48.750  74dedc33-8d9b-4aa6-a352-df1ee9364ed7   \n3     2020-05-17 20:10:48.850  4a64f1bf-ea98-49db-baff-d7d08baf2dce   \n4     2020-05-17 20:10:48.950  25a3976b-a812-4bf2-a2fe-113d7b01cd11   \n...                       ...                                   ...   \n11131 2020-05-17 20:35:51.150  0f15d4aa-c4c3-40ba-9d1f-1746e938a5eb   \n11132 2020-05-17 20:35:51.250  c044a484-bb8b-421b-8cc8-a6ad4713e28f   \n11133 2020-05-17 20:35:51.350  c9d94f9a-6211-4198-b39b-70db0ef2e890   \n11134 2020-05-17 20:35:51.450  2fa87037-71b8-42e0-bd89-64bff33cfead   \n11135 2020-05-17 20:35:51.550  1c157063-30f5-428a-9690-022951e7315b   \n\n       speedBumpId         x          y         z        lat        lng  \n0                0 -3.399200   9.516205  1.573975 -22.921991 -42.473372  \n1                0 -2.987396  10.203339  1.291458 -22.921991 -42.473372  \n2                0 -4.376038   9.746048  1.806213 -22.921991 -42.473372  \n3                0 -3.698471   9.317490  1.849304 -22.921991 -42.473372  \n4                0 -5.039230   9.372559  0.522919 -22.921991 -42.473372  \n...            ...       ...        ...       ...        ...        ...  \n11131            0  0.386032  10.105179  1.660172 -22.925816 -42.484631  \n11132            0 -1.378494   9.920822  2.608276 -22.925816 -42.484631  \n11133            0 -1.215683   9.523392  2.505325 -22.925816 -42.484631  \n11134            0 -0.435181   8.999054  2.871628 -22.925816 -42.484631  \n11135            0 -0.969086   9.212143  0.702484 -22.925816 -42.484631  \n\n[11136 rows x 8 columns]",
      "text/html": "<div>\n<style scoped>\n    .dataframe tbody tr th:only-of-type {\n        vertical-align: middle;\n    }\n\n    .dataframe tbody tr th {\n        vertical-align: top;\n    }\n\n    .dataframe thead th {\n        text-align: right;\n    }\n</style>\n<table border=\"1\" class=\"dataframe\">\n  <thead>\n    <tr style=\"text-align: right;\">\n      <th></th>\n      <th>timestamp</th>\n      <th>id</th>\n      <th>speedBumpId</th>\n      <th>x</th>\n      <th>y</th>\n      <th>z</th>\n      <th>lat</th>\n      <th>lng</th>\n    </tr>\n  </thead>\n  <tbody>\n    <tr>\n      <th>0</th>\n      <td>2020-05-17 20:10:48.350</td>\n      <td>d198e52b-bd5b-424a-8ea5-d391fbdb7b20</td>\n      <td>0</td>\n      <td>-3.399200</td>\n      <td>9.516205</td>\n      <td>1.573975</td>\n      <td>-22.921991</td>\n      <td>-42.473372</td>\n    </tr>\n    <tr>\n      <th>1</th>\n      <td>2020-05-17 20:10:48.550</td>\n      <td>a9df8305-e4ed-4530-ab78-e1aa3ca9ffbd</td>\n      <td>0</td>\n      <td>-2.987396</td>\n      <td>10.203339</td>\n      <td>1.291458</td>\n      <td>-22.921991</td>\n      <td>-42.473372</td>\n    </tr>\n    <tr>\n      <th>2</th>\n      <td>2020-05-17 20:10:48.750</td>\n      <td>74dedc33-8d9b-4aa6-a352-df1ee9364ed7</td>\n      <td>0</td>\n      <td>-4.376038</td>\n      <td>9.746048</td>\n      <td>1.806213</td>\n      <td>-22.921991</td>\n      <td>-42.473372</td>\n    </tr>\n    <tr>\n      <th>3</th>\n      <td>2020-05-17 20:10:48.850</td>\n      <td>4a64f1bf-ea98-49db-baff-d7d08baf2dce</td>\n      <td>0</td>\n      <td>-3.698471</td>\n      <td>9.317490</td>\n      <td>1.849304</td>\n      <td>-22.921991</td>\n      <td>-42.473372</td>\n    </tr>\n    <tr>\n      <th>4</th>\n      <td>2020-05-17 20:10:48.950</td>\n      <td>25a3976b-a812-4bf2-a2fe-113d7b01cd11</td>\n      <td>0</td>\n      <td>-5.039230</td>\n      <td>9.372559</td>\n      <td>0.522919</td>\n      <td>-22.921991</td>\n      <td>-42.473372</td>\n    </tr>\n    <tr>\n      <th>...</th>\n      <td>...</td>\n      <td>...</td>\n      <td>...</td>\n      <td>...</td>\n      <td>...</td>\n      <td>...</td>\n      <td>...</td>\n      <td>...</td>\n    </tr>\n    <tr>\n      <th>11131</th>\n      <td>2020-05-17 20:35:51.150</td>\n      <td>0f15d4aa-c4c3-40ba-9d1f-1746e938a5eb</td>\n      <td>0</td>\n      <td>0.386032</td>\n      <td>10.105179</td>\n      <td>1.660172</td>\n      <td>-22.925816</td>\n      <td>-42.484631</td>\n    </tr>\n    <tr>\n      <th>11132</th>\n      <td>2020-05-17 20:35:51.250</td>\n      <td>c044a484-bb8b-421b-8cc8-a6ad4713e28f</td>\n      <td>0</td>\n      <td>-1.378494</td>\n      <td>9.920822</td>\n      <td>2.608276</td>\n      <td>-22.925816</td>\n      <td>-42.484631</td>\n    </tr>\n    <tr>\n      <th>11133</th>\n      <td>2020-05-17 20:35:51.350</td>\n      <td>c9d94f9a-6211-4198-b39b-70db0ef2e890</td>\n      <td>0</td>\n      <td>-1.215683</td>\n      <td>9.523392</td>\n      <td>2.505325</td>\n      <td>-22.925816</td>\n      <td>-42.484631</td>\n    </tr>\n    <tr>\n      <th>11134</th>\n      <td>2020-05-17 20:35:51.450</td>\n      <td>2fa87037-71b8-42e0-bd89-64bff33cfead</td>\n      <td>0</td>\n      <td>-0.435181</td>\n      <td>8.999054</td>\n      <td>2.871628</td>\n      <td>-22.925816</td>\n      <td>-42.484631</td>\n    </tr>\n    <tr>\n      <th>11135</th>\n      <td>2020-05-17 20:35:51.550</td>\n      <td>1c157063-30f5-428a-9690-022951e7315b</td>\n      <td>0</td>\n      <td>-0.969086</td>\n      <td>9.212143</td>\n      <td>0.702484</td>\n      <td>-22.925816</td>\n      <td>-42.484631</td>\n    </tr>\n  </tbody>\n</table>\n<p>11136 rows × 8 columns</p>\n</div>"
     },
     "metadata": {},
     "execution_count": 267
    }
   ],
   "source": [
    "df_filtered"
   ]
  },
  {
   "cell_type": "markdown",
   "metadata": {},
   "source": [
    "## Ajusta clique de quebra-mola"
   ]
  },
  {
   "cell_type": "code",
   "execution_count": null,
   "metadata": {},
   "outputs": [],
   "source": []
  },
  {
   "cell_type": "markdown",
   "metadata": {},
   "source": [
    "## Salva o dataframe de saída"
   ]
  },
  {
   "cell_type": "code",
   "execution_count": 268,
   "metadata": {},
   "outputs": [
    {
     "output_type": "stream",
     "name": "stdout",
     "text": "O arquivo ./out/2_export_lunar_20200517.csv foi gerado!\n"
    }
   ],
   "source": [
    "df_manipulator.set_index(df_filtered, 'timestamp', inplace=True)\n",
    "\n",
    "out_filename = get_out_filename(prefix='2_')\n",
    "df_filtered.to_csv(out_filename, sep=out_config['delimiter'], header=out_config['with_header'])\n",
    "print(f'O arquivo {out_filename} foi gerado!')"
   ]
  }
 ],
 "metadata": {
  "language_info": {
   "codemirror_mode": {
    "name": "ipython",
    "version": 3
   },
   "file_extension": ".py",
   "mimetype": "text/x-python",
   "name": "python",
   "nbconvert_exporter": "python",
   "pygments_lexer": "ipython3",
   "version": "3.6.9-final"
  },
  "orig_nbformat": 2,
  "kernelspec": {
   "name": "python36964bitvenvvenv15842a2001b14e7c9614d80f05b24238",
   "display_name": "Python 3.6.9 64-bit ('.venv': venv)"
  }
 },
 "nbformat": 4,
 "nbformat_minor": 2
}