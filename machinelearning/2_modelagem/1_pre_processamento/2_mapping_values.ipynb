{
 "cells": [
  {
   "cell_type": "markdown",
   "metadata": {},
   "source": [
    "## Imports"
   ]
  },
  {
   "cell_type": "code",
   "execution_count": 452,
   "metadata": {},
   "outputs": [],
   "source": [
    "import pandas as pd\n",
    "import sys, os, importlib\n",
    "from datetime import datetime\n",
    "import numpy as np"
   ]
  },
  {
   "cell_type": "code",
   "execution_count": 453,
   "metadata": {},
   "outputs": [],
   "source": [
    "pd.set_option('display.max_rows', 100)\n",
    "\n",
    "if os.path.join('..','0_funcoes_base') not in sys.path:\n",
    "    sys.path.append(os.path.join('..','0_funcoes_base')) \n",
    "\n",
    "df_manipulator = importlib.import_module('df_manipulator')\n",
    "date_manipulator = importlib.import_module('date_manipulator')\n",
    "plot_manipulator = importlib.import_module('plot_manipulator')\n"
   ]
  },
  {
   "cell_type": "markdown",
   "metadata": {},
   "source": [
    "## Dados de configuração"
   ]
  },
  {
   "cell_type": "code",
   "execution_count": 454,
   "metadata": {},
   "outputs": [],
   "source": [
    "input_config = {\n",
    "    'file': {\n",
    "        'ref_dir':'./out/',\n",
    "        'filename':'1_export_lunar_20200517.csv',\n",
    "        'delimiter': ';'\n",
    "    },\n",
    "    'max_consecutive_nan': 10,\n",
    "    'df_resample': 100,\n",
    "    'df_resample_freq': 'ms'\n",
    "}\n",
    "\n",
    "output_config = {\n",
    "    'file': {\n",
    "        'ref_dir': './out',\n",
    "        'delimiter':';',\n",
    "        'with_header': True\n",
    "    }\n",
    "}"
   ]
  },
  {
   "cell_type": "markdown",
   "metadata": {},
   "source": [
    "## Funções"
   ]
  },
  {
   "cell_type": "code",
   "execution_count": 455,
   "metadata": {},
   "outputs": [],
   "source": [
    "def get_speed_bumps_idx(df, speed_bump_id=None):\n",
    "    result = {}\n",
    "    if speed_bump_id == 0:\n",
    "        return result \n",
    "\n",
    "    result = {int(sb_id): 0 for sb_id in list(df.speedBumpId.value_counts().keys()) if speed_bump_id is None or sb_id == speed_bump_id}\n",
    "    for sb_id in result:\n",
    "        result[sb_id] = df[df.speedBumpId == sb_id].index.to_list()\n",
    "    return result\n",
    "    \n",
    "\n",
    "def get_out_filename(prefix):\n",
    "    return os.path.join(output_config['file']['ref_dir'], prefix + input_config['file']['filename'].replace('1_', ''))\n",
    "\n",
    "def find_speed_bump_timestamps_relationship(df, indexes, mapping_window_width, mapping_window_freq, verbose=False):\n",
    "    result = {}\n",
    "\n",
    "    min_idx = min(df.index)\n",
    "    max_idx = max(df.index)\n",
    "\n",
    "    for sb_id in indexes:\n",
    "        result[sb_id] = {}\n",
    "        for sb_idx in indexes[sb_id]:\n",
    "            result[sb_id][sb_idx] = {}\n",
    "\n",
    "            min_range = sb_idx - pd.Timedelta(mapping_window_width, mapping_window_freq)\n",
    "            max_range = sb_idx + pd.Timedelta(mapping_window_width, mapping_window_freq)\n",
    "            \n",
    "            min_range = min_range if min_range >= min_idx else min_idx\n",
    "            max_range = max_range if max_range <= max_idx else max_idx\n",
    "            \n",
    "            search_values = pd.date_range(start=min_range, end=max_range, freq=str(input_config['df_resample']) + ' ' + input_config['df_resample_freq'])\n",
    "\n",
    "            if verbose:\n",
    "                print(f'\\nsb_idx {sb_idx} -> [{min_range},{max_range}]')\n",
    "\n",
    "            # Get min value from axis Z between min_range and max_range\n",
    "            # The found new timestamp is the real\n",
    "            real_timestamp = search_values[df.loc[search_values].z.argmin()]\n",
    "            result[sb_id][sb_idx] = real_timestamp\n",
    "    return result\n",
    "\n",
    "def fix_manual_event_timestamp(df, speed_bump_id=None, verbose=False):\n",
    "    _df = df.copy()\n",
    "\n",
    "    sb_indexes = get_speed_bumps_idx(_df, speed_bump_id)\n",
    "    sb_indexes.pop(0, None)\n",
    "\n",
    "    mapping_speed_bump_timestamps = find_speed_bump_timestamps_relationship(_df, sb_indexes, mapping_window_width=2000, mapping_window_freq='milliseconds', verbose=verbose)\n",
    "\n",
    "    for sb_id in mapping_speed_bump_timestamps:\n",
    "        if len(mapping_speed_bump_timestamps[sb_id].keys()) < 1:\n",
    "            continue\n",
    "        _df['speedBumpId'][_df.index.isin(list(mapping_speed_bump_timestamps[sb_id].values()))] = sb_id\n",
    "        _df['speedBumpId'][_df.index.isin(list(mapping_speed_bump_timestamps[sb_id].keys()))]   = 0\n",
    "\n",
    "    return _df"
   ]
  },
  {
   "cell_type": "markdown",
   "metadata": {},
   "source": [
    "## Carrega dataframe"
   ]
  },
  {
   "cell_type": "code",
   "execution_count": 456,
   "metadata": {},
   "outputs": [],
   "source": [
    "df = df_manipulator.load_dataframe(input_config['file']['filename'], input_config['file']['ref_dir'], input_config['file']['delimiter'])\n",
    "df.timestamp = pd.to_datetime(df.timestamp)\n",
    "df_manipulator.set_index(df, 'timestamp', True)"
   ]
  },
  {
   "cell_type": "code",
   "execution_count": 457,
   "metadata": {},
   "outputs": [
    {
     "output_type": "execute_result",
     "data": {
      "text/plain": "                                                           id  speedBumpId  \\\ntimestamp                                                                    \n2020-05-17 20:10:48.346  d198e52b-bd5b-424a-8ea5-d391fbdb7b20            0   \n2020-05-17 20:10:48.543  a9df8305-e4ed-4530-ab78-e1aa3ca9ffbd            0   \n2020-05-17 20:10:48.743  74dedc33-8d9b-4aa6-a352-df1ee9364ed7            0   \n2020-05-17 20:10:48.843  4a64f1bf-ea98-49db-baff-d7d08baf2dce            0   \n2020-05-17 20:10:48.944  25a3976b-a812-4bf2-a2fe-113d7b01cd11            0   \n...                                                       ...          ...   \n2020-05-17 20:35:51.161  0f15d4aa-c4c3-40ba-9d1f-1746e938a5eb            0   \n2020-05-17 20:35:51.261  c044a484-bb8b-421b-8cc8-a6ad4713e28f            0   \n2020-05-17 20:35:51.361  c9d94f9a-6211-4198-b39b-70db0ef2e890            0   \n2020-05-17 20:35:51.461  2fa87037-71b8-42e0-bd89-64bff33cfead            0   \n2020-05-17 20:35:51.561  1c157063-30f5-428a-9690-022951e7315b            0   \n\n                                x          y         z        lat        lng  \ntimestamp                                                                     \n2020-05-17 20:10:48.346 -3.399200   9.516205  1.573975 -22.921991 -42.473372  \n2020-05-17 20:10:48.543 -2.987396  10.203339  1.291458 -22.921991 -42.473372  \n2020-05-17 20:10:48.743 -4.376038   9.746048  1.806213 -22.921991 -42.473372  \n2020-05-17 20:10:48.843 -3.698471   9.317490  1.849304 -22.921991 -42.473372  \n2020-05-17 20:10:48.944 -5.039230   9.372559  0.522919 -22.921991 -42.473372  \n...                           ...        ...       ...        ...        ...  \n2020-05-17 20:35:51.161  0.386032  10.105179  1.660172 -22.925816 -42.484631  \n2020-05-17 20:35:51.261 -1.378494   9.920822  2.608276 -22.925816 -42.484631  \n2020-05-17 20:35:51.361 -1.215683   9.523392  2.505325 -22.925816 -42.484631  \n2020-05-17 20:35:51.461 -0.435181   8.999054  2.871628 -22.925816 -42.484631  \n2020-05-17 20:35:51.561 -0.969086   9.212143  0.702484 -22.925816 -42.484631  \n\n[11084 rows x 7 columns]",
      "text/html": "<div>\n<style scoped>\n    .dataframe tbody tr th:only-of-type {\n        vertical-align: middle;\n    }\n\n    .dataframe tbody tr th {\n        vertical-align: top;\n    }\n\n    .dataframe thead th {\n        text-align: right;\n    }\n</style>\n<table border=\"1\" class=\"dataframe\">\n  <thead>\n    <tr style=\"text-align: right;\">\n      <th></th>\n      <th>id</th>\n      <th>speedBumpId</th>\n      <th>x</th>\n      <th>y</th>\n      <th>z</th>\n      <th>lat</th>\n      <th>lng</th>\n    </tr>\n    <tr>\n      <th>timestamp</th>\n      <th></th>\n      <th></th>\n      <th></th>\n      <th></th>\n      <th></th>\n      <th></th>\n      <th></th>\n    </tr>\n  </thead>\n  <tbody>\n    <tr>\n      <th>2020-05-17 20:10:48.346</th>\n      <td>d198e52b-bd5b-424a-8ea5-d391fbdb7b20</td>\n      <td>0</td>\n      <td>-3.399200</td>\n      <td>9.516205</td>\n      <td>1.573975</td>\n      <td>-22.921991</td>\n      <td>-42.473372</td>\n    </tr>\n    <tr>\n      <th>2020-05-17 20:10:48.543</th>\n      <td>a9df8305-e4ed-4530-ab78-e1aa3ca9ffbd</td>\n      <td>0</td>\n      <td>-2.987396</td>\n      <td>10.203339</td>\n      <td>1.291458</td>\n      <td>-22.921991</td>\n      <td>-42.473372</td>\n    </tr>\n    <tr>\n      <th>2020-05-17 20:10:48.743</th>\n      <td>74dedc33-8d9b-4aa6-a352-df1ee9364ed7</td>\n      <td>0</td>\n      <td>-4.376038</td>\n      <td>9.746048</td>\n      <td>1.806213</td>\n      <td>-22.921991</td>\n      <td>-42.473372</td>\n    </tr>\n    <tr>\n      <th>2020-05-17 20:10:48.843</th>\n      <td>4a64f1bf-ea98-49db-baff-d7d08baf2dce</td>\n      <td>0</td>\n      <td>-3.698471</td>\n      <td>9.317490</td>\n      <td>1.849304</td>\n      <td>-22.921991</td>\n      <td>-42.473372</td>\n    </tr>\n    <tr>\n      <th>2020-05-17 20:10:48.944</th>\n      <td>25a3976b-a812-4bf2-a2fe-113d7b01cd11</td>\n      <td>0</td>\n      <td>-5.039230</td>\n      <td>9.372559</td>\n      <td>0.522919</td>\n      <td>-22.921991</td>\n      <td>-42.473372</td>\n    </tr>\n    <tr>\n      <th>...</th>\n      <td>...</td>\n      <td>...</td>\n      <td>...</td>\n      <td>...</td>\n      <td>...</td>\n      <td>...</td>\n      <td>...</td>\n    </tr>\n    <tr>\n      <th>2020-05-17 20:35:51.161</th>\n      <td>0f15d4aa-c4c3-40ba-9d1f-1746e938a5eb</td>\n      <td>0</td>\n      <td>0.386032</td>\n      <td>10.105179</td>\n      <td>1.660172</td>\n      <td>-22.925816</td>\n      <td>-42.484631</td>\n    </tr>\n    <tr>\n      <th>2020-05-17 20:35:51.261</th>\n      <td>c044a484-bb8b-421b-8cc8-a6ad4713e28f</td>\n      <td>0</td>\n      <td>-1.378494</td>\n      <td>9.920822</td>\n      <td>2.608276</td>\n      <td>-22.925816</td>\n      <td>-42.484631</td>\n    </tr>\n    <tr>\n      <th>2020-05-17 20:35:51.361</th>\n      <td>c9d94f9a-6211-4198-b39b-70db0ef2e890</td>\n      <td>0</td>\n      <td>-1.215683</td>\n      <td>9.523392</td>\n      <td>2.505325</td>\n      <td>-22.925816</td>\n      <td>-42.484631</td>\n    </tr>\n    <tr>\n      <th>2020-05-17 20:35:51.461</th>\n      <td>2fa87037-71b8-42e0-bd89-64bff33cfead</td>\n      <td>0</td>\n      <td>-0.435181</td>\n      <td>8.999054</td>\n      <td>2.871628</td>\n      <td>-22.925816</td>\n      <td>-42.484631</td>\n    </tr>\n    <tr>\n      <th>2020-05-17 20:35:51.561</th>\n      <td>1c157063-30f5-428a-9690-022951e7315b</td>\n      <td>0</td>\n      <td>-0.969086</td>\n      <td>9.212143</td>\n      <td>0.702484</td>\n      <td>-22.925816</td>\n      <td>-42.484631</td>\n    </tr>\n  </tbody>\n</table>\n<p>11084 rows × 7 columns</p>\n</div>"
     },
     "metadata": {},
     "execution_count": 457
    }
   ],
   "source": [
    "df"
   ]
  },
  {
   "cell_type": "code",
   "execution_count": 458,
   "metadata": {},
   "outputs": [
    {
     "output_type": "stream",
     "name": "stdout",
     "text": "Shape:\n (11084, 7)\nTypes:\n\nfloat64 :  ['x' 'y' 'z' 'lat' 'lng']\nint64 :  ['speedBumpId']\nobject :  ['id']\n\n\n\n"
    },
    {
     "output_type": "display_data",
     "data": {
      "text/plain": "             null_sum  null_pct   dtypes  count       mean     median  \\\nid                  0       0.0   object  11084        NaN        NaN   \nlat                 0       0.0  float64  11084 -22.915948 -22.917111   \nlng                 0       0.0  float64  11084 -42.479699 -42.476972   \nspeedBumpId         0       0.0    int64  11084   0.005594   0.000000   \nx                   0       0.0  float64  11084  -0.664460  -0.635094   \ny                   0       0.0  float64  11084   9.333137   9.382126   \nz                   0       0.0  float64  11084   2.891374   2.695656   \n\n                                              min  \\\nid           0000103f-58f2-4b67-956e-9fc49ea2a845   \nlat                                      -22.9355   \nlng                                      -42.4957   \nspeedBumpId                                     0   \nx                                        -12.7126   \ny                                         3.04707   \nz                                        -8.12733   \n\n                                              max  \nid           ffe9ed07-2030-4a2d-ad61-18af6217f012  \nlat                                      -22.8901  \nlng                                      -42.4683  \nspeedBumpId                                     2  \nx                                         5.52878  \ny                                         15.6933  \nz                                         15.8889  ",
      "text/html": "<div>\n<style scoped>\n    .dataframe tbody tr th:only-of-type {\n        vertical-align: middle;\n    }\n\n    .dataframe tbody tr th {\n        vertical-align: top;\n    }\n\n    .dataframe thead th {\n        text-align: right;\n    }\n</style>\n<table border=\"1\" class=\"dataframe\">\n  <thead>\n    <tr style=\"text-align: right;\">\n      <th></th>\n      <th>null_sum</th>\n      <th>null_pct</th>\n      <th>dtypes</th>\n      <th>count</th>\n      <th>mean</th>\n      <th>median</th>\n      <th>min</th>\n      <th>max</th>\n    </tr>\n  </thead>\n  <tbody>\n    <tr>\n      <th>id</th>\n      <td>0</td>\n      <td>0.0</td>\n      <td>object</td>\n      <td>11084</td>\n      <td>NaN</td>\n      <td>NaN</td>\n      <td>0000103f-58f2-4b67-956e-9fc49ea2a845</td>\n      <td>ffe9ed07-2030-4a2d-ad61-18af6217f012</td>\n    </tr>\n    <tr>\n      <th>lat</th>\n      <td>0</td>\n      <td>0.0</td>\n      <td>float64</td>\n      <td>11084</td>\n      <td>-22.915948</td>\n      <td>-22.917111</td>\n      <td>-22.9355</td>\n      <td>-22.8901</td>\n    </tr>\n    <tr>\n      <th>lng</th>\n      <td>0</td>\n      <td>0.0</td>\n      <td>float64</td>\n      <td>11084</td>\n      <td>-42.479699</td>\n      <td>-42.476972</td>\n      <td>-42.4957</td>\n      <td>-42.4683</td>\n    </tr>\n    <tr>\n      <th>speedBumpId</th>\n      <td>0</td>\n      <td>0.0</td>\n      <td>int64</td>\n      <td>11084</td>\n      <td>0.005594</td>\n      <td>0.000000</td>\n      <td>0</td>\n      <td>2</td>\n    </tr>\n    <tr>\n      <th>x</th>\n      <td>0</td>\n      <td>0.0</td>\n      <td>float64</td>\n      <td>11084</td>\n      <td>-0.664460</td>\n      <td>-0.635094</td>\n      <td>-12.7126</td>\n      <td>5.52878</td>\n    </tr>\n    <tr>\n      <th>y</th>\n      <td>0</td>\n      <td>0.0</td>\n      <td>float64</td>\n      <td>11084</td>\n      <td>9.333137</td>\n      <td>9.382126</td>\n      <td>3.04707</td>\n      <td>15.6933</td>\n    </tr>\n    <tr>\n      <th>z</th>\n      <td>0</td>\n      <td>0.0</td>\n      <td>float64</td>\n      <td>11084</td>\n      <td>2.891374</td>\n      <td>2.695656</td>\n      <td>-8.12733</td>\n      <td>15.8889</td>\n    </tr>\n  </tbody>\n</table>\n</div>"
     },
     "metadata": {}
    }
   ],
   "source": [
    "df_manipulator.apply_describe(df)"
   ]
  },
  {
   "cell_type": "code",
   "execution_count": 459,
   "metadata": {},
   "outputs": [
    {
     "output_type": "execute_result",
     "data": {
      "text/plain": "0    11032\n1       42\n2       10\nName: speedBumpId, dtype: int64"
     },
     "metadata": {},
     "execution_count": 459
    }
   ],
   "source": [
    "df.speedBumpId.value_counts()"
   ]
  },
  {
   "cell_type": "markdown",
   "metadata": {},
   "source": [
    "## Regulariza intervalos do index (timestamp)"
   ]
  },
  {
   "cell_type": "code",
   "execution_count": 460,
   "metadata": {},
   "outputs": [],
   "source": [
    "df_out = df.resample(str(input_config['df_resample']) + input_config['df_resample_freq']).ffill()\n",
    "df_out.dropna(inplace=True, how='all')\n",
    "\n",
    "df_out.speedBumpId = df_out.speedBumpId.astype('int64', copy=False, errors='ignore')"
   ]
  },
  {
   "cell_type": "code",
   "execution_count": 461,
   "metadata": {},
   "outputs": [
    {
     "output_type": "execute_result",
     "data": {
      "text/plain": "                                                           id  speedBumpId  \\\ntimestamp                                                                    \n2020-05-17 20:10:48.400  d198e52b-bd5b-424a-8ea5-d391fbdb7b20            0   \n2020-05-17 20:10:48.500  d198e52b-bd5b-424a-8ea5-d391fbdb7b20            0   \n2020-05-17 20:10:48.600  a9df8305-e4ed-4530-ab78-e1aa3ca9ffbd            0   \n2020-05-17 20:10:48.700  a9df8305-e4ed-4530-ab78-e1aa3ca9ffbd            0   \n2020-05-17 20:10:48.800  74dedc33-8d9b-4aa6-a352-df1ee9364ed7            0   \n...                                                       ...          ...   \n2020-05-17 20:35:51.100  72df7adf-cb5f-4f91-b76d-f08fa6da21ed            0   \n2020-05-17 20:35:51.200  0f15d4aa-c4c3-40ba-9d1f-1746e938a5eb            0   \n2020-05-17 20:35:51.300  c044a484-bb8b-421b-8cc8-a6ad4713e28f            0   \n2020-05-17 20:35:51.400  c9d94f9a-6211-4198-b39b-70db0ef2e890            0   \n2020-05-17 20:35:51.500  2fa87037-71b8-42e0-bd89-64bff33cfead            0   \n\n                                x          y         z        lat        lng  \ntimestamp                                                                     \n2020-05-17 20:10:48.400 -3.399200   9.516205  1.573975 -22.921991 -42.473372  \n2020-05-17 20:10:48.500 -3.399200   9.516205  1.573975 -22.921991 -42.473372  \n2020-05-17 20:10:48.600 -2.987396  10.203339  1.291458 -22.921991 -42.473372  \n2020-05-17 20:10:48.700 -2.987396  10.203339  1.291458 -22.921991 -42.473372  \n2020-05-17 20:10:48.800 -4.376038   9.746048  1.806213 -22.921991 -42.473372  \n...                           ...        ...       ...        ...        ...  \n2020-05-17 20:35:51.100 -0.700928   9.250443  1.770294 -22.925816 -42.484631  \n2020-05-17 20:35:51.200  0.386032  10.105179  1.660172 -22.925816 -42.484631  \n2020-05-17 20:35:51.300 -1.378494   9.920822  2.608276 -22.925816 -42.484631  \n2020-05-17 20:35:51.400 -1.215683   9.523392  2.505325 -22.925816 -42.484631  \n2020-05-17 20:35:51.500 -0.435181   8.999054  2.871628 -22.925816 -42.484631  \n\n[15032 rows x 7 columns]",
      "text/html": "<div>\n<style scoped>\n    .dataframe tbody tr th:only-of-type {\n        vertical-align: middle;\n    }\n\n    .dataframe tbody tr th {\n        vertical-align: top;\n    }\n\n    .dataframe thead th {\n        text-align: right;\n    }\n</style>\n<table border=\"1\" class=\"dataframe\">\n  <thead>\n    <tr style=\"text-align: right;\">\n      <th></th>\n      <th>id</th>\n      <th>speedBumpId</th>\n      <th>x</th>\n      <th>y</th>\n      <th>z</th>\n      <th>lat</th>\n      <th>lng</th>\n    </tr>\n    <tr>\n      <th>timestamp</th>\n      <th></th>\n      <th></th>\n      <th></th>\n      <th></th>\n      <th></th>\n      <th></th>\n      <th></th>\n    </tr>\n  </thead>\n  <tbody>\n    <tr>\n      <th>2020-05-17 20:10:48.400</th>\n      <td>d198e52b-bd5b-424a-8ea5-d391fbdb7b20</td>\n      <td>0</td>\n      <td>-3.399200</td>\n      <td>9.516205</td>\n      <td>1.573975</td>\n      <td>-22.921991</td>\n      <td>-42.473372</td>\n    </tr>\n    <tr>\n      <th>2020-05-17 20:10:48.500</th>\n      <td>d198e52b-bd5b-424a-8ea5-d391fbdb7b20</td>\n      <td>0</td>\n      <td>-3.399200</td>\n      <td>9.516205</td>\n      <td>1.573975</td>\n      <td>-22.921991</td>\n      <td>-42.473372</td>\n    </tr>\n    <tr>\n      <th>2020-05-17 20:10:48.600</th>\n      <td>a9df8305-e4ed-4530-ab78-e1aa3ca9ffbd</td>\n      <td>0</td>\n      <td>-2.987396</td>\n      <td>10.203339</td>\n      <td>1.291458</td>\n      <td>-22.921991</td>\n      <td>-42.473372</td>\n    </tr>\n    <tr>\n      <th>2020-05-17 20:10:48.700</th>\n      <td>a9df8305-e4ed-4530-ab78-e1aa3ca9ffbd</td>\n      <td>0</td>\n      <td>-2.987396</td>\n      <td>10.203339</td>\n      <td>1.291458</td>\n      <td>-22.921991</td>\n      <td>-42.473372</td>\n    </tr>\n    <tr>\n      <th>2020-05-17 20:10:48.800</th>\n      <td>74dedc33-8d9b-4aa6-a352-df1ee9364ed7</td>\n      <td>0</td>\n      <td>-4.376038</td>\n      <td>9.746048</td>\n      <td>1.806213</td>\n      <td>-22.921991</td>\n      <td>-42.473372</td>\n    </tr>\n    <tr>\n      <th>...</th>\n      <td>...</td>\n      <td>...</td>\n      <td>...</td>\n      <td>...</td>\n      <td>...</td>\n      <td>...</td>\n      <td>...</td>\n    </tr>\n    <tr>\n      <th>2020-05-17 20:35:51.100</th>\n      <td>72df7adf-cb5f-4f91-b76d-f08fa6da21ed</td>\n      <td>0</td>\n      <td>-0.700928</td>\n      <td>9.250443</td>\n      <td>1.770294</td>\n      <td>-22.925816</td>\n      <td>-42.484631</td>\n    </tr>\n    <tr>\n      <th>2020-05-17 20:35:51.200</th>\n      <td>0f15d4aa-c4c3-40ba-9d1f-1746e938a5eb</td>\n      <td>0</td>\n      <td>0.386032</td>\n      <td>10.105179</td>\n      <td>1.660172</td>\n      <td>-22.925816</td>\n      <td>-42.484631</td>\n    </tr>\n    <tr>\n      <th>2020-05-17 20:35:51.300</th>\n      <td>c044a484-bb8b-421b-8cc8-a6ad4713e28f</td>\n      <td>0</td>\n      <td>-1.378494</td>\n      <td>9.920822</td>\n      <td>2.608276</td>\n      <td>-22.925816</td>\n      <td>-42.484631</td>\n    </tr>\n    <tr>\n      <th>2020-05-17 20:35:51.400</th>\n      <td>c9d94f9a-6211-4198-b39b-70db0ef2e890</td>\n      <td>0</td>\n      <td>-1.215683</td>\n      <td>9.523392</td>\n      <td>2.505325</td>\n      <td>-22.925816</td>\n      <td>-42.484631</td>\n    </tr>\n    <tr>\n      <th>2020-05-17 20:35:51.500</th>\n      <td>2fa87037-71b8-42e0-bd89-64bff33cfead</td>\n      <td>0</td>\n      <td>-0.435181</td>\n      <td>8.999054</td>\n      <td>2.871628</td>\n      <td>-22.925816</td>\n      <td>-42.484631</td>\n    </tr>\n  </tbody>\n</table>\n<p>15032 rows × 7 columns</p>\n</div>"
     },
     "metadata": {},
     "execution_count": 461
    }
   ],
   "source": [
    "df_out"
   ]
  },
  {
   "cell_type": "code",
   "execution_count": 462,
   "metadata": {},
   "outputs": [
    {
     "output_type": "stream",
     "name": "stdout",
     "text": "Shape:\n (15032, 7)\nTypes:\n\nfloat64 :  ['x' 'y' 'z' 'lat' 'lng']\nint64 :  ['speedBumpId']\nobject :  ['id']\n\n\n\n"
    },
    {
     "output_type": "display_data",
     "data": {
      "text/plain": "             null_sum  null_pct   dtypes  count       mean     median  \\\nid                  0       0.0   object  15032        NaN        NaN   \nlat                 0       0.0  float64  15032 -22.916766 -22.921991   \nlng                 0       0.0  float64  15032 -42.478807 -42.476058   \nspeedBumpId         0       0.0    int64  15032   0.007118   0.000000   \nx                   0       0.0  float64  15032  -1.631164  -0.770370   \ny                   0       0.0  float64  15032   9.100066   9.252838   \nz                   0       0.0  float64  15032   2.323634   2.409546   \n\n                                              min  \\\nid           0000103f-58f2-4b67-956e-9fc49ea2a845   \nlat                                      -22.9355   \nlng                                      -42.4957   \nspeedBumpId                                     0   \nx                                        -12.7126   \ny                                         3.04707   \nz                                        -8.12733   \n\n                                              max  \nid           ffe9ed07-2030-4a2d-ad61-18af6217f012  \nlat                                      -22.8901  \nlng                                      -42.4683  \nspeedBumpId                                     2  \nx                                         5.52878  \ny                                         15.6933  \nz                                         15.8889  ",
      "text/html": "<div>\n<style scoped>\n    .dataframe tbody tr th:only-of-type {\n        vertical-align: middle;\n    }\n\n    .dataframe tbody tr th {\n        vertical-align: top;\n    }\n\n    .dataframe thead th {\n        text-align: right;\n    }\n</style>\n<table border=\"1\" class=\"dataframe\">\n  <thead>\n    <tr style=\"text-align: right;\">\n      <th></th>\n      <th>null_sum</th>\n      <th>null_pct</th>\n      <th>dtypes</th>\n      <th>count</th>\n      <th>mean</th>\n      <th>median</th>\n      <th>min</th>\n      <th>max</th>\n    </tr>\n  </thead>\n  <tbody>\n    <tr>\n      <th>id</th>\n      <td>0</td>\n      <td>0.0</td>\n      <td>object</td>\n      <td>15032</td>\n      <td>NaN</td>\n      <td>NaN</td>\n      <td>0000103f-58f2-4b67-956e-9fc49ea2a845</td>\n      <td>ffe9ed07-2030-4a2d-ad61-18af6217f012</td>\n    </tr>\n    <tr>\n      <th>lat</th>\n      <td>0</td>\n      <td>0.0</td>\n      <td>float64</td>\n      <td>15032</td>\n      <td>-22.916766</td>\n      <td>-22.921991</td>\n      <td>-22.9355</td>\n      <td>-22.8901</td>\n    </tr>\n    <tr>\n      <th>lng</th>\n      <td>0</td>\n      <td>0.0</td>\n      <td>float64</td>\n      <td>15032</td>\n      <td>-42.478807</td>\n      <td>-42.476058</td>\n      <td>-42.4957</td>\n      <td>-42.4683</td>\n    </tr>\n    <tr>\n      <th>speedBumpId</th>\n      <td>0</td>\n      <td>0.0</td>\n      <td>int64</td>\n      <td>15032</td>\n      <td>0.007118</td>\n      <td>0.000000</td>\n      <td>0</td>\n      <td>2</td>\n    </tr>\n    <tr>\n      <th>x</th>\n      <td>0</td>\n      <td>0.0</td>\n      <td>float64</td>\n      <td>15032</td>\n      <td>-1.631164</td>\n      <td>-0.770370</td>\n      <td>-12.7126</td>\n      <td>5.52878</td>\n    </tr>\n    <tr>\n      <th>y</th>\n      <td>0</td>\n      <td>0.0</td>\n      <td>float64</td>\n      <td>15032</td>\n      <td>9.100066</td>\n      <td>9.252838</td>\n      <td>3.04707</td>\n      <td>15.6933</td>\n    </tr>\n    <tr>\n      <th>z</th>\n      <td>0</td>\n      <td>0.0</td>\n      <td>float64</td>\n      <td>15032</td>\n      <td>2.323634</td>\n      <td>2.409546</td>\n      <td>-8.12733</td>\n      <td>15.8889</td>\n    </tr>\n  </tbody>\n</table>\n</div>"
     },
     "metadata": {}
    }
   ],
   "source": [
    "df_manipulator.apply_describe(df_out)"
   ]
  },
  {
   "cell_type": "code",
   "execution_count": 463,
   "metadata": {},
   "outputs": [
    {
     "output_type": "execute_result",
     "data": {
      "text/plain": "0    14941\n1       75\n2       16\nName: speedBumpId, dtype: int64"
     },
     "metadata": {},
     "execution_count": 463
    }
   ],
   "source": [
    "df_out.speedBumpId.value_counts()"
   ]
  },
  {
   "cell_type": "markdown",
   "metadata": {},
   "source": [
    "## Ajusta momento da marcação de quebra-mola"
   ]
  },
  {
   "cell_type": "code",
   "execution_count": 464,
   "metadata": {
    "tags": [
     "outputPrepend"
    ]
   },
   "outputs": [],
   "source": [
    "df_out = fix_manual_event_timestamp(df_out, speed_bump_id=None, verbose=False)"
   ]
  },
  {
   "cell_type": "code",
   "execution_count": 465,
   "metadata": {},
   "outputs": [
    {
     "output_type": "execute_result",
     "data": {
      "text/plain": "0    14979\n1       43\n2       10\nName: speedBumpId, dtype: int64"
     },
     "metadata": {},
     "execution_count": 465
    }
   ],
   "source": [
    "df_out.speedBumpId.value_counts()"
   ]
  },
  {
   "cell_type": "markdown",
   "metadata": {},
   "source": [
    "## Salva o dataframe de saída"
   ]
  },
  {
   "cell_type": "code",
   "execution_count": 466,
   "metadata": {},
   "outputs": [
    {
     "output_type": "stream",
     "name": "stdout",
     "text": "O arquivo ./out/2_export_lunar_20200517.csv foi gerado!\n"
    }
   ],
   "source": [
    "out_filename = get_out_filename(prefix='2_')\n",
    "df_out.to_csv(out_filename, sep=output_config['file']['delimiter'], header=output_config['file']['with_header'])\n",
    "print(f'O arquivo {out_filename} foi gerado!')"
   ]
  }
 ],
 "metadata": {
  "language_info": {
   "codemirror_mode": {
    "name": "ipython",
    "version": 3
   },
   "file_extension": ".py",
   "mimetype": "text/x-python",
   "name": "python",
   "nbconvert_exporter": "python",
   "pygments_lexer": "ipython3",
   "version": "3.6.9-final"
  },
  "orig_nbformat": 2,
  "kernelspec": {
   "name": "python36964bitvenvvenv15842a2001b14e7c9614d80f05b24238",
   "display_name": "Python 3.6.9 64-bit ('.venv': venv)"
  }
 },
 "nbformat": 4,
 "nbformat_minor": 2
}