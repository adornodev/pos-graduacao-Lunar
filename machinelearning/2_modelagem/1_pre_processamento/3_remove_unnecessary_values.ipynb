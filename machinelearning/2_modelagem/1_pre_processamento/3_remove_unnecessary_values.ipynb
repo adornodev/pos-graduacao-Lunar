{
 "cells": [
  {
   "cell_type": "markdown",
   "metadata": {},
   "source": [
    "# Imports"
   ]
  },
  {
   "cell_type": "code",
   "execution_count": 20,
   "metadata": {},
   "outputs": [],
   "source": [
    "import pandas as pd\n",
    "import sys, os, importlib\n",
    "from datetime import datetime"
   ]
  },
  {
   "cell_type": "code",
   "execution_count": 21,
   "metadata": {},
   "outputs": [],
   "source": [
    "pd.set_option('display.max_rows', 100)\n",
    "\n",
    "if os.path.join('..','0_funcoes_base') not in sys.path:\n",
    "    sys.path.append(os.path.join('..','0_funcoes_base')) \n",
    "\n",
    "df_manipulator = importlib.import_module('df_manipulator')\n",
    "file_manipulator = importlib.import_module('file_manipulator')"
   ]
  },
  {
   "cell_type": "markdown",
   "metadata": {},
   "source": [
    "# Dados de configuração"
   ]
  },
  {
   "cell_type": "code",
   "execution_count": 22,
   "metadata": {},
   "outputs": [],
   "source": [
    "input_config = {\n",
    "    'file': {\n",
    "        'ref_dir':'./out/',\n",
    "        'filename':'2_export_lunar_20200517_20200620.csv',\n",
    "        'delimiter': ';'\n",
    "    }\n",
    "}\n",
    "\n",
    "output_config = {\n",
    "    'file': {\n",
    "        'ref_dir': './out',\n",
    "        'delimiter':';',\n",
    "        'with_header': True,\n",
    "        'prefix':'3_'\n",
    "    },\n",
    "    'remove_columns':['id','x'],\n",
    "    'window_width': (5000, 3000),\n",
    "    'window_freq': 'milliseconds'\n",
    "}"
   ]
  },
  {
   "cell_type": "markdown",
   "metadata": {},
   "source": [
    "# Funções"
   ]
  },
  {
   "cell_type": "code",
   "execution_count": 23,
   "metadata": {},
   "outputs": [],
   "source": [
    "def drop_unnecessary_columns(df, columns):\n",
    "    _df = df.copy()\n",
    "    if not columns or len(columns) < 1:\n",
    "        return _df\n",
    "\n",
    "    _df = _df.drop(columns=columns, axis=1)\n",
    "    return _df\n",
    "\n",
    "def drop_unnecessary_speed_bumps(df, speed_bump_id):\n",
    "    _df = df.copy()\n",
    "    sb_indexes = df_manipulator.get_speed_bumps_idx(_df, speed_bump_id=speed_bump_id)\n",
    "\n",
    "    timestamps_to_delete = df_manipulator.get_affected_timestamps_by_speed_bumps(_df, sb_indexes, mapping_window_width=output_config['window_width'], mapping_window_freq=output_config['window_freq'])\n",
    "\n",
    "    indexes_to_delete = []\n",
    "    for v in timestamps_to_delete.values():\n",
    "        for v2 in v.values():\n",
    "            indexes_to_delete.extend(list(v2) + list(v.keys()))\n",
    "\n",
    "    _df = _df[~_df.index.isin(indexes_to_delete)]\n",
    "    return _df"
   ]
  },
  {
   "cell_type": "markdown",
   "metadata": {},
   "source": [
    "# Carrega dataframe"
   ]
  },
  {
   "cell_type": "code",
   "execution_count": 24,
   "metadata": {},
   "outputs": [
    {
     "output_type": "execute_result",
     "data": {
      "text/plain": "                                                           id  speed_bump_id  \\\ntimestamp                                                                      \n2020-05-17 20:14:32.800  b78d7d2f-3fd1-4d81-81ee-d00afc039814              0   \n2020-05-17 20:14:32.900  1c59acca-2bb8-4686-9e93-95aa791f6f70              0   \n2020-05-17 20:14:33.000  de01a2a1-dd19-4081-921f-890907e5ca4d              0   \n2020-05-17 20:14:33.100  8864e0ac-54c0-4b94-b018-cd764c6dcef0              0   \n2020-05-17 20:14:33.200  8864e0ac-54c0-4b94-b018-cd764c6dcef0              0   \n...                                                       ...            ...   \n2020-06-20 14:41:23.800  9045a063-725e-4d4f-abf7-d73d8bba8a89              0   \n2020-06-20 14:41:23.900  9045a063-725e-4d4f-abf7-d73d8bba8a89              0   \n2020-06-20 14:41:24.000  145b6c26-33d5-4c20-b585-3e620dd871ec              0   \n2020-06-20 14:41:24.100  22d48c68-3114-4d47-9e98-7aae0bb74ecb              0   \n2020-06-20 14:41:24.200  9901fb0e-0d57-482f-bb1c-6e3614603a1c              0   \n\n                                x          y         z        lat        lng  \ntimestamp                                                                     \n2020-05-17 20:14:32.800  0.843323   8.838654  3.714386 -22.919592 -42.473961  \n2020-05-17 20:14:32.900 -2.240402  10.248825  3.108658 -22.919592 -42.473961  \n2020-05-17 20:14:33.000 -1.998596  10.842590  2.215622 -22.919592 -42.473961  \n2020-05-17 20:14:33.100 -2.326599   9.702957  2.493347 -22.919592 -42.473961  \n2020-05-17 20:14:33.200 -2.326599   9.702957  2.493347 -22.919592 -42.473961  \n...                           ...        ...       ...        ...        ...  \n2020-06-20 14:41:23.800  0.548843   8.189819  6.620956 -22.871247 -42.340474  \n2020-06-20 14:41:23.900  0.548843   8.189819  6.620956 -22.871247 -42.340474  \n2020-06-20 14:41:24.000  0.146622   8.970322  5.715942 -22.871481 -42.340609  \n2020-06-20 14:41:24.100  0.589539  11.125107  4.638550 -22.871481 -42.340609  \n2020-06-20 14:41:24.200  0.745163   9.930405  3.197250 -22.871481 -42.340609  \n\n[21345 rows x 7 columns]",
      "text/html": "<div>\n<style scoped>\n    .dataframe tbody tr th:only-of-type {\n        vertical-align: middle;\n    }\n\n    .dataframe tbody tr th {\n        vertical-align: top;\n    }\n\n    .dataframe thead th {\n        text-align: right;\n    }\n</style>\n<table border=\"1\" class=\"dataframe\">\n  <thead>\n    <tr style=\"text-align: right;\">\n      <th></th>\n      <th>id</th>\n      <th>speed_bump_id</th>\n      <th>x</th>\n      <th>y</th>\n      <th>z</th>\n      <th>lat</th>\n      <th>lng</th>\n    </tr>\n    <tr>\n      <th>timestamp</th>\n      <th></th>\n      <th></th>\n      <th></th>\n      <th></th>\n      <th></th>\n      <th></th>\n      <th></th>\n    </tr>\n  </thead>\n  <tbody>\n    <tr>\n      <th>2020-05-17 20:14:32.800</th>\n      <td>b78d7d2f-3fd1-4d81-81ee-d00afc039814</td>\n      <td>0</td>\n      <td>0.843323</td>\n      <td>8.838654</td>\n      <td>3.714386</td>\n      <td>-22.919592</td>\n      <td>-42.473961</td>\n    </tr>\n    <tr>\n      <th>2020-05-17 20:14:32.900</th>\n      <td>1c59acca-2bb8-4686-9e93-95aa791f6f70</td>\n      <td>0</td>\n      <td>-2.240402</td>\n      <td>10.248825</td>\n      <td>3.108658</td>\n      <td>-22.919592</td>\n      <td>-42.473961</td>\n    </tr>\n    <tr>\n      <th>2020-05-17 20:14:33.000</th>\n      <td>de01a2a1-dd19-4081-921f-890907e5ca4d</td>\n      <td>0</td>\n      <td>-1.998596</td>\n      <td>10.842590</td>\n      <td>2.215622</td>\n      <td>-22.919592</td>\n      <td>-42.473961</td>\n    </tr>\n    <tr>\n      <th>2020-05-17 20:14:33.100</th>\n      <td>8864e0ac-54c0-4b94-b018-cd764c6dcef0</td>\n      <td>0</td>\n      <td>-2.326599</td>\n      <td>9.702957</td>\n      <td>2.493347</td>\n      <td>-22.919592</td>\n      <td>-42.473961</td>\n    </tr>\n    <tr>\n      <th>2020-05-17 20:14:33.200</th>\n      <td>8864e0ac-54c0-4b94-b018-cd764c6dcef0</td>\n      <td>0</td>\n      <td>-2.326599</td>\n      <td>9.702957</td>\n      <td>2.493347</td>\n      <td>-22.919592</td>\n      <td>-42.473961</td>\n    </tr>\n    <tr>\n      <th>...</th>\n      <td>...</td>\n      <td>...</td>\n      <td>...</td>\n      <td>...</td>\n      <td>...</td>\n      <td>...</td>\n      <td>...</td>\n    </tr>\n    <tr>\n      <th>2020-06-20 14:41:23.800</th>\n      <td>9045a063-725e-4d4f-abf7-d73d8bba8a89</td>\n      <td>0</td>\n      <td>0.548843</td>\n      <td>8.189819</td>\n      <td>6.620956</td>\n      <td>-22.871247</td>\n      <td>-42.340474</td>\n    </tr>\n    <tr>\n      <th>2020-06-20 14:41:23.900</th>\n      <td>9045a063-725e-4d4f-abf7-d73d8bba8a89</td>\n      <td>0</td>\n      <td>0.548843</td>\n      <td>8.189819</td>\n      <td>6.620956</td>\n      <td>-22.871247</td>\n      <td>-42.340474</td>\n    </tr>\n    <tr>\n      <th>2020-06-20 14:41:24.000</th>\n      <td>145b6c26-33d5-4c20-b585-3e620dd871ec</td>\n      <td>0</td>\n      <td>0.146622</td>\n      <td>8.970322</td>\n      <td>5.715942</td>\n      <td>-22.871481</td>\n      <td>-42.340609</td>\n    </tr>\n    <tr>\n      <th>2020-06-20 14:41:24.100</th>\n      <td>22d48c68-3114-4d47-9e98-7aae0bb74ecb</td>\n      <td>0</td>\n      <td>0.589539</td>\n      <td>11.125107</td>\n      <td>4.638550</td>\n      <td>-22.871481</td>\n      <td>-42.340609</td>\n    </tr>\n    <tr>\n      <th>2020-06-20 14:41:24.200</th>\n      <td>9901fb0e-0d57-482f-bb1c-6e3614603a1c</td>\n      <td>0</td>\n      <td>0.745163</td>\n      <td>9.930405</td>\n      <td>3.197250</td>\n      <td>-22.871481</td>\n      <td>-42.340609</td>\n    </tr>\n  </tbody>\n</table>\n<p>21345 rows × 7 columns</p>\n</div>"
     },
     "metadata": {},
     "execution_count": 24
    }
   ],
   "source": [
    "df = df_manipulator.load_dataframes(input_config['file']['filename'], input_config['file']['ref_dir'], input_config['file']['delimiter'])\n",
    "df.timestamp = pd.to_datetime(df.timestamp)\n",
    "df_manipulator.set_index(df, 'timestamp', True)\n",
    "\n",
    "df"
   ]
  },
  {
   "cell_type": "code",
   "execution_count": 25,
   "metadata": {},
   "outputs": [
    {
     "output_type": "execute_result",
     "data": {
      "text/plain": "0    21252\n1       84\n2        9\nName: speed_bump_id, dtype: int64"
     },
     "metadata": {},
     "execution_count": 25
    }
   ],
   "source": [
    "df.speed_bump_id.value_counts()"
   ]
  },
  {
   "cell_type": "markdown",
   "metadata": {},
   "source": [
    "# Remove colunas desnecessárias"
   ]
  },
  {
   "cell_type": "code",
   "execution_count": 26,
   "metadata": {},
   "outputs": [],
   "source": [
    "df_out = drop_unnecessary_columns(df, columns=output_config['remove_columns'])"
   ]
  },
  {
   "cell_type": "markdown",
   "metadata": {},
   "source": [
    "# Remove speed_bumps de id 2 (\"passarela alta\")"
   ]
  },
  {
   "cell_type": "code",
   "execution_count": 27,
   "metadata": {},
   "outputs": [
    {
     "output_type": "execute_result",
     "data": {
      "text/plain": "0    20532\n1       84\nName: speed_bump_id, dtype: int64"
     },
     "metadata": {},
     "execution_count": 27
    }
   ],
   "source": [
    "df_out = drop_unnecessary_speed_bumps(df_out, speed_bump_id=2)\n",
    "\n",
    "df_out.speed_bump_id.value_counts()"
   ]
  },
  {
   "cell_type": "code",
   "execution_count": 28,
   "metadata": {},
   "outputs": [
    {
     "output_type": "execute_result",
     "data": {
      "text/plain": "                         speed_bump_id          y         z        lat  \\\ntimestamp                                                                \n2020-05-17 20:14:32.800              0   8.838654  3.714386 -22.919592   \n2020-05-17 20:14:32.900              0  10.248825  3.108658 -22.919592   \n2020-05-17 20:14:33.000              0  10.842590  2.215622 -22.919592   \n2020-05-17 20:14:33.100              0   9.702957  2.493347 -22.919592   \n2020-05-17 20:14:33.200              0   9.702957  2.493347 -22.919592   \n2020-05-17 20:14:33.300              0   8.345444  2.601089 -22.919592   \n2020-05-17 20:14:33.400              0   9.590424  3.173294 -22.919592   \n2020-05-17 20:14:33.500              0   8.213760  3.173294 -22.919592   \n2020-05-17 20:14:33.600              0   9.379730  3.443848 -22.919592   \n2020-05-17 20:14:33.700              0   9.386917  2.984161 -22.919592   \n\n                               lng  \ntimestamp                           \n2020-05-17 20:14:32.800 -42.473961  \n2020-05-17 20:14:32.900 -42.473961  \n2020-05-17 20:14:33.000 -42.473961  \n2020-05-17 20:14:33.100 -42.473961  \n2020-05-17 20:14:33.200 -42.473961  \n2020-05-17 20:14:33.300 -42.473961  \n2020-05-17 20:14:33.400 -42.473961  \n2020-05-17 20:14:33.500 -42.473961  \n2020-05-17 20:14:33.600 -42.473961  \n2020-05-17 20:14:33.700 -42.473961  ",
      "text/html": "<div>\n<style scoped>\n    .dataframe tbody tr th:only-of-type {\n        vertical-align: middle;\n    }\n\n    .dataframe tbody tr th {\n        vertical-align: top;\n    }\n\n    .dataframe thead th {\n        text-align: right;\n    }\n</style>\n<table border=\"1\" class=\"dataframe\">\n  <thead>\n    <tr style=\"text-align: right;\">\n      <th></th>\n      <th>speed_bump_id</th>\n      <th>y</th>\n      <th>z</th>\n      <th>lat</th>\n      <th>lng</th>\n    </tr>\n    <tr>\n      <th>timestamp</th>\n      <th></th>\n      <th></th>\n      <th></th>\n      <th></th>\n      <th></th>\n    </tr>\n  </thead>\n  <tbody>\n    <tr>\n      <th>2020-05-17 20:14:32.800</th>\n      <td>0</td>\n      <td>8.838654</td>\n      <td>3.714386</td>\n      <td>-22.919592</td>\n      <td>-42.473961</td>\n    </tr>\n    <tr>\n      <th>2020-05-17 20:14:32.900</th>\n      <td>0</td>\n      <td>10.248825</td>\n      <td>3.108658</td>\n      <td>-22.919592</td>\n      <td>-42.473961</td>\n    </tr>\n    <tr>\n      <th>2020-05-17 20:14:33.000</th>\n      <td>0</td>\n      <td>10.842590</td>\n      <td>2.215622</td>\n      <td>-22.919592</td>\n      <td>-42.473961</td>\n    </tr>\n    <tr>\n      <th>2020-05-17 20:14:33.100</th>\n      <td>0</td>\n      <td>9.702957</td>\n      <td>2.493347</td>\n      <td>-22.919592</td>\n      <td>-42.473961</td>\n    </tr>\n    <tr>\n      <th>2020-05-17 20:14:33.200</th>\n      <td>0</td>\n      <td>9.702957</td>\n      <td>2.493347</td>\n      <td>-22.919592</td>\n      <td>-42.473961</td>\n    </tr>\n    <tr>\n      <th>2020-05-17 20:14:33.300</th>\n      <td>0</td>\n      <td>8.345444</td>\n      <td>2.601089</td>\n      <td>-22.919592</td>\n      <td>-42.473961</td>\n    </tr>\n    <tr>\n      <th>2020-05-17 20:14:33.400</th>\n      <td>0</td>\n      <td>9.590424</td>\n      <td>3.173294</td>\n      <td>-22.919592</td>\n      <td>-42.473961</td>\n    </tr>\n    <tr>\n      <th>2020-05-17 20:14:33.500</th>\n      <td>0</td>\n      <td>8.213760</td>\n      <td>3.173294</td>\n      <td>-22.919592</td>\n      <td>-42.473961</td>\n    </tr>\n    <tr>\n      <th>2020-05-17 20:14:33.600</th>\n      <td>0</td>\n      <td>9.379730</td>\n      <td>3.443848</td>\n      <td>-22.919592</td>\n      <td>-42.473961</td>\n    </tr>\n    <tr>\n      <th>2020-05-17 20:14:33.700</th>\n      <td>0</td>\n      <td>9.386917</td>\n      <td>2.984161</td>\n      <td>-22.919592</td>\n      <td>-42.473961</td>\n    </tr>\n  </tbody>\n</table>\n</div>"
     },
     "metadata": {},
     "execution_count": 28
    }
   ],
   "source": [
    "df_out.head(10)"
   ]
  },
  {
   "cell_type": "markdown",
   "metadata": {},
   "source": [
    "# Salva o dataframe de saída"
   ]
  },
  {
   "cell_type": "code",
   "execution_count": 29,
   "metadata": {},
   "outputs": [
    {
     "output_type": "stream",
     "name": "stdout",
     "text": "O arquivo ./out/3_export_lunar_20200517_20200620.csv foi gerado!\n"
    }
   ],
   "source": [
    "out_filename = file_manipulator.get_out_filename(output_config['file']['prefix'], output_config['file']['ref_dir'], input_config['file']['filename'])\n",
    "\n",
    "df_out.to_csv(out_filename, sep=output_config['file']['delimiter'], header=output_config['file']['with_header'])\n",
    "\n",
    "print(f'O arquivo {out_filename} foi gerado!')"
   ]
  },
  {
   "cell_type": "code",
   "execution_count": null,
   "metadata": {},
   "outputs": [],
   "source": []
  }
 ],
 "metadata": {
  "language_info": {
   "codemirror_mode": {
    "name": "ipython",
    "version": 3
   },
   "file_extension": ".py",
   "mimetype": "text/x-python",
   "name": "python",
   "nbconvert_exporter": "python",
   "pygments_lexer": "ipython3",
   "version": "3.6.9-final"
  },
  "orig_nbformat": 2,
  "kernelspec": {
   "name": "python36964bitvenvvenv15842a2001b14e7c9614d80f05b24238",
   "display_name": "Python 3.6.9 64-bit ('.venv': venv)"
  }
 },
 "nbformat": 4,
 "nbformat_minor": 2
}