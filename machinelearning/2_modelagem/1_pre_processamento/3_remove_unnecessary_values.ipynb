{
 "cells": [
  {
   "cell_type": "markdown",
   "metadata": {},
   "source": [
    "## Imports"
   ]
  },
  {
   "cell_type": "code",
   "execution_count": 25,
   "metadata": {},
   "outputs": [],
   "source": [
    "import pandas as pd\n",
    "import sys, os, importlib\n",
    "from datetime import datetime"
   ]
  },
  {
   "cell_type": "code",
   "execution_count": 26,
   "metadata": {},
   "outputs": [],
   "source": [
    "pd.set_option('display.max_rows', 100)\n",
    "\n",
    "if os.path.join('..','0_funcoes_base') not in sys.path:\n",
    "    sys.path.append(os.path.join('..','0_funcoes_base')) \n",
    "\n",
    "df_manipulator = importlib.import_module('df_manipulator')\n",
    "file_manipulator = importlib.import_module('file_manipulator')"
   ]
  },
  {
   "cell_type": "markdown",
   "metadata": {},
   "source": [
    "## Dados de configuração"
   ]
  },
  {
   "cell_type": "code",
   "execution_count": 27,
   "metadata": {},
   "outputs": [],
   "source": [
    "input_config = {\n",
    "    'file': {\n",
    "        'ref_dir':'./out/',\n",
    "        'filename':'2_export_lunar_20200517.csv',\n",
    "        'delimiter': ';'\n",
    "    }\n",
    "}\n",
    "\n",
    "output_config = {\n",
    "    'file': {\n",
    "        'ref_dir': './out',\n",
    "        'delimiter':';',\n",
    "        'with_header': True,\n",
    "        'prefix':'3_'\n",
    "    },\n",
    "    'remove_columns':['id','x']\n",
    "}"
   ]
  },
  {
   "cell_type": "markdown",
   "metadata": {},
   "source": [
    "## Funções"
   ]
  },
  {
   "cell_type": "code",
   "execution_count": 28,
   "metadata": {},
   "outputs": [],
   "source": [
    "def drop_unnecessary_columns(df, columns):\n",
    "    _df = df.copy()\n",
    "    if not columns or len(columns) < 1:\n",
    "        return _df\n",
    "\n",
    "    _df = _df.drop(columns=columns, axis=1)\n",
    "    return _df\n",
    "\n",
    "def drop_unnecessary_speed_bumps(df, speed_bump_id):\n",
    "    _df = df.copy()\n",
    "    sb_indexes = df_manipulator.get_speed_bumps_idx(_df, speed_bump_id=speed_bump_id)\n",
    "\n",
    "    timestamps_to_delete = df_manipulator.get_affected_timestamps_by_speed_bumps(_df, sb_indexes, mapping_window_width=(5000, 5000), mapping_window_freq='milliseconds')\n",
    "\n",
    "    indexes_to_delete = []\n",
    "    for v in timestamps_to_delete.values():\n",
    "        for v2 in v.values():\n",
    "            indexes_to_delete.extend(list(v2) + list(v.keys()))\n",
    "\n",
    "    _df = _df[~_df.index.isin(indexes_to_delete)]\n",
    "    return _df"
   ]
  },
  {
   "cell_type": "markdown",
   "metadata": {},
   "source": [
    "## Carrega dataframe"
   ]
  },
  {
   "cell_type": "code",
   "execution_count": 29,
   "metadata": {},
   "outputs": [],
   "source": [
    "df = df_manipulator.load_dataframe(input_config['file']['filename'], input_config['file']['ref_dir'], input_config['file']['delimiter'])\n",
    "df.timestamp = pd.to_datetime(df.timestamp)\n",
    "df_manipulator.set_index(df, 'timestamp', True)"
   ]
  },
  {
   "cell_type": "code",
   "execution_count": 30,
   "metadata": {},
   "outputs": [
    {
     "output_type": "execute_result",
     "data": {
      "text/plain": "                                                           id  speed_bump_id  \\\ntimestamp                                                                      \n2020-05-17 20:10:48.400  d198e52b-bd5b-424a-8ea5-d391fbdb7b20              0   \n2020-05-17 20:10:48.500  d198e52b-bd5b-424a-8ea5-d391fbdb7b20              0   \n2020-05-17 20:10:48.600  a9df8305-e4ed-4530-ab78-e1aa3ca9ffbd              0   \n2020-05-17 20:10:48.700  a9df8305-e4ed-4530-ab78-e1aa3ca9ffbd              0   \n2020-05-17 20:10:48.800  74dedc33-8d9b-4aa6-a352-df1ee9364ed7              0   \n...                                                       ...            ...   \n2020-05-17 20:35:51.100  72df7adf-cb5f-4f91-b76d-f08fa6da21ed              0   \n2020-05-17 20:35:51.200  0f15d4aa-c4c3-40ba-9d1f-1746e938a5eb              0   \n2020-05-17 20:35:51.300  c044a484-bb8b-421b-8cc8-a6ad4713e28f              0   \n2020-05-17 20:35:51.400  c9d94f9a-6211-4198-b39b-70db0ef2e890              0   \n2020-05-17 20:35:51.500  2fa87037-71b8-42e0-bd89-64bff33cfead              0   \n\n                                x          y         z        lat        lng  \ntimestamp                                                                     \n2020-05-17 20:10:48.400 -3.399200   9.516205  1.573975 -22.921991 -42.473372  \n2020-05-17 20:10:48.500 -3.399200   9.516205  1.573975 -22.921991 -42.473372  \n2020-05-17 20:10:48.600 -2.987396  10.203339  1.291458 -22.921991 -42.473372  \n2020-05-17 20:10:48.700 -2.987396  10.203339  1.291458 -22.921991 -42.473372  \n2020-05-17 20:10:48.800 -4.376038   9.746048  1.806213 -22.921991 -42.473372  \n...                           ...        ...       ...        ...        ...  \n2020-05-17 20:35:51.100 -0.700928   9.250443  1.770294 -22.925816 -42.484631  \n2020-05-17 20:35:51.200  0.386032  10.105179  1.660172 -22.925816 -42.484631  \n2020-05-17 20:35:51.300 -1.378494   9.920822  2.608276 -22.925816 -42.484631  \n2020-05-17 20:35:51.400 -1.215683   9.523392  2.505325 -22.925816 -42.484631  \n2020-05-17 20:35:51.500 -0.435181   8.999054  2.871628 -22.925816 -42.484631  \n\n[15032 rows x 7 columns]",
      "text/html": "<div>\n<style scoped>\n    .dataframe tbody tr th:only-of-type {\n        vertical-align: middle;\n    }\n\n    .dataframe tbody tr th {\n        vertical-align: top;\n    }\n\n    .dataframe thead th {\n        text-align: right;\n    }\n</style>\n<table border=\"1\" class=\"dataframe\">\n  <thead>\n    <tr style=\"text-align: right;\">\n      <th></th>\n      <th>id</th>\n      <th>speed_bump_id</th>\n      <th>x</th>\n      <th>y</th>\n      <th>z</th>\n      <th>lat</th>\n      <th>lng</th>\n    </tr>\n    <tr>\n      <th>timestamp</th>\n      <th></th>\n      <th></th>\n      <th></th>\n      <th></th>\n      <th></th>\n      <th></th>\n      <th></th>\n    </tr>\n  </thead>\n  <tbody>\n    <tr>\n      <th>2020-05-17 20:10:48.400</th>\n      <td>d198e52b-bd5b-424a-8ea5-d391fbdb7b20</td>\n      <td>0</td>\n      <td>-3.399200</td>\n      <td>9.516205</td>\n      <td>1.573975</td>\n      <td>-22.921991</td>\n      <td>-42.473372</td>\n    </tr>\n    <tr>\n      <th>2020-05-17 20:10:48.500</th>\n      <td>d198e52b-bd5b-424a-8ea5-d391fbdb7b20</td>\n      <td>0</td>\n      <td>-3.399200</td>\n      <td>9.516205</td>\n      <td>1.573975</td>\n      <td>-22.921991</td>\n      <td>-42.473372</td>\n    </tr>\n    <tr>\n      <th>2020-05-17 20:10:48.600</th>\n      <td>a9df8305-e4ed-4530-ab78-e1aa3ca9ffbd</td>\n      <td>0</td>\n      <td>-2.987396</td>\n      <td>10.203339</td>\n      <td>1.291458</td>\n      <td>-22.921991</td>\n      <td>-42.473372</td>\n    </tr>\n    <tr>\n      <th>2020-05-17 20:10:48.700</th>\n      <td>a9df8305-e4ed-4530-ab78-e1aa3ca9ffbd</td>\n      <td>0</td>\n      <td>-2.987396</td>\n      <td>10.203339</td>\n      <td>1.291458</td>\n      <td>-22.921991</td>\n      <td>-42.473372</td>\n    </tr>\n    <tr>\n      <th>2020-05-17 20:10:48.800</th>\n      <td>74dedc33-8d9b-4aa6-a352-df1ee9364ed7</td>\n      <td>0</td>\n      <td>-4.376038</td>\n      <td>9.746048</td>\n      <td>1.806213</td>\n      <td>-22.921991</td>\n      <td>-42.473372</td>\n    </tr>\n    <tr>\n      <th>...</th>\n      <td>...</td>\n      <td>...</td>\n      <td>...</td>\n      <td>...</td>\n      <td>...</td>\n      <td>...</td>\n      <td>...</td>\n    </tr>\n    <tr>\n      <th>2020-05-17 20:35:51.100</th>\n      <td>72df7adf-cb5f-4f91-b76d-f08fa6da21ed</td>\n      <td>0</td>\n      <td>-0.700928</td>\n      <td>9.250443</td>\n      <td>1.770294</td>\n      <td>-22.925816</td>\n      <td>-42.484631</td>\n    </tr>\n    <tr>\n      <th>2020-05-17 20:35:51.200</th>\n      <td>0f15d4aa-c4c3-40ba-9d1f-1746e938a5eb</td>\n      <td>0</td>\n      <td>0.386032</td>\n      <td>10.105179</td>\n      <td>1.660172</td>\n      <td>-22.925816</td>\n      <td>-42.484631</td>\n    </tr>\n    <tr>\n      <th>2020-05-17 20:35:51.300</th>\n      <td>c044a484-bb8b-421b-8cc8-a6ad4713e28f</td>\n      <td>0</td>\n      <td>-1.378494</td>\n      <td>9.920822</td>\n      <td>2.608276</td>\n      <td>-22.925816</td>\n      <td>-42.484631</td>\n    </tr>\n    <tr>\n      <th>2020-05-17 20:35:51.400</th>\n      <td>c9d94f9a-6211-4198-b39b-70db0ef2e890</td>\n      <td>0</td>\n      <td>-1.215683</td>\n      <td>9.523392</td>\n      <td>2.505325</td>\n      <td>-22.925816</td>\n      <td>-42.484631</td>\n    </tr>\n    <tr>\n      <th>2020-05-17 20:35:51.500</th>\n      <td>2fa87037-71b8-42e0-bd89-64bff33cfead</td>\n      <td>0</td>\n      <td>-0.435181</td>\n      <td>8.999054</td>\n      <td>2.871628</td>\n      <td>-22.925816</td>\n      <td>-42.484631</td>\n    </tr>\n  </tbody>\n</table>\n<p>15032 rows × 7 columns</p>\n</div>"
     },
     "metadata": {},
     "execution_count": 30
    }
   ],
   "source": [
    "df"
   ]
  },
  {
   "cell_type": "code",
   "execution_count": 31,
   "metadata": {},
   "outputs": [
    {
     "output_type": "execute_result",
     "data": {
      "text/plain": "0    14978\n1       45\n2        9\nName: speed_bump_id, dtype: int64"
     },
     "metadata": {},
     "execution_count": 31
    }
   ],
   "source": [
    "df.speed_bump_id.value_counts()"
   ]
  },
  {
   "cell_type": "markdown",
   "metadata": {},
   "source": [
    "## Remove colunas desnecessárias"
   ]
  },
  {
   "cell_type": "code",
   "execution_count": 32,
   "metadata": {},
   "outputs": [],
   "source": [
    "df_out = drop_unnecessary_columns(df, columns=output_config['remove_columns'])"
   ]
  },
  {
   "cell_type": "code",
   "execution_count": 33,
   "metadata": {},
   "outputs": [
    {
     "output_type": "execute_result",
     "data": {
      "text/plain": "                         speed_bump_id          y         z        lat  \\\ntimestamp                                                                \n2020-05-17 20:10:48.400              0   9.516205  1.573975 -22.921991   \n2020-05-17 20:10:48.500              0   9.516205  1.573975 -22.921991   \n2020-05-17 20:10:48.600              0  10.203339  1.291458 -22.921991   \n2020-05-17 20:10:48.700              0  10.203339  1.291458 -22.921991   \n2020-05-17 20:10:48.800              0   9.746048  1.806213 -22.921991   \n...                                ...        ...       ...        ...   \n2020-05-17 20:35:51.100              0   9.250443  1.770294 -22.925816   \n2020-05-17 20:35:51.200              0  10.105179  1.660172 -22.925816   \n2020-05-17 20:35:51.300              0   9.920822  2.608276 -22.925816   \n2020-05-17 20:35:51.400              0   9.523392  2.505325 -22.925816   \n2020-05-17 20:35:51.500              0   8.999054  2.871628 -22.925816   \n\n                               lng  \ntimestamp                           \n2020-05-17 20:10:48.400 -42.473372  \n2020-05-17 20:10:48.500 -42.473372  \n2020-05-17 20:10:48.600 -42.473372  \n2020-05-17 20:10:48.700 -42.473372  \n2020-05-17 20:10:48.800 -42.473372  \n...                            ...  \n2020-05-17 20:35:51.100 -42.484631  \n2020-05-17 20:35:51.200 -42.484631  \n2020-05-17 20:35:51.300 -42.484631  \n2020-05-17 20:35:51.400 -42.484631  \n2020-05-17 20:35:51.500 -42.484631  \n\n[15032 rows x 5 columns]",
      "text/html": "<div>\n<style scoped>\n    .dataframe tbody tr th:only-of-type {\n        vertical-align: middle;\n    }\n\n    .dataframe tbody tr th {\n        vertical-align: top;\n    }\n\n    .dataframe thead th {\n        text-align: right;\n    }\n</style>\n<table border=\"1\" class=\"dataframe\">\n  <thead>\n    <tr style=\"text-align: right;\">\n      <th></th>\n      <th>speed_bump_id</th>\n      <th>y</th>\n      <th>z</th>\n      <th>lat</th>\n      <th>lng</th>\n    </tr>\n    <tr>\n      <th>timestamp</th>\n      <th></th>\n      <th></th>\n      <th></th>\n      <th></th>\n      <th></th>\n    </tr>\n  </thead>\n  <tbody>\n    <tr>\n      <th>2020-05-17 20:10:48.400</th>\n      <td>0</td>\n      <td>9.516205</td>\n      <td>1.573975</td>\n      <td>-22.921991</td>\n      <td>-42.473372</td>\n    </tr>\n    <tr>\n      <th>2020-05-17 20:10:48.500</th>\n      <td>0</td>\n      <td>9.516205</td>\n      <td>1.573975</td>\n      <td>-22.921991</td>\n      <td>-42.473372</td>\n    </tr>\n    <tr>\n      <th>2020-05-17 20:10:48.600</th>\n      <td>0</td>\n      <td>10.203339</td>\n      <td>1.291458</td>\n      <td>-22.921991</td>\n      <td>-42.473372</td>\n    </tr>\n    <tr>\n      <th>2020-05-17 20:10:48.700</th>\n      <td>0</td>\n      <td>10.203339</td>\n      <td>1.291458</td>\n      <td>-22.921991</td>\n      <td>-42.473372</td>\n    </tr>\n    <tr>\n      <th>2020-05-17 20:10:48.800</th>\n      <td>0</td>\n      <td>9.746048</td>\n      <td>1.806213</td>\n      <td>-22.921991</td>\n      <td>-42.473372</td>\n    </tr>\n    <tr>\n      <th>...</th>\n      <td>...</td>\n      <td>...</td>\n      <td>...</td>\n      <td>...</td>\n      <td>...</td>\n    </tr>\n    <tr>\n      <th>2020-05-17 20:35:51.100</th>\n      <td>0</td>\n      <td>9.250443</td>\n      <td>1.770294</td>\n      <td>-22.925816</td>\n      <td>-42.484631</td>\n    </tr>\n    <tr>\n      <th>2020-05-17 20:35:51.200</th>\n      <td>0</td>\n      <td>10.105179</td>\n      <td>1.660172</td>\n      <td>-22.925816</td>\n      <td>-42.484631</td>\n    </tr>\n    <tr>\n      <th>2020-05-17 20:35:51.300</th>\n      <td>0</td>\n      <td>9.920822</td>\n      <td>2.608276</td>\n      <td>-22.925816</td>\n      <td>-42.484631</td>\n    </tr>\n    <tr>\n      <th>2020-05-17 20:35:51.400</th>\n      <td>0</td>\n      <td>9.523392</td>\n      <td>2.505325</td>\n      <td>-22.925816</td>\n      <td>-42.484631</td>\n    </tr>\n    <tr>\n      <th>2020-05-17 20:35:51.500</th>\n      <td>0</td>\n      <td>8.999054</td>\n      <td>2.871628</td>\n      <td>-22.925816</td>\n      <td>-42.484631</td>\n    </tr>\n  </tbody>\n</table>\n<p>15032 rows × 5 columns</p>\n</div>"
     },
     "metadata": {},
     "execution_count": 33
    }
   ],
   "source": [
    "df_out"
   ]
  },
  {
   "cell_type": "markdown",
   "metadata": {},
   "source": [
    "## Remove speed_bumps de id 2 (\"passarela alta\")"
   ]
  },
  {
   "cell_type": "code",
   "execution_count": 34,
   "metadata": {},
   "outputs": [],
   "source": [
    "df_out = drop_unnecessary_speed_bumps(df_out, speed_bump_id=2)"
   ]
  },
  {
   "cell_type": "code",
   "execution_count": 35,
   "metadata": {},
   "outputs": [
    {
     "output_type": "execute_result",
     "data": {
      "text/plain": "0    14078\n1       45\nName: speed_bump_id, dtype: int64"
     },
     "metadata": {},
     "execution_count": 35
    }
   ],
   "source": [
    "df_out.speed_bump_id.value_counts()"
   ]
  },
  {
   "cell_type": "markdown",
   "metadata": {},
   "source": [
    "## Salva o dataframe de saída"
   ]
  },
  {
   "cell_type": "code",
   "execution_count": 36,
   "metadata": {},
   "outputs": [
    {
     "output_type": "stream",
     "name": "stdout",
     "text": "O arquivo ./out/3_export_lunar_20200517.csv foi gerado!\n"
    }
   ],
   "source": [
    "out_filename = file_manipulator.get_out_filename(output_config['file']['prefix'], output_config['file']['ref_dir'], input_config['file']['filename'])\n",
    "\n",
    "df_out.to_csv(out_filename, sep=output_config['file']['delimiter'], header=output_config['file']['with_header'])\n",
    "\n",
    "print(f'O arquivo {out_filename} foi gerado!')"
   ]
  },
  {
   "cell_type": "code",
   "execution_count": null,
   "metadata": {},
   "outputs": [],
   "source": []
  }
 ],
 "metadata": {
  "language_info": {
   "codemirror_mode": {
    "name": "ipython",
    "version": 3
   },
   "file_extension": ".py",
   "mimetype": "text/x-python",
   "name": "python",
   "nbconvert_exporter": "python",
   "pygments_lexer": "ipython3",
   "version": "3.6.9-final"
  },
  "orig_nbformat": 2,
  "kernelspec": {
   "name": "python36964bitvenvvenv15842a2001b14e7c9614d80f05b24238",
   "display_name": "Python 3.6.9 64-bit ('.venv': venv)"
  }
 },
 "nbformat": 4,
 "nbformat_minor": 2
}